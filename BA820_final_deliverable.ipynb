{
  "nbformat": 4,
  "nbformat_minor": 0,
  "metadata": {
    "colab": {
      "name": "BA820 final deliverable.ipynb",
      "provenance": [],
      "toc_visible": true
    },
    "kernelspec": {
      "display_name": "Python 3",
      "language": "python",
      "name": "python3"
    },
    "language_info": {
      "codemirror_mode": {
        "name": "ipython",
        "version": 3
      },
      "file_extension": ".py",
      "mimetype": "text/x-python",
      "name": "python",
      "nbconvert_exporter": "python",
      "pygments_lexer": "ipython3",
      "version": "3.7.6"
    }
  },
  "cells": [
    {
      "cell_type": "markdown",
      "metadata": {
        "id": "4FLitclU4kCM"
      },
      "source": [
        "#Intro\r\n"
      ]
    },
    {
      "cell_type": "markdown",
      "metadata": {
        "id": "2GFn8iy94q87"
      },
      "source": [
        "For our project, we decided to take the perspective of a consulting company marketing services to nursing homes. Our goal was to use unsupervised learning and text analysis to identify distinct segments of customers, and develop unique marketing strategies for different groups.\r\n",
        "\r\n",
        "Dataset\r\n",
        "Our primary dataset is the Centers for Medicare and Medicaid Services (CMS) Nursing Home Inspection data. It contains 18 tables containing a variety of information on over 15,000 US nursing homes. Our analysis focuses on one particular table “Provider Info”, which contains aggregated annual figures for all nursing homes in the dataset. \r\n",
        "\r\n",
        "\r\n"
      ]
    },
    {
      "cell_type": "markdown",
      "metadata": {
        "id": "qlTvtpmDIqNt"
      },
      "source": [
        "Caring.com website for reviews:\r\n",
        "\r\n",
        "https://www.caring.com/senior-living/nursing-homes/ohio/akron\r\n",
        "\r\n",
        "Data:\r\n",
        "\r\n",
        "https://data.cms.gov/provider-data/search?theme=Nursing%20homes%20including%20rehab%20services\r\n",
        "\r\n",
        "Quality Rating Doc:\r\n",
        "\r\n",
        ">short \r\n",
        "\r\n",
        "https://www.cms.gov/Medicare/Provider-Enrollment-and-Certification/CertificationandComplianc/Downloads/consumerfactsheet.pdf\r\n",
        "\r\n",
        "> long\r\n",
        "\r\n",
        "https://www.cms.gov/Medicare/Provider-Enrollment-and-Certification/CertificationandComplianc/Downloads/usersguide.pdf"
      ]
    },
    {
      "cell_type": "markdown",
      "metadata": {
        "id": "FBDMGTsNtjIr"
      },
      "source": [
        ""
      ]
    },
    {
      "cell_type": "code",
      "metadata": {
        "colab": {
          "base_uri": "https://localhost:8080/"
        },
        "id": "Dj6RbCMcZDhB",
        "outputId": "724027f7-dbea-424b-c370-cdff54be2c0a"
      },
      "source": [
        "! pip install scikit-plot"
      ],
      "execution_count": null,
      "outputs": [
        {
          "output_type": "stream",
          "text": [
            "Collecting scikit-plot\n",
            "  Downloading https://files.pythonhosted.org/packages/7c/47/32520e259340c140a4ad27c1b97050dd3254fdc517b1d59974d47037510e/scikit_plot-0.3.7-py3-none-any.whl\n",
            "Requirement already satisfied: joblib>=0.10 in /usr/local/lib/python3.7/dist-packages (from scikit-plot) (1.0.1)\n",
            "Requirement already satisfied: scipy>=0.9 in /usr/local/lib/python3.7/dist-packages (from scikit-plot) (1.4.1)\n",
            "Requirement already satisfied: scikit-learn>=0.18 in /usr/local/lib/python3.7/dist-packages (from scikit-plot) (0.22.2.post1)\n",
            "Requirement already satisfied: matplotlib>=1.4.0 in /usr/local/lib/python3.7/dist-packages (from scikit-plot) (3.2.2)\n",
            "Requirement already satisfied: numpy>=1.13.3 in /usr/local/lib/python3.7/dist-packages (from scipy>=0.9->scikit-plot) (1.19.5)\n",
            "Requirement already satisfied: kiwisolver>=1.0.1 in /usr/local/lib/python3.7/dist-packages (from matplotlib>=1.4.0->scikit-plot) (1.3.1)\n",
            "Requirement already satisfied: python-dateutil>=2.1 in /usr/local/lib/python3.7/dist-packages (from matplotlib>=1.4.0->scikit-plot) (2.8.1)\n",
            "Requirement already satisfied: pyparsing!=2.0.4,!=2.1.2,!=2.1.6,>=2.0.1 in /usr/local/lib/python3.7/dist-packages (from matplotlib>=1.4.0->scikit-plot) (2.4.7)\n",
            "Requirement already satisfied: cycler>=0.10 in /usr/local/lib/python3.7/dist-packages (from matplotlib>=1.4.0->scikit-plot) (0.10.0)\n",
            "Requirement already satisfied: six>=1.5 in /usr/local/lib/python3.7/dist-packages (from python-dateutil>=2.1->matplotlib>=1.4.0->scikit-plot) (1.15.0)\n",
            "Installing collected packages: scikit-plot\n",
            "Successfully installed scikit-plot-0.3.7\n"
          ],
          "name": "stdout"
        }
      ]
    },
    {
      "cell_type": "code",
      "metadata": {
        "id": "ujDeuo9hIqN-"
      },
      "source": [
        "import numpy as np\n",
        "import pandas as pd\n",
        "import seaborn as sns\n",
        "import matplotlib.pyplot as plt\n",
        "\n",
        "from scipy.cluster.hierarchy import linkage, dendrogram, fcluster\n",
        "from scipy.spatial.distance import pdist, squareform\n",
        "\n",
        "from sklearn.metrics import pairwise_distances \n",
        "from sklearn.preprocessing import StandardScaler\n",
        "from sklearn.cluster import KMeans\n",
        "from sklearn.decomposition import PCA\n",
        "from sklearn.preprocessing import MinMaxScaler, StandardScaler\n",
        "from sklearn.manifold import MDS\n",
        "from sklearn.manifold import TSNE\n",
        "from sklearn import metrics\n",
        "\n",
        "import scikitplot as skplt"
      ],
      "execution_count": null,
      "outputs": []
    },
    {
      "cell_type": "code",
      "metadata": {
        "id": "mJGwOIbzAfst"
      },
      "source": [
        "import random\r\n",
        "random.seed(820)"
      ],
      "execution_count": null,
      "outputs": []
    },
    {
      "cell_type": "markdown",
      "metadata": {
        "id": "TsUFbhuksNv6"
      },
      "source": [
        "# EDA/Pre-Processing"
      ]
    },
    {
      "cell_type": "code",
      "metadata": {
        "colab": {
          "base_uri": "https://localhost:8080/",
          "height": 630
        },
        "id": "x8ZFPdZuIqOB",
        "outputId": "4f4db3e8-57b9-4578-adff-d09e1f5de1cf"
      },
      "source": [
        "df = pd.read_csv('https://data.cms.gov/provider-data/sites/default/files/resources/ebad0df2291a5d8ced7b370f8bb1eddf_1613016319/NH_ProviderInfo_Feb2021.csv',encoding='cp1252')\n",
        "df.head()"
      ],
      "execution_count": null,
      "outputs": [
        {
          "output_type": "execute_result",
          "data": {
            "text/html": [
              "<div>\n",
              "<style scoped>\n",
              "    .dataframe tbody tr th:only-of-type {\n",
              "        vertical-align: middle;\n",
              "    }\n",
              "\n",
              "    .dataframe tbody tr th {\n",
              "        vertical-align: top;\n",
              "    }\n",
              "\n",
              "    .dataframe thead th {\n",
              "        text-align: right;\n",
              "    }\n",
              "</style>\n",
              "<table border=\"1\" class=\"dataframe\">\n",
              "  <thead>\n",
              "    <tr style=\"text-align: right;\">\n",
              "      <th></th>\n",
              "      <th>Federal Provider Number</th>\n",
              "      <th>Provider Name</th>\n",
              "      <th>Provider Address</th>\n",
              "      <th>Provider City</th>\n",
              "      <th>Provider State</th>\n",
              "      <th>Provider Zip Code</th>\n",
              "      <th>Provider Phone Number</th>\n",
              "      <th>Provider SSA County Code</th>\n",
              "      <th>Provider County Name</th>\n",
              "      <th>Ownership Type</th>\n",
              "      <th>Number of Certified Beds</th>\n",
              "      <th>Average Number of Residents per Day</th>\n",
              "      <th>Average Number of Residents per Day Footnote</th>\n",
              "      <th>Provider Type</th>\n",
              "      <th>Provider Resides in Hospital</th>\n",
              "      <th>Legal Business Name</th>\n",
              "      <th>Date First Approved to Provide Medicare and Medicaid Services</th>\n",
              "      <th>Continuing Care Retirement Community</th>\n",
              "      <th>Special Focus Status</th>\n",
              "      <th>Abuse Icon</th>\n",
              "      <th>Most Recent Health Inspection More Than 2 Years Ago</th>\n",
              "      <th>Provider Changed Ownership in Last 12 Months</th>\n",
              "      <th>With a Resident and Family Council</th>\n",
              "      <th>Automatic Sprinkler Systems in All Required Areas</th>\n",
              "      <th>Overall Rating</th>\n",
              "      <th>Overall Rating Footnote</th>\n",
              "      <th>Health Inspection Rating</th>\n",
              "      <th>Health Inspection Rating Footnote</th>\n",
              "      <th>QM Rating</th>\n",
              "      <th>QM Rating Footnote</th>\n",
              "      <th>Long-Stay QM Rating</th>\n",
              "      <th>Long-Stay QM Rating Footnote</th>\n",
              "      <th>Short-Stay QM Rating</th>\n",
              "      <th>Short-Stay QM Rating Footnote</th>\n",
              "      <th>Staffing Rating</th>\n",
              "      <th>Staffing Rating Footnote</th>\n",
              "      <th>RN Staffing Rating</th>\n",
              "      <th>RN Staffing Rating Footnote</th>\n",
              "      <th>Reported Staffing Footnote</th>\n",
              "      <th>Physical Therapist Staffing Footnote</th>\n",
              "      <th>...</th>\n",
              "      <th>Case-Mix RN Staffing Hours per Resident per Day</th>\n",
              "      <th>Case-Mix Total Nurse Staffing Hours per Resident per Day</th>\n",
              "      <th>Adjusted Nurse Aide Staffing Hours per Resident per Day</th>\n",
              "      <th>Adjusted LPN Staffing Hours per Resident per Day</th>\n",
              "      <th>Adjusted RN Staffing Hours per Resident per Day</th>\n",
              "      <th>Adjusted Total Nurse Staffing Hours per Resident per Day</th>\n",
              "      <th>Rating Cycle 1 Standard Survey Health Date</th>\n",
              "      <th>Rating Cycle 1 Total Number of Health Deficiencies</th>\n",
              "      <th>Rating Cycle 1 Number of Standard Health Deficiencies</th>\n",
              "      <th>Rating Cycle 1 Number of Complaint Health Deficiencies</th>\n",
              "      <th>Rating Cycle 1 Health Deficiency Score</th>\n",
              "      <th>Rating Cycle 1 Number of Health Revisits</th>\n",
              "      <th>Rating Cycle 1 Health Revisit Score</th>\n",
              "      <th>Rating Cycle 1 Total Health Score</th>\n",
              "      <th>Rating Cycle 2 Standard Health Survey Date</th>\n",
              "      <th>Rating Cycle 2 Total Number of Health Deficiencies</th>\n",
              "      <th>Rating Cycle 2 Number of Standard Health Deficiencies</th>\n",
              "      <th>Rating Cycle 2 Number of Complaint Health Deficiencies</th>\n",
              "      <th>Rating Cycle 2 Health Deficiency Score</th>\n",
              "      <th>Rating Cycle 2 Number of Health Revisits</th>\n",
              "      <th>Rating Cycle 2 Health Revisit Score</th>\n",
              "      <th>Rating Cycle 2 Total Health Score</th>\n",
              "      <th>Rating Cycle 3 Standard Health Survey Date</th>\n",
              "      <th>Rating Cycle 3 Total Number of Health Deficiencies</th>\n",
              "      <th>Rating Cycle 3 Number of Standard Health Deficiencies</th>\n",
              "      <th>Rating Cycle 3 Number of Complaint Health Deficiencies</th>\n",
              "      <th>Rating Cycle 3 Health Deficiency Score</th>\n",
              "      <th>Rating Cycle 3 Number of Health Revisits</th>\n",
              "      <th>Rating Cycle 3 Health Revisit Score</th>\n",
              "      <th>Rating Cycle 3 Total Health Score</th>\n",
              "      <th>Total Weighted Health Survey Score</th>\n",
              "      <th>Number of Facility Reported Incidents</th>\n",
              "      <th>Number of Substantiated Complaints</th>\n",
              "      <th>Number of Citations from Infection Control Inspections</th>\n",
              "      <th>Number of Fines</th>\n",
              "      <th>Total Amount of Fines in Dollars</th>\n",
              "      <th>Number of Payment Denials</th>\n",
              "      <th>Total Number of Penalties</th>\n",
              "      <th>Location</th>\n",
              "      <th>Processing Date</th>\n",
              "    </tr>\n",
              "  </thead>\n",
              "  <tbody>\n",
              "    <tr>\n",
              "      <th>0</th>\n",
              "      <td>015009</td>\n",
              "      <td>BURNS NURSING HOME, INC.</td>\n",
              "      <td>701 MONROE STREET NW</td>\n",
              "      <td>RUSSELLVILLE</td>\n",
              "      <td>AL</td>\n",
              "      <td>35653</td>\n",
              "      <td>2563324110</td>\n",
              "      <td>290</td>\n",
              "      <td>Franklin</td>\n",
              "      <td>For profit - Corporation</td>\n",
              "      <td>57</td>\n",
              "      <td>51.8</td>\n",
              "      <td>NaN</td>\n",
              "      <td>Medicare and Medicaid</td>\n",
              "      <td>N</td>\n",
              "      <td>BURNS NURSING HOME, INC.</td>\n",
              "      <td>1969-09-01</td>\n",
              "      <td>N</td>\n",
              "      <td>NaN</td>\n",
              "      <td>N</td>\n",
              "      <td>N</td>\n",
              "      <td>N</td>\n",
              "      <td>Both</td>\n",
              "      <td>Yes</td>\n",
              "      <td>5.0</td>\n",
              "      <td>NaN</td>\n",
              "      <td>5.0</td>\n",
              "      <td>NaN</td>\n",
              "      <td>5.0</td>\n",
              "      <td>NaN</td>\n",
              "      <td>4.0</td>\n",
              "      <td>NaN</td>\n",
              "      <td>5.0</td>\n",
              "      <td>NaN</td>\n",
              "      <td>4.0</td>\n",
              "      <td>NaN</td>\n",
              "      <td>4.0</td>\n",
              "      <td>NaN</td>\n",
              "      <td>NaN</td>\n",
              "      <td>NaN</td>\n",
              "      <td>...</td>\n",
              "      <td>0.35980</td>\n",
              "      <td>3.25651</td>\n",
              "      <td>2.50041</td>\n",
              "      <td>0.84582</td>\n",
              "      <td>0.93430</td>\n",
              "      <td>4.23509</td>\n",
              "      <td>2019-08-21</td>\n",
              "      <td>2</td>\n",
              "      <td>2</td>\n",
              "      <td>0</td>\n",
              "      <td>8</td>\n",
              "      <td>1</td>\n",
              "      <td>0</td>\n",
              "      <td>8</td>\n",
              "      <td>2018-08-01</td>\n",
              "      <td>1</td>\n",
              "      <td>1</td>\n",
              "      <td>0</td>\n",
              "      <td>4</td>\n",
              "      <td>1</td>\n",
              "      <td>0</td>\n",
              "      <td>4</td>\n",
              "      <td>2017-06-22</td>\n",
              "      <td>0</td>\n",
              "      <td>0</td>\n",
              "      <td>0</td>\n",
              "      <td>0</td>\n",
              "      <td>0</td>\n",
              "      <td>0</td>\n",
              "      <td>0</td>\n",
              "      <td>5.333</td>\n",
              "      <td>0</td>\n",
              "      <td>0</td>\n",
              "      <td>0.0</td>\n",
              "      <td>0</td>\n",
              "      <td>0</td>\n",
              "      <td>0</td>\n",
              "      <td>0</td>\n",
              "      <td>701 MONROE STREET NW,RUSSELLVILLE,AL,35653</td>\n",
              "      <td>2021-02-01</td>\n",
              "    </tr>\n",
              "    <tr>\n",
              "      <th>1</th>\n",
              "      <td>015010</td>\n",
              "      <td>COOSA VALLEY HEALTHCARE CENTER</td>\n",
              "      <td>260 WEST WALNUT STREET</td>\n",
              "      <td>SYLACAUGA</td>\n",
              "      <td>AL</td>\n",
              "      <td>35150</td>\n",
              "      <td>2562495604</td>\n",
              "      <td>600</td>\n",
              "      <td>Talladega</td>\n",
              "      <td>For profit - Corporation</td>\n",
              "      <td>85</td>\n",
              "      <td>72.1</td>\n",
              "      <td>NaN</td>\n",
              "      <td>Medicare and Medicaid</td>\n",
              "      <td>N</td>\n",
              "      <td>COOSA VALLEY HEALTHCARE CENTER LLC</td>\n",
              "      <td>1967-01-01</td>\n",
              "      <td>N</td>\n",
              "      <td>NaN</td>\n",
              "      <td>N</td>\n",
              "      <td>N</td>\n",
              "      <td>N</td>\n",
              "      <td>Both</td>\n",
              "      <td>Yes</td>\n",
              "      <td>4.0</td>\n",
              "      <td>NaN</td>\n",
              "      <td>3.0</td>\n",
              "      <td>NaN</td>\n",
              "      <td>4.0</td>\n",
              "      <td>NaN</td>\n",
              "      <td>2.0</td>\n",
              "      <td>NaN</td>\n",
              "      <td>5.0</td>\n",
              "      <td>NaN</td>\n",
              "      <td>5.0</td>\n",
              "      <td>NaN</td>\n",
              "      <td>5.0</td>\n",
              "      <td>NaN</td>\n",
              "      <td>NaN</td>\n",
              "      <td>NaN</td>\n",
              "      <td>...</td>\n",
              "      <td>0.27134</td>\n",
              "      <td>2.86995</td>\n",
              "      <td>3.10041</td>\n",
              "      <td>1.02657</td>\n",
              "      <td>1.47042</td>\n",
              "      <td>5.39346</td>\n",
              "      <td>2019-06-13</td>\n",
              "      <td>1</td>\n",
              "      <td>1</td>\n",
              "      <td>0</td>\n",
              "      <td>4</td>\n",
              "      <td>1</td>\n",
              "      <td>0</td>\n",
              "      <td>4</td>\n",
              "      <td>2018-06-07</td>\n",
              "      <td>4</td>\n",
              "      <td>4</td>\n",
              "      <td>0</td>\n",
              "      <td>32</td>\n",
              "      <td>1</td>\n",
              "      <td>0</td>\n",
              "      <td>32</td>\n",
              "      <td>2017-04-06</td>\n",
              "      <td>7</td>\n",
              "      <td>7</td>\n",
              "      <td>0</td>\n",
              "      <td>36</td>\n",
              "      <td>1</td>\n",
              "      <td>0</td>\n",
              "      <td>36</td>\n",
              "      <td>18.667</td>\n",
              "      <td>0</td>\n",
              "      <td>0</td>\n",
              "      <td>0.0</td>\n",
              "      <td>1</td>\n",
              "      <td>650</td>\n",
              "      <td>0</td>\n",
              "      <td>1</td>\n",
              "      <td>260 WEST WALNUT STREET,SYLACAUGA,AL,35150</td>\n",
              "      <td>2021-02-01</td>\n",
              "    </tr>\n",
              "    <tr>\n",
              "      <th>2</th>\n",
              "      <td>015012</td>\n",
              "      <td>HIGHLANDS HEALTH AND REHAB</td>\n",
              "      <td>380 WOODS COVE ROAD</td>\n",
              "      <td>SCOTTSBORO</td>\n",
              "      <td>AL</td>\n",
              "      <td>35768</td>\n",
              "      <td>2562183708</td>\n",
              "      <td>350</td>\n",
              "      <td>Jackson</td>\n",
              "      <td>Government - County</td>\n",
              "      <td>50</td>\n",
              "      <td>41.3</td>\n",
              "      <td>NaN</td>\n",
              "      <td>Medicare and Medicaid</td>\n",
              "      <td>Y</td>\n",
              "      <td>JACKSON COUNTY HEALTH CARE AUTHORITY</td>\n",
              "      <td>1967-01-01</td>\n",
              "      <td>N</td>\n",
              "      <td>NaN</td>\n",
              "      <td>N</td>\n",
              "      <td>N</td>\n",
              "      <td>N</td>\n",
              "      <td>Resident</td>\n",
              "      <td>Yes</td>\n",
              "      <td>3.0</td>\n",
              "      <td>NaN</td>\n",
              "      <td>2.0</td>\n",
              "      <td>NaN</td>\n",
              "      <td>3.0</td>\n",
              "      <td>NaN</td>\n",
              "      <td>2.0</td>\n",
              "      <td>NaN</td>\n",
              "      <td>3.0</td>\n",
              "      <td>NaN</td>\n",
              "      <td>5.0</td>\n",
              "      <td>NaN</td>\n",
              "      <td>5.0</td>\n",
              "      <td>NaN</td>\n",
              "      <td>NaN</td>\n",
              "      <td>NaN</td>\n",
              "      <td>...</td>\n",
              "      <td>0.36758</td>\n",
              "      <td>3.28875</td>\n",
              "      <td>2.80584</td>\n",
              "      <td>0.58494</td>\n",
              "      <td>1.30336</td>\n",
              "      <td>4.63492</td>\n",
              "      <td>2019-06-06</td>\n",
              "      <td>2</td>\n",
              "      <td>2</td>\n",
              "      <td>0</td>\n",
              "      <td>20</td>\n",
              "      <td>1</td>\n",
              "      <td>0</td>\n",
              "      <td>20</td>\n",
              "      <td>2018-05-03</td>\n",
              "      <td>4</td>\n",
              "      <td>4</td>\n",
              "      <td>0</td>\n",
              "      <td>40</td>\n",
              "      <td>1</td>\n",
              "      <td>0</td>\n",
              "      <td>40</td>\n",
              "      <td>2017-03-16</td>\n",
              "      <td>5</td>\n",
              "      <td>5</td>\n",
              "      <td>0</td>\n",
              "      <td>44</td>\n",
              "      <td>1</td>\n",
              "      <td>0</td>\n",
              "      <td>44</td>\n",
              "      <td>30.667</td>\n",
              "      <td>0</td>\n",
              "      <td>0</td>\n",
              "      <td>0.0</td>\n",
              "      <td>0</td>\n",
              "      <td>0</td>\n",
              "      <td>0</td>\n",
              "      <td>0</td>\n",
              "      <td>380 WOODS COVE ROAD,SCOTTSBORO,AL,35768</td>\n",
              "      <td>2021-02-01</td>\n",
              "    </tr>\n",
              "    <tr>\n",
              "      <th>3</th>\n",
              "      <td>015014</td>\n",
              "      <td>EASTVIEW REHABILITATION &amp; HEALTHCARE CENTER</td>\n",
              "      <td>7755 FOURTH AVENUE SOUTH</td>\n",
              "      <td>BIRMINGHAM</td>\n",
              "      <td>AL</td>\n",
              "      <td>35206</td>\n",
              "      <td>2058330146</td>\n",
              "      <td>360</td>\n",
              "      <td>Jefferson</td>\n",
              "      <td>For profit - Individual</td>\n",
              "      <td>92</td>\n",
              "      <td>71.8</td>\n",
              "      <td>NaN</td>\n",
              "      <td>Medicare and Medicaid</td>\n",
              "      <td>N</td>\n",
              "      <td>BALL HEALTHCARE EASTVIEW INC</td>\n",
              "      <td>1967-01-01</td>\n",
              "      <td>N</td>\n",
              "      <td>NaN</td>\n",
              "      <td>N</td>\n",
              "      <td>N</td>\n",
              "      <td>N</td>\n",
              "      <td>Both</td>\n",
              "      <td>Yes</td>\n",
              "      <td>3.0</td>\n",
              "      <td>NaN</td>\n",
              "      <td>4.0</td>\n",
              "      <td>NaN</td>\n",
              "      <td>1.0</td>\n",
              "      <td>NaN</td>\n",
              "      <td>1.0</td>\n",
              "      <td>NaN</td>\n",
              "      <td>1.0</td>\n",
              "      <td>NaN</td>\n",
              "      <td>4.0</td>\n",
              "      <td>NaN</td>\n",
              "      <td>4.0</td>\n",
              "      <td>NaN</td>\n",
              "      <td>NaN</td>\n",
              "      <td>NaN</td>\n",
              "      <td>...</td>\n",
              "      <td>0.33478</td>\n",
              "      <td>2.97890</td>\n",
              "      <td>2.45470</td>\n",
              "      <td>0.84767</td>\n",
              "      <td>0.82819</td>\n",
              "      <td>4.10010</td>\n",
              "      <td>2020-02-20</td>\n",
              "      <td>1</td>\n",
              "      <td>1</td>\n",
              "      <td>0</td>\n",
              "      <td>4</td>\n",
              "      <td>1</td>\n",
              "      <td>0</td>\n",
              "      <td>4</td>\n",
              "      <td>2019-01-24</td>\n",
              "      <td>2</td>\n",
              "      <td>2</td>\n",
              "      <td>0</td>\n",
              "      <td>20</td>\n",
              "      <td>1</td>\n",
              "      <td>0</td>\n",
              "      <td>20</td>\n",
              "      <td>2018-01-25</td>\n",
              "      <td>6</td>\n",
              "      <td>6</td>\n",
              "      <td>0</td>\n",
              "      <td>24</td>\n",
              "      <td>1</td>\n",
              "      <td>0</td>\n",
              "      <td>24</td>\n",
              "      <td>12.667</td>\n",
              "      <td>0</td>\n",
              "      <td>0</td>\n",
              "      <td>0.0</td>\n",
              "      <td>0</td>\n",
              "      <td>0</td>\n",
              "      <td>0</td>\n",
              "      <td>0</td>\n",
              "      <td>7755 FOURTH AVENUE SOUTH,BIRMINGHAM,AL,35206</td>\n",
              "      <td>2021-02-01</td>\n",
              "    </tr>\n",
              "    <tr>\n",
              "      <th>4</th>\n",
              "      <td>015015</td>\n",
              "      <td>PLANTATION MANOR NURSING HOME</td>\n",
              "      <td>6450 OLD TUSCALOOSA HIGHWAY</td>\n",
              "      <td>MC CALLA</td>\n",
              "      <td>AL</td>\n",
              "      <td>35111</td>\n",
              "      <td>2054776161</td>\n",
              "      <td>360</td>\n",
              "      <td>Jefferson</td>\n",
              "      <td>For profit - Individual</td>\n",
              "      <td>103</td>\n",
              "      <td>83.8</td>\n",
              "      <td>NaN</td>\n",
              "      <td>Medicare and Medicaid</td>\n",
              "      <td>N</td>\n",
              "      <td>C &amp; G HEALTHCARE SERVICES, INC.</td>\n",
              "      <td>1971-07-01</td>\n",
              "      <td>N</td>\n",
              "      <td>NaN</td>\n",
              "      <td>N</td>\n",
              "      <td>N</td>\n",
              "      <td>N</td>\n",
              "      <td>Resident</td>\n",
              "      <td>Yes</td>\n",
              "      <td>3.0</td>\n",
              "      <td>NaN</td>\n",
              "      <td>3.0</td>\n",
              "      <td>NaN</td>\n",
              "      <td>2.0</td>\n",
              "      <td>NaN</td>\n",
              "      <td>3.0</td>\n",
              "      <td>NaN</td>\n",
              "      <td>1.0</td>\n",
              "      <td>NaN</td>\n",
              "      <td>3.0</td>\n",
              "      <td>NaN</td>\n",
              "      <td>3.0</td>\n",
              "      <td>NaN</td>\n",
              "      <td>NaN</td>\n",
              "      <td>NaN</td>\n",
              "      <td>...</td>\n",
              "      <td>0.25398</td>\n",
              "      <td>2.75205</td>\n",
              "      <td>2.34272</td>\n",
              "      <td>1.08876</td>\n",
              "      <td>0.55041</td>\n",
              "      <td>3.95034</td>\n",
              "      <td>2020-03-05</td>\n",
              "      <td>2</td>\n",
              "      <td>2</td>\n",
              "      <td>2</td>\n",
              "      <td>20</td>\n",
              "      <td>1</td>\n",
              "      <td>0</td>\n",
              "      <td>20</td>\n",
              "      <td>2019-05-02</td>\n",
              "      <td>1</td>\n",
              "      <td>1</td>\n",
              "      <td>0</td>\n",
              "      <td>4</td>\n",
              "      <td>1</td>\n",
              "      <td>0</td>\n",
              "      <td>4</td>\n",
              "      <td>2018-04-19</td>\n",
              "      <td>7</td>\n",
              "      <td>7</td>\n",
              "      <td>0</td>\n",
              "      <td>28</td>\n",
              "      <td>1</td>\n",
              "      <td>0</td>\n",
              "      <td>28</td>\n",
              "      <td>16.000</td>\n",
              "      <td>0</td>\n",
              "      <td>1</td>\n",
              "      <td>0.0</td>\n",
              "      <td>2</td>\n",
              "      <td>29611</td>\n",
              "      <td>0</td>\n",
              "      <td>2</td>\n",
              "      <td>6450 OLD TUSCALOOSA HIGHWAY,MC CALLA,AL,35111</td>\n",
              "      <td>2021-02-01</td>\n",
              "    </tr>\n",
              "  </tbody>\n",
              "</table>\n",
              "<p>5 rows × 88 columns</p>\n",
              "</div>"
            ],
            "text/plain": [
              "  Federal Provider Number  ... Processing Date\n",
              "0                  015009  ...      2021-02-01\n",
              "1                  015010  ...      2021-02-01\n",
              "2                  015012  ...      2021-02-01\n",
              "3                  015014  ...      2021-02-01\n",
              "4                  015015  ...      2021-02-01\n",
              "\n",
              "[5 rows x 88 columns]"
            ]
          },
          "metadata": {
            "tags": []
          },
          "execution_count": 3
        }
      ]
    },
    {
      "cell_type": "code",
      "metadata": {
        "colab": {
          "base_uri": "https://localhost:8080/"
        },
        "id": "BWQAp0-7IqOD",
        "outputId": "55c78a62-2ed9-4320-d7ec-e69c7028f350"
      },
      "source": [
        "df.shape"
      ],
      "execution_count": null,
      "outputs": [
        {
          "output_type": "execute_result",
          "data": {
            "text/plain": [
              "(15331, 88)"
            ]
          },
          "metadata": {
            "tags": []
          },
          "execution_count": 5
        }
      ]
    },
    {
      "cell_type": "code",
      "metadata": {
        "colab": {
          "base_uri": "https://localhost:8080/"
        },
        "id": "O-jlyDIe_f_r",
        "outputId": "0279a17a-bf78-4ffd-aa00-321220bb9d9d"
      },
      "source": [
        "df.info()"
      ],
      "execution_count": null,
      "outputs": [
        {
          "output_type": "stream",
          "text": [
            "<class 'pandas.core.frame.DataFrame'>\n",
            "RangeIndex: 15331 entries, 0 to 15330\n",
            "Data columns (total 88 columns):\n",
            " #   Column                                                           Non-Null Count  Dtype  \n",
            "---  ------                                                           --------------  -----  \n",
            " 0   Federal Provider Number                                          15331 non-null  object \n",
            " 1   Provider Name                                                    15331 non-null  object \n",
            " 2   Provider Address                                                 15331 non-null  object \n",
            " 3   Provider City                                                    15331 non-null  object \n",
            " 4   Provider State                                                   15331 non-null  object \n",
            " 5   Provider Zip Code                                                15331 non-null  int64  \n",
            " 6   Provider Phone Number                                            15331 non-null  int64  \n",
            " 7   Provider SSA County Code                                         15331 non-null  int64  \n",
            " 8   Provider County Name                                             15331 non-null  object \n",
            " 9   Ownership Type                                                   15331 non-null  object \n",
            " 10  Number of Certified Beds                                         15331 non-null  int64  \n",
            " 11  Average Number of Residents per Day                              15270 non-null  float64\n",
            " 12  Average Number of Residents per Day Footnote                     61 non-null     float64\n",
            " 13  Provider Type                                                    15331 non-null  object \n",
            " 14  Provider Resides in Hospital                                     15331 non-null  object \n",
            " 15  Legal Business Name                                              15331 non-null  object \n",
            " 16  Date First Approved to Provide Medicare and Medicaid Services    15331 non-null  object \n",
            " 17  Continuing Care Retirement Community                             15331 non-null  object \n",
            " 18  Special Focus Status                                             522 non-null    object \n",
            " 19  Abuse Icon                                                       15331 non-null  object \n",
            " 20  Most Recent Health Inspection More Than 2 Years Ago              15331 non-null  object \n",
            " 21  Provider Changed Ownership in Last 12 Months                     15331 non-null  object \n",
            " 22  With a Resident and Family Council                               15331 non-null  object \n",
            " 23  Automatic Sprinkler Systems in All Required Areas                15331 non-null  object \n",
            " 24  Overall Rating                                                   15109 non-null  float64\n",
            " 25  Overall Rating Footnote                                          222 non-null    float64\n",
            " 26  Health Inspection Rating                                         15109 non-null  float64\n",
            " 27  Health Inspection Rating Footnote                                222 non-null    float64\n",
            " 28  QM Rating                                                        15088 non-null  float64\n",
            " 29  QM Rating Footnote                                               243 non-null    float64\n",
            " 30  Long-Stay QM Rating                                              14704 non-null  float64\n",
            " 31  Long-Stay QM Rating Footnote                                     627 non-null    float64\n",
            " 32  Short-Stay QM Rating                                             13225 non-null  float64\n",
            " 33  Short-Stay QM Rating Footnote                                    2106 non-null   float64\n",
            " 34  Staffing Rating                                                  13850 non-null  float64\n",
            " 35  Staffing Rating Footnote                                         1520 non-null   float64\n",
            " 36  RN Staffing Rating                                               13850 non-null  float64\n",
            " 37  RN Staffing Rating Footnote                                      1520 non-null   float64\n",
            " 38  Reported Staffing Footnote                                       618 non-null    float64\n",
            " 39  Physical Therapist Staffing Footnote                             618 non-null    float64\n",
            " 40  Reported Nurse Aide Staffing Hours per Resident per Day          14713 non-null  float64\n",
            " 41  Reported LPN Staffing Hours per Resident per Day                 14713 non-null  float64\n",
            " 42  Reported RN Staffing Hours per Resident per Day                  14713 non-null  float64\n",
            " 43  Reported Licensed Staffing Hours per Resident per Day            14713 non-null  float64\n",
            " 44  Reported Total Nurse Staffing Hours per Resident per Day         14713 non-null  float64\n",
            " 45  Reported Physical Therapist Staffing Hours per Resident Per Day  14713 non-null  float64\n",
            " 46  Case-Mix Nurse Aide Staffing Hours per Resident per Day          14713 non-null  float64\n",
            " 47  Case-Mix LPN Staffing Hours per Resident per Day                 14713 non-null  float64\n",
            " 48  Case-Mix RN Staffing Hours per Resident per Day                  14713 non-null  float64\n",
            " 49  Case-Mix Total Nurse Staffing Hours per Resident per Day         14713 non-null  float64\n",
            " 50  Adjusted Nurse Aide Staffing Hours per Resident per Day          14630 non-null  float64\n",
            " 51  Adjusted LPN Staffing Hours per Resident per Day                 14630 non-null  float64\n",
            " 52  Adjusted RN Staffing Hours per Resident per Day                  14630 non-null  float64\n",
            " 53  Adjusted Total Nurse Staffing Hours per Resident per Day         14630 non-null  float64\n",
            " 54  Rating Cycle 1 Standard Survey Health Date                       15331 non-null  object \n",
            " 55  Rating Cycle 1 Total Number of Health Deficiencies               15331 non-null  object \n",
            " 56  Rating Cycle 1 Number of Standard Health Deficiencies            15331 non-null  object \n",
            " 57  Rating Cycle 1 Number of Complaint Health Deficiencies           15331 non-null  object \n",
            " 58  Rating Cycle 1 Health Deficiency Score                           15331 non-null  object \n",
            " 59  Rating Cycle 1 Number of Health Revisits                         15331 non-null  object \n",
            " 60  Rating Cycle 1 Health Revisit Score                              15331 non-null  object \n",
            " 61  Rating Cycle 1 Total Health Score                                15331 non-null  object \n",
            " 62  Rating Cycle 2 Standard Health Survey Date                       15190 non-null  object \n",
            " 63  Rating Cycle 2 Total Number of Health Deficiencies               15331 non-null  object \n",
            " 64  Rating Cycle 2 Number of Standard Health Deficiencies            15331 non-null  object \n",
            " 65  Rating Cycle 2 Number of Complaint Health Deficiencies           15331 non-null  object \n",
            " 66  Rating Cycle 2 Health Deficiency Score                           15331 non-null  object \n",
            " 67  Rating Cycle 2 Number of Health Revisits                         15331 non-null  object \n",
            " 68  Rating Cycle 2 Health Revisit Score                              15331 non-null  object \n",
            " 69  Rating Cycle 2 Total Health Score                                15331 non-null  object \n",
            " 70  Rating Cycle 3 Standard Health Survey Date                       15087 non-null  object \n",
            " 71  Rating Cycle 3 Total Number of Health Deficiencies               15331 non-null  object \n",
            " 72  Rating Cycle 3 Number of Standard Health Deficiencies            15331 non-null  object \n",
            " 73  Rating Cycle 3 Number of Complaint Health Deficiencies           15331 non-null  object \n",
            " 74  Rating Cycle 3 Health Deficiency Score                           15331 non-null  object \n",
            " 75  Rating Cycle 3 Number of Health Revisits                         15331 non-null  object \n",
            " 76  Rating Cycle 3 Health Revisit Score                              15331 non-null  object \n",
            " 77  Rating Cycle 3 Total Health Score                                15331 non-null  object \n",
            " 78  Total Weighted Health Survey Score                               15190 non-null  float64\n",
            " 79  Number of Facility Reported Incidents                            15331 non-null  int64  \n",
            " 80  Number of Substantiated Complaints                               15331 non-null  int64  \n",
            " 81  Number of Citations from Infection Control Inspections           15306 non-null  float64\n",
            " 82  Number of Fines                                                  15331 non-null  int64  \n",
            " 83  Total Amount of Fines in Dollars                                 15331 non-null  int64  \n",
            " 84  Number of Payment Denials                                        15331 non-null  int64  \n",
            " 85  Total Number of Penalties                                        15331 non-null  int64  \n",
            " 86  Location                                                         15331 non-null  object \n",
            " 87  Processing Date                                                  15331 non-null  object \n",
            "dtypes: float64(34), int64(10), object(44)\n",
            "memory usage: 10.3+ MB\n"
          ],
          "name": "stdout"
        }
      ]
    },
    {
      "cell_type": "code",
      "metadata": {
        "colab": {
          "base_uri": "https://localhost:8080/"
        },
        "id": "HF8VBKl5IqOE",
        "outputId": "4602c50b-5980-4684-ea66-6db5d4e5e720"
      },
      "source": [
        "df.dtypes"
      ],
      "execution_count": null,
      "outputs": [
        {
          "output_type": "execute_result",
          "data": {
            "text/plain": [
              "Federal Provider Number             object\n",
              "Provider Name                       object\n",
              "Provider Address                    object\n",
              "Provider City                       object\n",
              "Provider State                      object\n",
              "                                     ...  \n",
              "Total Amount of Fines in Dollars     int64\n",
              "Number of Payment Denials            int64\n",
              "Total Number of Penalties            int64\n",
              "Location                            object\n",
              "Processing Date                     object\n",
              "Length: 88, dtype: object"
            ]
          },
          "metadata": {
            "tags": []
          },
          "execution_count": 7
        }
      ]
    },
    {
      "cell_type": "code",
      "metadata": {
        "id": "knvXthQx02VR"
      },
      "source": [
        "cols = [c for c in df.columns if c[-8:] != 'Footnote']\r\n",
        "df1 = df[cols]"
      ],
      "execution_count": null,
      "outputs": []
    },
    {
      "cell_type": "code",
      "metadata": {
        "colab": {
          "base_uri": "https://localhost:8080/"
        },
        "id": "XKjEf8Yg09rH",
        "outputId": "be475c01-6664-4c62-ecd0-6da4d1acc5f9"
      },
      "source": [
        "df1.columns"
      ],
      "execution_count": null,
      "outputs": [
        {
          "output_type": "execute_result",
          "data": {
            "text/plain": [
              "Index(['Federal Provider Number', 'Provider Name', 'Provider Address',\n",
              "       'Provider City', 'Provider State', 'Provider Zip Code',\n",
              "       'Provider Phone Number', 'Provider SSA County Code',\n",
              "       'Provider County Name', 'Ownership Type', 'Number of Certified Beds',\n",
              "       'Average Number of Residents per Day', 'Provider Type',\n",
              "       'Provider Resides in Hospital', 'Legal Business Name',\n",
              "       'Date First Approved to Provide Medicare and Medicaid Services',\n",
              "       'Continuing Care Retirement Community', 'Special Focus Status',\n",
              "       'Abuse Icon', 'Most Recent Health Inspection More Than 2 Years Ago',\n",
              "       'Provider Changed Ownership in Last 12 Months',\n",
              "       'With a Resident and Family Council',\n",
              "       'Automatic Sprinkler Systems in All Required Areas', 'Overall Rating',\n",
              "       'Health Inspection Rating', 'QM Rating', 'Long-Stay QM Rating',\n",
              "       'Short-Stay QM Rating', 'Staffing Rating', 'RN Staffing Rating',\n",
              "       'Reported Nurse Aide Staffing Hours per Resident per Day',\n",
              "       'Reported LPN Staffing Hours per Resident per Day',\n",
              "       'Reported RN Staffing Hours per Resident per Day',\n",
              "       'Reported Licensed Staffing Hours per Resident per Day',\n",
              "       'Reported Total Nurse Staffing Hours per Resident per Day',\n",
              "       'Reported Physical Therapist Staffing Hours per Resident Per Day',\n",
              "       'Case-Mix Nurse Aide Staffing Hours per Resident per Day',\n",
              "       'Case-Mix LPN Staffing Hours per Resident per Day',\n",
              "       'Case-Mix RN Staffing Hours per Resident per Day',\n",
              "       'Case-Mix Total Nurse Staffing Hours per Resident per Day',\n",
              "       'Adjusted Nurse Aide Staffing Hours per Resident per Day',\n",
              "       'Adjusted LPN Staffing Hours per Resident per Day',\n",
              "       'Adjusted RN Staffing Hours per Resident per Day',\n",
              "       'Adjusted Total Nurse Staffing Hours per Resident per Day',\n",
              "       'Rating Cycle 1 Standard Survey Health Date',\n",
              "       'Rating Cycle 1 Total Number of Health Deficiencies',\n",
              "       'Rating Cycle 1 Number of Standard Health Deficiencies',\n",
              "       'Rating Cycle 1 Number of Complaint Health Deficiencies',\n",
              "       'Rating Cycle 1 Health Deficiency Score',\n",
              "       'Rating Cycle 1 Number of Health Revisits',\n",
              "       'Rating Cycle 1 Health Revisit Score',\n",
              "       'Rating Cycle 1 Total Health Score',\n",
              "       'Rating Cycle 2 Standard Health Survey Date',\n",
              "       'Rating Cycle 2 Total Number of Health Deficiencies',\n",
              "       'Rating Cycle 2 Number of Standard Health Deficiencies',\n",
              "       'Rating Cycle 2 Number of Complaint Health Deficiencies',\n",
              "       'Rating Cycle 2 Health Deficiency Score',\n",
              "       'Rating Cycle 2 Number of Health Revisits',\n",
              "       'Rating Cycle 2 Health Revisit Score',\n",
              "       'Rating Cycle 2 Total Health Score',\n",
              "       'Rating Cycle 3 Standard Health Survey Date',\n",
              "       'Rating Cycle 3 Total Number of Health Deficiencies',\n",
              "       'Rating Cycle 3 Number of Standard Health Deficiencies',\n",
              "       'Rating Cycle 3 Number of Complaint Health Deficiencies',\n",
              "       'Rating Cycle 3 Health Deficiency Score',\n",
              "       'Rating Cycle 3 Number of Health Revisits',\n",
              "       'Rating Cycle 3 Health Revisit Score',\n",
              "       'Rating Cycle 3 Total Health Score',\n",
              "       'Total Weighted Health Survey Score',\n",
              "       'Number of Facility Reported Incidents',\n",
              "       'Number of Substantiated Complaints',\n",
              "       'Number of Citations from Infection Control Inspections',\n",
              "       'Number of Fines', 'Total Amount of Fines in Dollars',\n",
              "       'Number of Payment Denials', 'Total Number of Penalties', 'Location',\n",
              "       'Processing Date'],\n",
              "      dtype='object')"
            ]
          },
          "metadata": {
            "tags": []
          },
          "execution_count": 9
        }
      ]
    },
    {
      "cell_type": "code",
      "metadata": {
        "colab": {
          "base_uri": "https://localhost:8080/"
        },
        "id": "LCqXpmV02MpB",
        "outputId": "c65c9f66-e188-40d2-d3de-54f0adc949c9"
      },
      "source": [
        "df1.drop(['Provider Zip Code', 'Provider Phone Number',\r\n",
        "       'Special Focus Status'], axis = 1, inplace = True)"
      ],
      "execution_count": null,
      "outputs": [
        {
          "output_type": "stream",
          "text": [
            "/usr/local/lib/python3.7/dist-packages/pandas/core/frame.py:4174: SettingWithCopyWarning: \n",
            "A value is trying to be set on a copy of a slice from a DataFrame\n",
            "\n",
            "See the caveats in the documentation: https://pandas.pydata.org/pandas-docs/stable/user_guide/indexing.html#returning-a-view-versus-a-copy\n",
            "  errors=errors,\n"
          ],
          "name": "stderr"
        }
      ]
    },
    {
      "cell_type": "code",
      "metadata": {
        "id": "kw5c5JYW2OGO"
      },
      "source": [
        "df2 = df1.dropna(axis = 0, how ='any') "
      ],
      "execution_count": null,
      "outputs": []
    },
    {
      "cell_type": "code",
      "metadata": {
        "colab": {
          "base_uri": "https://localhost:8080/"
        },
        "id": "Nvw7qTRa2PV9",
        "outputId": "0970168c-7c8a-458c-e37a-5706c6a5eb80"
      },
      "source": [
        "df1.shape"
      ],
      "execution_count": null,
      "outputs": [
        {
          "output_type": "execute_result",
          "data": {
            "text/plain": [
              "(15331, 75)"
            ]
          },
          "metadata": {
            "tags": []
          },
          "execution_count": 12
        }
      ]
    },
    {
      "cell_type": "code",
      "metadata": {
        "colab": {
          "base_uri": "https://localhost:8080/"
        },
        "id": "jU9Gj8zs2Q9M",
        "outputId": "07fb3053-1e30-4be7-b84b-9c0dcc36ce84"
      },
      "source": [
        "df2.shape"
      ],
      "execution_count": null,
      "outputs": [
        {
          "output_type": "execute_result",
          "data": {
            "text/plain": [
              "(11902, 75)"
            ]
          },
          "metadata": {
            "tags": []
          },
          "execution_count": 13
        }
      ]
    },
    {
      "cell_type": "code",
      "metadata": {
        "colab": {
          "base_uri": "https://localhost:8080/"
        },
        "id": "17FR2QJj2Un-",
        "outputId": "377d20ca-b2db-4e6f-c8da-ab199a3435ef"
      },
      "source": [
        "df2.info()"
      ],
      "execution_count": null,
      "outputs": [
        {
          "output_type": "stream",
          "text": [
            "<class 'pandas.core.frame.DataFrame'>\n",
            "Int64Index: 11902 entries, 0 to 15282\n",
            "Data columns (total 75 columns):\n",
            " #   Column                                                           Non-Null Count  Dtype  \n",
            "---  ------                                                           --------------  -----  \n",
            " 0   Federal Provider Number                                          11902 non-null  object \n",
            " 1   Provider Name                                                    11902 non-null  object \n",
            " 2   Provider Address                                                 11902 non-null  object \n",
            " 3   Provider City                                                    11902 non-null  object \n",
            " 4   Provider State                                                   11902 non-null  object \n",
            " 5   Provider SSA County Code                                         11902 non-null  int64  \n",
            " 6   Provider County Name                                             11902 non-null  object \n",
            " 7   Ownership Type                                                   11902 non-null  object \n",
            " 8   Number of Certified Beds                                         11902 non-null  int64  \n",
            " 9   Average Number of Residents per Day                              11902 non-null  float64\n",
            " 10  Provider Type                                                    11902 non-null  object \n",
            " 11  Provider Resides in Hospital                                     11902 non-null  object \n",
            " 12  Legal Business Name                                              11902 non-null  object \n",
            " 13  Date First Approved to Provide Medicare and Medicaid Services    11902 non-null  object \n",
            " 14  Continuing Care Retirement Community                             11902 non-null  object \n",
            " 15  Abuse Icon                                                       11902 non-null  object \n",
            " 16  Most Recent Health Inspection More Than 2 Years Ago              11902 non-null  object \n",
            " 17  Provider Changed Ownership in Last 12 Months                     11902 non-null  object \n",
            " 18  With a Resident and Family Council                               11902 non-null  object \n",
            " 19  Automatic Sprinkler Systems in All Required Areas                11902 non-null  object \n",
            " 20  Overall Rating                                                   11902 non-null  float64\n",
            " 21  Health Inspection Rating                                         11902 non-null  float64\n",
            " 22  QM Rating                                                        11902 non-null  float64\n",
            " 23  Long-Stay QM Rating                                              11902 non-null  float64\n",
            " 24  Short-Stay QM Rating                                             11902 non-null  float64\n",
            " 25  Staffing Rating                                                  11902 non-null  float64\n",
            " 26  RN Staffing Rating                                               11902 non-null  float64\n",
            " 27  Reported Nurse Aide Staffing Hours per Resident per Day          11902 non-null  float64\n",
            " 28  Reported LPN Staffing Hours per Resident per Day                 11902 non-null  float64\n",
            " 29  Reported RN Staffing Hours per Resident per Day                  11902 non-null  float64\n",
            " 30  Reported Licensed Staffing Hours per Resident per Day            11902 non-null  float64\n",
            " 31  Reported Total Nurse Staffing Hours per Resident per Day         11902 non-null  float64\n",
            " 32  Reported Physical Therapist Staffing Hours per Resident Per Day  11902 non-null  float64\n",
            " 33  Case-Mix Nurse Aide Staffing Hours per Resident per Day          11902 non-null  float64\n",
            " 34  Case-Mix LPN Staffing Hours per Resident per Day                 11902 non-null  float64\n",
            " 35  Case-Mix RN Staffing Hours per Resident per Day                  11902 non-null  float64\n",
            " 36  Case-Mix Total Nurse Staffing Hours per Resident per Day         11902 non-null  float64\n",
            " 37  Adjusted Nurse Aide Staffing Hours per Resident per Day          11902 non-null  float64\n",
            " 38  Adjusted LPN Staffing Hours per Resident per Day                 11902 non-null  float64\n",
            " 39  Adjusted RN Staffing Hours per Resident per Day                  11902 non-null  float64\n",
            " 40  Adjusted Total Nurse Staffing Hours per Resident per Day         11902 non-null  float64\n",
            " 41  Rating Cycle 1 Standard Survey Health Date                       11902 non-null  object \n",
            " 42  Rating Cycle 1 Total Number of Health Deficiencies               11902 non-null  object \n",
            " 43  Rating Cycle 1 Number of Standard Health Deficiencies            11902 non-null  object \n",
            " 44  Rating Cycle 1 Number of Complaint Health Deficiencies           11902 non-null  object \n",
            " 45  Rating Cycle 1 Health Deficiency Score                           11902 non-null  object \n",
            " 46  Rating Cycle 1 Number of Health Revisits                         11902 non-null  object \n",
            " 47  Rating Cycle 1 Health Revisit Score                              11902 non-null  object \n",
            " 48  Rating Cycle 1 Total Health Score                                11902 non-null  object \n",
            " 49  Rating Cycle 2 Standard Health Survey Date                       11902 non-null  object \n",
            " 50  Rating Cycle 2 Total Number of Health Deficiencies               11902 non-null  object \n",
            " 51  Rating Cycle 2 Number of Standard Health Deficiencies            11902 non-null  object \n",
            " 52  Rating Cycle 2 Number of Complaint Health Deficiencies           11902 non-null  object \n",
            " 53  Rating Cycle 2 Health Deficiency Score                           11902 non-null  object \n",
            " 54  Rating Cycle 2 Number of Health Revisits                         11902 non-null  object \n",
            " 55  Rating Cycle 2 Health Revisit Score                              11902 non-null  object \n",
            " 56  Rating Cycle 2 Total Health Score                                11902 non-null  object \n",
            " 57  Rating Cycle 3 Standard Health Survey Date                       11902 non-null  object \n",
            " 58  Rating Cycle 3 Total Number of Health Deficiencies               11902 non-null  object \n",
            " 59  Rating Cycle 3 Number of Standard Health Deficiencies            11902 non-null  object \n",
            " 60  Rating Cycle 3 Number of Complaint Health Deficiencies           11902 non-null  object \n",
            " 61  Rating Cycle 3 Health Deficiency Score                           11902 non-null  object \n",
            " 62  Rating Cycle 3 Number of Health Revisits                         11902 non-null  object \n",
            " 63  Rating Cycle 3 Health Revisit Score                              11902 non-null  object \n",
            " 64  Rating Cycle 3 Total Health Score                                11902 non-null  object \n",
            " 65  Total Weighted Health Survey Score                               11902 non-null  float64\n",
            " 66  Number of Facility Reported Incidents                            11902 non-null  int64  \n",
            " 67  Number of Substantiated Complaints                               11902 non-null  int64  \n",
            " 68  Number of Citations from Infection Control Inspections           11902 non-null  float64\n",
            " 69  Number of Fines                                                  11902 non-null  int64  \n",
            " 70  Total Amount of Fines in Dollars                                 11902 non-null  int64  \n",
            " 71  Number of Payment Denials                                        11902 non-null  int64  \n",
            " 72  Total Number of Penalties                                        11902 non-null  int64  \n",
            " 73  Location                                                         11902 non-null  object \n",
            " 74  Processing Date                                                  11902 non-null  object \n",
            "dtypes: float64(24), int64(8), object(43)\n",
            "memory usage: 6.9+ MB\n"
          ],
          "name": "stdout"
        }
      ]
    },
    {
      "cell_type": "code",
      "metadata": {
        "colab": {
          "base_uri": "https://localhost:8080/"
        },
        "id": "32Izpl1U2WHO",
        "outputId": "9d85e811-9e88-444f-accb-ee59a43d714a"
      },
      "source": [
        "df2.groupby('Overall Rating').size()/df2.shape[0]"
      ],
      "execution_count": null,
      "outputs": [
        {
          "output_type": "execute_result",
          "data": {
            "text/plain": [
              "Overall Rating\n",
              "1.0    0.143253\n",
              "2.0    0.194925\n",
              "3.0    0.185599\n",
              "4.0    0.224920\n",
              "5.0    0.251302\n",
              "dtype: float64"
            ]
          },
          "metadata": {
            "tags": []
          },
          "execution_count": 15
        }
      ]
    },
    {
      "cell_type": "code",
      "metadata": {
        "colab": {
          "base_uri": "https://localhost:8080/"
        },
        "id": "VIYW17612Z_T",
        "outputId": "de576144-418b-431f-be00-b93b62cb0acc"
      },
      "source": [
        "df2.groupby('Provider Type').size()/df2.shape[0]"
      ],
      "execution_count": null,
      "outputs": [
        {
          "output_type": "execute_result",
          "data": {
            "text/plain": [
              "Provider Type\n",
              "Medicare                 0.026466\n",
              "Medicare and Medicaid    0.973534\n",
              "dtype: float64"
            ]
          },
          "metadata": {
            "tags": []
          },
          "execution_count": 16
        }
      ]
    },
    {
      "cell_type": "code",
      "metadata": {
        "colab": {
          "base_uri": "https://localhost:8080/"
        },
        "id": "3EFg1b6-2bfX",
        "outputId": "23fca9c7-1d12-4593-bdb9-24a660740694"
      },
      "source": [
        "df2.groupby('Automatic Sprinkler Systems in All Required Areas').size()/df2.shape[0]"
      ],
      "execution_count": null,
      "outputs": [
        {
          "output_type": "execute_result",
          "data": {
            "text/plain": [
              "Automatic Sprinkler Systems in All Required Areas\n",
              "Partial    0.001344\n",
              "Yes        0.998656\n",
              "dtype: float64"
            ]
          },
          "metadata": {
            "tags": []
          },
          "execution_count": 17
        }
      ]
    },
    {
      "cell_type": "code",
      "metadata": {
        "colab": {
          "base_uri": "https://localhost:8080/"
        },
        "id": "hYrRo5Zu2cMW",
        "outputId": "a95d5328-49dd-422a-852c-1a80ebf02f3a"
      },
      "source": [
        "####First 5 states with most nursing homes####\r\n",
        "x = df2.groupby('Provider State').size()\r\n",
        "x.nlargest(n=5)"
      ],
      "execution_count": null,
      "outputs": [
        {
          "output_type": "execute_result",
          "data": {
            "text/plain": [
              "Provider State\n",
              "CA    898\n",
              "TX    874\n",
              "OH    727\n",
              "FL    627\n",
              "PA    602\n",
              "dtype: int64"
            ]
          },
          "metadata": {
            "tags": []
          },
          "execution_count": 18
        }
      ]
    },
    {
      "cell_type": "code",
      "metadata": {
        "colab": {
          "base_uri": "https://localhost:8080/"
        },
        "id": "mAoK1zxC2eMe",
        "outputId": "4f500b81-20a2-455c-d145-cc1b2c00c0e1"
      },
      "source": [
        "#Corporation is most popular ownership type despite for profit or non profit\r\n",
        "x1 = df2.groupby('Ownership Type').size()/df2.shape[0]\r\n",
        "x1.nlargest(n=13)"
      ],
      "execution_count": null,
      "outputs": [
        {
          "output_type": "execute_result",
          "data": {
            "text/plain": [
              "Ownership Type\n",
              "For profit - Corporation                  0.527978\n",
              "Non profit - Corporation                  0.171736\n",
              "For profit - Limited Liability company    0.098639\n",
              "For profit - Partnership                  0.055537\n",
              "For profit - Individual                   0.049740\n",
              "Non profit - Church related               0.026382\n",
              "Non profit - Other                        0.024870\n",
              "Government - County                       0.023609\n",
              "Government - Hospital district            0.009662\n",
              "Government - State                        0.004117\n",
              "Government - City/county                  0.003697\n",
              "Government - City                         0.003193\n",
              "Government - Federal                      0.000840\n",
              "dtype: float64"
            ]
          },
          "metadata": {
            "tags": []
          },
          "execution_count": 19
        }
      ]
    },
    {
      "cell_type": "code",
      "metadata": {
        "colab": {
          "base_uri": "https://localhost:8080/"
        },
        "id": "AC7xk-3M2fuV",
        "outputId": "d1d8c980-4a0b-47fc-a354-e8f7a5040e49"
      },
      "source": [
        "df2.groupby('Ownership Type').size()"
      ],
      "execution_count": null,
      "outputs": [
        {
          "output_type": "execute_result",
          "data": {
            "text/plain": [
              "Ownership Type\n",
              "For profit - Corporation                  6284\n",
              "For profit - Individual                    592\n",
              "For profit - Limited Liability company    1174\n",
              "For profit - Partnership                   661\n",
              "Government - City                           38\n",
              "Government - City/county                    44\n",
              "Government - County                        281\n",
              "Government - Federal                        10\n",
              "Government - Hospital district             115\n",
              "Government - State                          49\n",
              "Non profit - Church related                314\n",
              "Non profit - Corporation                  2044\n",
              "Non profit - Other                         296\n",
              "dtype: int64"
            ]
          },
          "metadata": {
            "tags": []
          },
          "execution_count": 20
        }
      ]
    },
    {
      "cell_type": "code",
      "metadata": {
        "colab": {
          "base_uri": "https://localhost:8080/",
          "height": 210
        },
        "id": "B5L0XFf-2g4d",
        "outputId": "0e739da5-2c6e-4a87-a2ee-e6d1a3dae4a6"
      },
      "source": [
        "sns.catplot(x=\"Provider Type\", kind=\"count\", data=df, height=2.6, aspect=2.5);"
      ],
      "execution_count": null,
      "outputs": [
        {
          "output_type": "display_data",
          "data": {
            "image/png": "[encoded data removed]",
            "text/plain": [
              "<Figure size 468x187.2 with 1 Axes>"
            ]
          },
          "metadata": {
            "tags": [],
            "needs_background": "light"
          }
        }
      ]
    },
    {
      "cell_type": "code",
      "metadata": {
        "colab": {
          "base_uri": "https://localhost:8080/",
          "height": 210
        },
        "id": "Nm-mcenM2iLw",
        "outputId": "e9565fd0-d7d6-4099-9b07-71a31ecc60dd"
      },
      "source": [
        "####Ownership Type####\r\n",
        "sns.catplot(y=\"Ownership Type\", kind=\"count\", data=df2, height=2.6, aspect=2.5);"
      ],
      "execution_count": null,
      "outputs": [
        {
          "output_type": "display_data",
          "data": {
            "image/png": "[encoded data removed]",
            "text/plain": [
              "<Figure size 468x187.2 with 1 Axes>"
            ]
          },
          "metadata": {
            "tags": [],
            "needs_background": "light"
          }
        }
      ]
    },
    {
      "cell_type": "code",
      "metadata": {
        "colab": {
          "base_uri": "https://localhost:8080/",
          "height": 210
        },
        "id": "S2iBIvns2jrO",
        "outputId": "9a842dd4-7d4d-4f42-f609-c75eb8501ee2"
      },
      "source": [
        "####Overall Rating####\r\n",
        "sns.catplot(x=\"Overall Rating\", kind=\"count\", data=df2, height=2.6, aspect=2.5);"
      ],
      "execution_count": null,
      "outputs": [
        {
          "output_type": "display_data",
          "data": {
            "image/png": "[encoded data removed]",
            "text/plain": [
              "<Figure size 468x187.2 with 1 Axes>"
            ]
          },
          "metadata": {
            "tags": [],
            "needs_background": "light"
          }
        }
      ]
    },
    {
      "cell_type": "code",
      "metadata": {
        "colab": {
          "base_uri": "https://localhost:8080/",
          "height": 210
        },
        "id": "GfpGP6bH2lwW",
        "outputId": "10ce60b2-b8fc-4ce7-9c21-984535e1c9b9"
      },
      "source": [
        "####Is there any relationship between overall rating and number of certified beds?\r\n",
        "sns.catplot(x=\"Overall Rating\", y= 'Number of Certified Beds',kind='violin', data=df2, height=2.6, aspect=2.5);"
      ],
      "execution_count": null,
      "outputs": [
        {
          "output_type": "display_data",
          "data": {
            "image/png": "[encoded data removed]",
            "text/plain": [
              "<Figure size 468x187.2 with 1 Axes>"
            ]
          },
          "metadata": {
            "tags": [],
            "needs_background": "light"
          }
        }
      ]
    },
    {
      "cell_type": "code",
      "metadata": {
        "colab": {
          "base_uri": "https://localhost:8080/",
          "height": 214
        },
        "id": "q1Len-oS2snu",
        "outputId": "9baf527d-78db-4029-d405-6daf1c1055df"
      },
      "source": [
        "####Relationship between Overall Rating and Fines####\r\n",
        "sns.catplot(x=\"Overall Rating\", y=\"Total Amount of Fines in Dollars\",kind= 'bar', data=df2, height=2.6, aspect=2.5);"
      ],
      "execution_count": null,
      "outputs": [
        {
          "output_type": "display_data",
          "data": {
            "image/png": "[encoded data removed]",
            "text/plain": [
              "<Figure size 468x187.2 with 1 Axes>"
            ]
          },
          "metadata": {
            "tags": [],
            "needs_background": "light"
          }
        }
      ]
    },
    {
      "cell_type": "code",
      "metadata": {
        "colab": {
          "base_uri": "https://localhost:8080/",
          "height": 210
        },
        "id": "hj1fvuqb2uCn",
        "outputId": "e74d2ee3-145c-464e-eef2-9167d3002088"
      },
      "source": [
        "sns.catplot(x=\"Health Inspection Rating\", kind=\"count\", data=df2, height=2.6, aspect=2.5);"
      ],
      "execution_count": null,
      "outputs": [
        {
          "output_type": "display_data",
          "data": {
            "image/png": "[encoded data removed]",
            "text/plain": [
              "<Figure size 468x187.2 with 1 Axes>"
            ]
          },
          "metadata": {
            "tags": [],
            "needs_background": "light"
          }
        }
      ]
    },
    {
      "cell_type": "code",
      "metadata": {
        "colab": {
          "base_uri": "https://localhost:8080/",
          "height": 210
        },
        "id": "9234hV4Z2vhW",
        "outputId": "7143bb0d-afeb-40d0-81a4-c17c3bf36ae9"
      },
      "source": [
        "sns.catplot(x=\"QM Rating\", kind=\"count\", data=df2, height=2.6, aspect=2.5);"
      ],
      "execution_count": null,
      "outputs": [
        {
          "output_type": "display_data",
          "data": {
            "image/png": "[encoded data removed]",
            "text/plain": [
              "<Figure size 468x187.2 with 1 Axes>"
            ]
          },
          "metadata": {
            "tags": [],
            "needs_background": "light"
          }
        }
      ]
    },
    {
      "cell_type": "code",
      "metadata": {
        "colab": {
          "base_uri": "https://localhost:8080/",
          "height": 210
        },
        "id": "JG0CmMNG2y7D",
        "outputId": "1b66f377-26c7-4e30-ff52-5d3a7e51997c"
      },
      "source": [
        "sns.catplot(x=\"Staffing Rating\", kind=\"count\", data=df2, height=2.6, aspect=2.5);"
      ],
      "execution_count": null,
      "outputs": [
        {
          "output_type": "display_data",
          "data": {
            "image/png": "[encoded data removed]",
            "text/plain": [
              "<Figure size 468x187.2 with 1 Axes>"
            ]
          },
          "metadata": {
            "tags": [],
            "needs_background": "light"
          }
        }
      ]
    },
    {
      "cell_type": "code",
      "metadata": {
        "colab": {
          "base_uri": "https://localhost:8080/",
          "height": 467
        },
        "id": "7I6uW6et205C",
        "outputId": "1c24c52d-fb31-400d-8abe-8db5248d95cc"
      },
      "source": [
        "#The average of count of certified beds with different ownership type in different overall rating\r\n",
        "df2.pivot_table(values='Number of Certified Beds', index=['Ownership Type'], columns='Overall Rating', aggfunc='mean')"
      ],
      "execution_count": null,
      "outputs": [
        {
          "output_type": "execute_result",
          "data": {
            "text/html": [
              "<div>\n",
              "<style scoped>\n",
              "    .dataframe tbody tr th:only-of-type {\n",
              "        vertical-align: middle;\n",
              "    }\n",
              "\n",
              "    .dataframe tbody tr th {\n",
              "        vertical-align: top;\n",
              "    }\n",
              "\n",
              "    .dataframe thead th {\n",
              "        text-align: right;\n",
              "    }\n",
              "</style>\n",
              "<table border=\"1\" class=\"dataframe\">\n",
              "  <thead>\n",
              "    <tr style=\"text-align: right;\">\n",
              "      <th>Overall Rating</th>\n",
              "      <th>1.0</th>\n",
              "      <th>2.0</th>\n",
              "      <th>3.0</th>\n",
              "      <th>4.0</th>\n",
              "      <th>5.0</th>\n",
              "    </tr>\n",
              "    <tr>\n",
              "      <th>Ownership Type</th>\n",
              "      <th></th>\n",
              "      <th></th>\n",
              "      <th></th>\n",
              "      <th></th>\n",
              "      <th></th>\n",
              "    </tr>\n",
              "  </thead>\n",
              "  <tbody>\n",
              "    <tr>\n",
              "      <th>For profit - Corporation</th>\n",
              "      <td>129.873926</td>\n",
              "      <td>120.720180</td>\n",
              "      <td>113.730579</td>\n",
              "      <td>107.904796</td>\n",
              "      <td>100.399383</td>\n",
              "    </tr>\n",
              "    <tr>\n",
              "      <th>For profit - Individual</th>\n",
              "      <td>136.272727</td>\n",
              "      <td>128.775194</td>\n",
              "      <td>112.900000</td>\n",
              "      <td>110.598291</td>\n",
              "      <td>99.158730</td>\n",
              "    </tr>\n",
              "    <tr>\n",
              "      <th>For profit - Limited Liability company</th>\n",
              "      <td>134.513274</td>\n",
              "      <td>126.950192</td>\n",
              "      <td>123.859729</td>\n",
              "      <td>116.222222</td>\n",
              "      <td>109.878049</td>\n",
              "    </tr>\n",
              "    <tr>\n",
              "      <th>For profit - Partnership</th>\n",
              "      <td>141.961538</td>\n",
              "      <td>132.228188</td>\n",
              "      <td>139.903704</td>\n",
              "      <td>125.865546</td>\n",
              "      <td>106.453125</td>\n",
              "    </tr>\n",
              "    <tr>\n",
              "      <th>Government - City</th>\n",
              "      <td>89.000000</td>\n",
              "      <td>80.000000</td>\n",
              "      <td>65.833333</td>\n",
              "      <td>162.363636</td>\n",
              "      <td>109.000000</td>\n",
              "    </tr>\n",
              "    <tr>\n",
              "      <th>Government - City/county</th>\n",
              "      <td>124.000000</td>\n",
              "      <td>196.111111</td>\n",
              "      <td>149.285714</td>\n",
              "      <td>138.000000</td>\n",
              "      <td>95.071429</td>\n",
              "    </tr>\n",
              "    <tr>\n",
              "      <th>Government - County</th>\n",
              "      <td>171.000000</td>\n",
              "      <td>155.818182</td>\n",
              "      <td>140.277778</td>\n",
              "      <td>150.612500</td>\n",
              "      <td>112.097561</td>\n",
              "    </tr>\n",
              "    <tr>\n",
              "      <th>Government - Federal</th>\n",
              "      <td>93.000000</td>\n",
              "      <td>89.000000</td>\n",
              "      <td>109.000000</td>\n",
              "      <td>85.000000</td>\n",
              "      <td>113.500000</td>\n",
              "    </tr>\n",
              "    <tr>\n",
              "      <th>Government - Hospital district</th>\n",
              "      <td>139.608696</td>\n",
              "      <td>129.000000</td>\n",
              "      <td>121.695652</td>\n",
              "      <td>104.470588</td>\n",
              "      <td>97.428571</td>\n",
              "    </tr>\n",
              "    <tr>\n",
              "      <th>Government - State</th>\n",
              "      <td>68.000000</td>\n",
              "      <td>163.444444</td>\n",
              "      <td>158.125000</td>\n",
              "      <td>156.250000</td>\n",
              "      <td>197.590909</td>\n",
              "    </tr>\n",
              "    <tr>\n",
              "      <th>Non profit - Church related</th>\n",
              "      <td>130.100000</td>\n",
              "      <td>137.190476</td>\n",
              "      <td>115.914894</td>\n",
              "      <td>112.790123</td>\n",
              "      <td>86.044776</td>\n",
              "    </tr>\n",
              "    <tr>\n",
              "      <th>Non profit - Corporation</th>\n",
              "      <td>132.562500</td>\n",
              "      <td>120.265625</td>\n",
              "      <td>127.543210</td>\n",
              "      <td>110.029470</td>\n",
              "      <td>94.231317</td>\n",
              "    </tr>\n",
              "    <tr>\n",
              "      <th>Non profit - Other</th>\n",
              "      <td>157.263158</td>\n",
              "      <td>126.690909</td>\n",
              "      <td>116.678571</td>\n",
              "      <td>112.885714</td>\n",
              "      <td>95.333333</td>\n",
              "    </tr>\n",
              "  </tbody>\n",
              "</table>\n",
              "</div>"
            ],
            "text/plain": [
              "Overall Rating                                 1.0  ...         5.0\n",
              "Ownership Type                                      ...            \n",
              "For profit - Corporation                129.873926  ...  100.399383\n",
              "For profit - Individual                 136.272727  ...   99.158730\n",
              "For profit - Limited Liability company  134.513274  ...  109.878049\n",
              "For profit - Partnership                141.961538  ...  106.453125\n",
              "Government - City                        89.000000  ...  109.000000\n",
              "Government - City/county                124.000000  ...   95.071429\n",
              "Government - County                     171.000000  ...  112.097561\n",
              "Government - Federal                     93.000000  ...  113.500000\n",
              "Government - Hospital district          139.608696  ...   97.428571\n",
              "Government - State                       68.000000  ...  197.590909\n",
              "Non profit - Church related             130.100000  ...   86.044776\n",
              "Non profit - Corporation                132.562500  ...   94.231317\n",
              "Non profit - Other                      157.263158  ...   95.333333\n",
              "\n",
              "[13 rows x 5 columns]"
            ]
          },
          "metadata": {
            "tags": []
          },
          "execution_count": 30
        }
      ]
    },
    {
      "cell_type": "code",
      "metadata": {
        "colab": {
          "base_uri": "https://localhost:8080/",
          "height": 137
        },
        "id": "2PE-mzya22za",
        "outputId": "f2e6afbc-7d93-4b56-f7a2-1508542e63e5"
      },
      "source": [
        "#The average of count of certified beds with different provider type in different overall rating\r\n",
        "df2.pivot_table(values='Number of Certified Beds', index=['Provider Type'], columns='Overall Rating', aggfunc='mean')"
      ],
      "execution_count": null,
      "outputs": [
        {
          "output_type": "execute_result",
          "data": {
            "text/html": [
              "<div>\n",
              "<style scoped>\n",
              "    .dataframe tbody tr th:only-of-type {\n",
              "        vertical-align: middle;\n",
              "    }\n",
              "\n",
              "    .dataframe tbody tr th {\n",
              "        vertical-align: top;\n",
              "    }\n",
              "\n",
              "    .dataframe thead th {\n",
              "        text-align: right;\n",
              "    }\n",
              "</style>\n",
              "<table border=\"1\" class=\"dataframe\">\n",
              "  <thead>\n",
              "    <tr style=\"text-align: right;\">\n",
              "      <th>Overall Rating</th>\n",
              "      <th>1.0</th>\n",
              "      <th>2.0</th>\n",
              "      <th>3.0</th>\n",
              "      <th>4.0</th>\n",
              "      <th>5.0</th>\n",
              "    </tr>\n",
              "    <tr>\n",
              "      <th>Provider Type</th>\n",
              "      <th></th>\n",
              "      <th></th>\n",
              "      <th></th>\n",
              "      <th></th>\n",
              "      <th></th>\n",
              "    </tr>\n",
              "  </thead>\n",
              "  <tbody>\n",
              "    <tr>\n",
              "      <th>Medicare</th>\n",
              "      <td>63.000000</td>\n",
              "      <td>91.875000</td>\n",
              "      <td>97.518519</td>\n",
              "      <td>68.272727</td>\n",
              "      <td>60.493023</td>\n",
              "    </tr>\n",
              "    <tr>\n",
              "      <th>Medicare and Medicaid</th>\n",
              "      <td>132.859072</td>\n",
              "      <td>124.288194</td>\n",
              "      <td>119.706233</td>\n",
              "      <td>112.912662</td>\n",
              "      <td>102.783501</td>\n",
              "    </tr>\n",
              "  </tbody>\n",
              "</table>\n",
              "</div>"
            ],
            "text/plain": [
              "Overall Rating                1.0         2.0  ...         4.0         5.0\n",
              "Provider Type                                  ...                        \n",
              "Medicare                63.000000   91.875000  ...   68.272727   60.493023\n",
              "Medicare and Medicaid  132.859072  124.288194  ...  112.912662  102.783501\n",
              "\n",
              "[2 rows x 5 columns]"
            ]
          },
          "metadata": {
            "tags": []
          },
          "execution_count": 31
        }
      ]
    },
    {
      "cell_type": "code",
      "metadata": {
        "colab": {
          "base_uri": "https://localhost:8080/",
          "height": 467
        },
        "id": "MBd7Wvkg261j",
        "outputId": "08c56171-b766-4c1c-d473-e235643ff774"
      },
      "source": [
        "####The average of number of residents per day with different ownership type in different overall rating####\r\n",
        "df2.pivot_table(values='Average Number of Residents per Day', index=['Ownership Type'], columns='Overall Rating', aggfunc='mean')"
      ],
      "execution_count": null,
      "outputs": [
        {
          "output_type": "execute_result",
          "data": {
            "text/html": [
              "<div>\n",
              "<style scoped>\n",
              "    .dataframe tbody tr th:only-of-type {\n",
              "        vertical-align: middle;\n",
              "    }\n",
              "\n",
              "    .dataframe tbody tr th {\n",
              "        vertical-align: top;\n",
              "    }\n",
              "\n",
              "    .dataframe thead th {\n",
              "        text-align: right;\n",
              "    }\n",
              "</style>\n",
              "<table border=\"1\" class=\"dataframe\">\n",
              "  <thead>\n",
              "    <tr style=\"text-align: right;\">\n",
              "      <th>Overall Rating</th>\n",
              "      <th>1.0</th>\n",
              "      <th>2.0</th>\n",
              "      <th>3.0</th>\n",
              "      <th>4.0</th>\n",
              "      <th>5.0</th>\n",
              "    </tr>\n",
              "    <tr>\n",
              "      <th>Ownership Type</th>\n",
              "      <th></th>\n",
              "      <th></th>\n",
              "      <th></th>\n",
              "      <th></th>\n",
              "      <th></th>\n",
              "    </tr>\n",
              "  </thead>\n",
              "  <tbody>\n",
              "    <tr>\n",
              "      <th>For profit - Corporation</th>\n",
              "      <td>89.316619</td>\n",
              "      <td>85.603601</td>\n",
              "      <td>81.318678</td>\n",
              "      <td>76.493057</td>\n",
              "      <td>72.648188</td>\n",
              "    </tr>\n",
              "    <tr>\n",
              "      <th>For profit - Individual</th>\n",
              "      <td>90.799091</td>\n",
              "      <td>90.900775</td>\n",
              "      <td>79.385455</td>\n",
              "      <td>78.259829</td>\n",
              "      <td>71.531746</td>\n",
              "    </tr>\n",
              "    <tr>\n",
              "      <th>For profit - Limited Liability company</th>\n",
              "      <td>94.004867</td>\n",
              "      <td>86.930651</td>\n",
              "      <td>84.928959</td>\n",
              "      <td>84.139464</td>\n",
              "      <td>79.651707</td>\n",
              "    </tr>\n",
              "    <tr>\n",
              "      <th>For profit - Partnership</th>\n",
              "      <td>102.458462</td>\n",
              "      <td>94.873826</td>\n",
              "      <td>102.025926</td>\n",
              "      <td>91.063866</td>\n",
              "      <td>74.422656</td>\n",
              "    </tr>\n",
              "    <tr>\n",
              "      <th>Government - City</th>\n",
              "      <td>71.050000</td>\n",
              "      <td>63.060000</td>\n",
              "      <td>45.766667</td>\n",
              "      <td>107.727273</td>\n",
              "      <td>91.278571</td>\n",
              "    </tr>\n",
              "    <tr>\n",
              "      <th>Government - City/county</th>\n",
              "      <td>106.700000</td>\n",
              "      <td>154.866667</td>\n",
              "      <td>107.550000</td>\n",
              "      <td>100.366667</td>\n",
              "      <td>70.892857</td>\n",
              "    </tr>\n",
              "    <tr>\n",
              "      <th>Government - County</th>\n",
              "      <td>114.557143</td>\n",
              "      <td>113.252273</td>\n",
              "      <td>98.768519</td>\n",
              "      <td>105.460000</td>\n",
              "      <td>85.078049</td>\n",
              "    </tr>\n",
              "    <tr>\n",
              "      <th>Government - Federal</th>\n",
              "      <td>67.250000</td>\n",
              "      <td>56.975000</td>\n",
              "      <td>87.700000</td>\n",
              "      <td>66.400000</td>\n",
              "      <td>64.400000</td>\n",
              "    </tr>\n",
              "    <tr>\n",
              "      <th>Government - Hospital district</th>\n",
              "      <td>84.769565</td>\n",
              "      <td>86.616667</td>\n",
              "      <td>81.095652</td>\n",
              "      <td>66.488235</td>\n",
              "      <td>63.032143</td>\n",
              "    </tr>\n",
              "    <tr>\n",
              "      <th>Government - State</th>\n",
              "      <td>47.100000</td>\n",
              "      <td>110.944444</td>\n",
              "      <td>107.125000</td>\n",
              "      <td>121.462500</td>\n",
              "      <td>142.245455</td>\n",
              "    </tr>\n",
              "    <tr>\n",
              "      <th>Non profit - Church related</th>\n",
              "      <td>92.300000</td>\n",
              "      <td>93.438095</td>\n",
              "      <td>86.700000</td>\n",
              "      <td>85.406173</td>\n",
              "      <td>66.932090</td>\n",
              "    </tr>\n",
              "    <tr>\n",
              "      <th>Non profit - Corporation</th>\n",
              "      <td>91.558929</td>\n",
              "      <td>86.497656</td>\n",
              "      <td>90.736420</td>\n",
              "      <td>80.964637</td>\n",
              "      <td>69.424318</td>\n",
              "    </tr>\n",
              "    <tr>\n",
              "      <th>Non profit - Other</th>\n",
              "      <td>106.873684</td>\n",
              "      <td>89.214545</td>\n",
              "      <td>80.323214</td>\n",
              "      <td>78.775714</td>\n",
              "      <td>71.480208</td>\n",
              "    </tr>\n",
              "  </tbody>\n",
              "</table>\n",
              "</div>"
            ],
            "text/plain": [
              "Overall Rating                                 1.0  ...         5.0\n",
              "Ownership Type                                      ...            \n",
              "For profit - Corporation                 89.316619  ...   72.648188\n",
              "For profit - Individual                  90.799091  ...   71.531746\n",
              "For profit - Limited Liability company   94.004867  ...   79.651707\n",
              "For profit - Partnership                102.458462  ...   74.422656\n",
              "Government - City                        71.050000  ...   91.278571\n",
              "Government - City/county                106.700000  ...   70.892857\n",
              "Government - County                     114.557143  ...   85.078049\n",
              "Government - Federal                     67.250000  ...   64.400000\n",
              "Government - Hospital district           84.769565  ...   63.032143\n",
              "Government - State                       47.100000  ...  142.245455\n",
              "Non profit - Church related              92.300000  ...   66.932090\n",
              "Non profit - Corporation                 91.558929  ...   69.424318\n",
              "Non profit - Other                      106.873684  ...   71.480208\n",
              "\n",
              "[13 rows x 5 columns]"
            ]
          },
          "metadata": {
            "tags": []
          },
          "execution_count": 32
        }
      ]
    },
    {
      "cell_type": "code",
      "metadata": {
        "colab": {
          "base_uri": "https://localhost:8080/",
          "height": 232
        },
        "id": "2W7iY-SFLdxL",
        "outputId": "8ef3e163-009a-44b0-d3ee-1ce5fb82915c"
      },
      "source": [
        "sns.catplot(x=\"Overall Rating\", y= 'Average Number of Residents per Day',kind='bar', data=df2, height=2.6, aspect=2.5);"
      ],
      "execution_count": null,
      "outputs": [
        {
          "output_type": "display_data",
          "data": {
            "image/png": "[encoded data removed]",
            "text/plain": [
              "<Figure size 468x187.2 with 1 Axes>"
            ]
          },
          "metadata": {
            "tags": [],
            "needs_background": "light"
          }
        }
      ]
    },
    {
      "cell_type": "code",
      "metadata": {
        "colab": {
          "base_uri": "https://localhost:8080/",
          "height": 137
        },
        "id": "6tbE2B8h28v9",
        "outputId": "05514b81-fdad-49b2-c9b2-82cd5b2141b0"
      },
      "source": [
        "#The average of number of residents per day with different provider type in different overall rating\r\n",
        "df2.pivot_table(values='Average Number of Residents per Day', index=['Provider Type'], columns='Overall Rating', aggfunc='mean')"
      ],
      "execution_count": null,
      "outputs": [
        {
          "output_type": "execute_result",
          "data": {
            "text/html": [
              "<div>\n",
              "<style scoped>\n",
              "    .dataframe tbody tr th:only-of-type {\n",
              "        vertical-align: middle;\n",
              "    }\n",
              "\n",
              "    .dataframe tbody tr th {\n",
              "        vertical-align: top;\n",
              "    }\n",
              "\n",
              "    .dataframe thead th {\n",
              "        text-align: right;\n",
              "    }\n",
              "</style>\n",
              "<table border=\"1\" class=\"dataframe\">\n",
              "  <thead>\n",
              "    <tr style=\"text-align: right;\">\n",
              "      <th>Overall Rating</th>\n",
              "      <th>1.0</th>\n",
              "      <th>2.0</th>\n",
              "      <th>3.0</th>\n",
              "      <th>4.0</th>\n",
              "      <th>5.0</th>\n",
              "    </tr>\n",
              "    <tr>\n",
              "      <th>Provider Type</th>\n",
              "      <th></th>\n",
              "      <th></th>\n",
              "      <th></th>\n",
              "      <th></th>\n",
              "      <th></th>\n",
              "    </tr>\n",
              "  </thead>\n",
              "  <tbody>\n",
              "    <tr>\n",
              "      <th>Medicare</th>\n",
              "      <td>48.950000</td>\n",
              "      <td>51.643750</td>\n",
              "      <td>50.588889</td>\n",
              "      <td>41.638182</td>\n",
              "      <td>39.394419</td>\n",
              "    </tr>\n",
              "    <tr>\n",
              "      <th>Medicare and Medicaid</th>\n",
              "      <td>91.609102</td>\n",
              "      <td>88.023698</td>\n",
              "      <td>85.334647</td>\n",
              "      <td>81.067773</td>\n",
              "      <td>75.377594</td>\n",
              "    </tr>\n",
              "  </tbody>\n",
              "</table>\n",
              "</div>"
            ],
            "text/plain": [
              "Overall Rating               1.0        2.0        3.0        4.0        5.0\n",
              "Provider Type                                                               \n",
              "Medicare               48.950000  51.643750  50.588889  41.638182  39.394419\n",
              "Medicare and Medicaid  91.609102  88.023698  85.334647  81.067773  75.377594"
            ]
          },
          "metadata": {
            "tags": []
          },
          "execution_count": 33
        }
      ]
    },
    {
      "cell_type": "markdown",
      "metadata": {
        "id": "0OADC0E1Gkyv"
      },
      "source": [
        "## Numeric Dtypes"
      ]
    },
    {
      "cell_type": "code",
      "metadata": {
        "colab": {
          "base_uri": "https://localhost:8080/"
        },
        "id": "392vJ8C_IqOG",
        "outputId": "9c12f1c8-7020-4f2c-c869-76fe6f5f2c39"
      },
      "source": [
        "dfn = df.select_dtypes('number')\n",
        "dfn.shape"
      ],
      "execution_count": null,
      "outputs": [
        {
          "output_type": "execute_result",
          "data": {
            "text/plain": [
              "(15331, 44)"
            ]
          },
          "metadata": {
            "tags": []
          },
          "execution_count": 34
        }
      ]
    },
    {
      "cell_type": "code",
      "metadata": {
        "colab": {
          "base_uri": "https://localhost:8080/",
          "height": 334
        },
        "id": "Rpe7X27sIqOH",
        "outputId": "15e69206-fe42-4663-cc81-08447c461ec3"
      },
      "source": [
        "dfn.head()"
      ],
      "execution_count": null,
      "outputs": [
        {
          "output_type": "execute_result",
          "data": {
            "text/html": [
              "<div>\n",
              "<style scoped>\n",
              "    .dataframe tbody tr th:only-of-type {\n",
              "        vertical-align: middle;\n",
              "    }\n",
              "\n",
              "    .dataframe tbody tr th {\n",
              "        vertical-align: top;\n",
              "    }\n",
              "\n",
              "    .dataframe thead th {\n",
              "        text-align: right;\n",
              "    }\n",
              "</style>\n",
              "<table border=\"1\" class=\"dataframe\">\n",
              "  <thead>\n",
              "    <tr style=\"text-align: right;\">\n",
              "      <th></th>\n",
              "      <th>Provider Zip Code</th>\n",
              "      <th>Provider Phone Number</th>\n",
              "      <th>Provider SSA County Code</th>\n",
              "      <th>Number of Certified Beds</th>\n",
              "      <th>Average Number of Residents per Day</th>\n",
              "      <th>Average Number of Residents per Day Footnote</th>\n",
              "      <th>Overall Rating</th>\n",
              "      <th>Overall Rating Footnote</th>\n",
              "      <th>Health Inspection Rating</th>\n",
              "      <th>Health Inspection Rating Footnote</th>\n",
              "      <th>QM Rating</th>\n",
              "      <th>QM Rating Footnote</th>\n",
              "      <th>Long-Stay QM Rating</th>\n",
              "      <th>Long-Stay QM Rating Footnote</th>\n",
              "      <th>Short-Stay QM Rating</th>\n",
              "      <th>Short-Stay QM Rating Footnote</th>\n",
              "      <th>Staffing Rating</th>\n",
              "      <th>Staffing Rating Footnote</th>\n",
              "      <th>RN Staffing Rating</th>\n",
              "      <th>RN Staffing Rating Footnote</th>\n",
              "      <th>Reported Staffing Footnote</th>\n",
              "      <th>Physical Therapist Staffing Footnote</th>\n",
              "      <th>Reported Nurse Aide Staffing Hours per Resident per Day</th>\n",
              "      <th>Reported LPN Staffing Hours per Resident per Day</th>\n",
              "      <th>Reported RN Staffing Hours per Resident per Day</th>\n",
              "      <th>Reported Licensed Staffing Hours per Resident per Day</th>\n",
              "      <th>Reported Total Nurse Staffing Hours per Resident per Day</th>\n",
              "      <th>Reported Physical Therapist Staffing Hours per Resident Per Day</th>\n",
              "      <th>Case-Mix Nurse Aide Staffing Hours per Resident per Day</th>\n",
              "      <th>Case-Mix LPN Staffing Hours per Resident per Day</th>\n",
              "      <th>Case-Mix RN Staffing Hours per Resident per Day</th>\n",
              "      <th>Case-Mix Total Nurse Staffing Hours per Resident per Day</th>\n",
              "      <th>Adjusted Nurse Aide Staffing Hours per Resident per Day</th>\n",
              "      <th>Adjusted LPN Staffing Hours per Resident per Day</th>\n",
              "      <th>Adjusted RN Staffing Hours per Resident per Day</th>\n",
              "      <th>Adjusted Total Nurse Staffing Hours per Resident per Day</th>\n",
              "      <th>Total Weighted Health Survey Score</th>\n",
              "      <th>Number of Facility Reported Incidents</th>\n",
              "      <th>Number of Substantiated Complaints</th>\n",
              "      <th>Number of Citations from Infection Control Inspections</th>\n",
              "      <th>Number of Fines</th>\n",
              "      <th>Total Amount of Fines in Dollars</th>\n",
              "      <th>Number of Payment Denials</th>\n",
              "      <th>Total Number of Penalties</th>\n",
              "    </tr>\n",
              "  </thead>\n",
              "  <tbody>\n",
              "    <tr>\n",
              "      <th>0</th>\n",
              "      <td>35653</td>\n",
              "      <td>2563324110</td>\n",
              "      <td>290</td>\n",
              "      <td>57</td>\n",
              "      <td>51.8</td>\n",
              "      <td>NaN</td>\n",
              "      <td>5.0</td>\n",
              "      <td>NaN</td>\n",
              "      <td>5.0</td>\n",
              "      <td>NaN</td>\n",
              "      <td>5.0</td>\n",
              "      <td>NaN</td>\n",
              "      <td>4.0</td>\n",
              "      <td>NaN</td>\n",
              "      <td>5.0</td>\n",
              "      <td>NaN</td>\n",
              "      <td>4.0</td>\n",
              "      <td>NaN</td>\n",
              "      <td>4.0</td>\n",
              "      <td>NaN</td>\n",
              "      <td>NaN</td>\n",
              "      <td>NaN</td>\n",
              "      <td>2.62754</td>\n",
              "      <td>0.83202</td>\n",
              "      <td>0.85303</td>\n",
              "      <td>1.68505</td>\n",
              "      <td>4.31259</td>\n",
              "      <td>0.00000</td>\n",
              "      <td>2.16793</td>\n",
              "      <td>0.72878</td>\n",
              "      <td>0.35980</td>\n",
              "      <td>3.25651</td>\n",
              "      <td>2.50041</td>\n",
              "      <td>0.84582</td>\n",
              "      <td>0.93430</td>\n",
              "      <td>4.23509</td>\n",
              "      <td>5.333</td>\n",
              "      <td>0</td>\n",
              "      <td>0</td>\n",
              "      <td>0.0</td>\n",
              "      <td>0</td>\n",
              "      <td>0</td>\n",
              "      <td>0</td>\n",
              "      <td>0</td>\n",
              "    </tr>\n",
              "    <tr>\n",
              "      <th>1</th>\n",
              "      <td>35150</td>\n",
              "      <td>2562495604</td>\n",
              "      <td>600</td>\n",
              "      <td>85</td>\n",
              "      <td>72.1</td>\n",
              "      <td>NaN</td>\n",
              "      <td>4.0</td>\n",
              "      <td>NaN</td>\n",
              "      <td>3.0</td>\n",
              "      <td>NaN</td>\n",
              "      <td>4.0</td>\n",
              "      <td>NaN</td>\n",
              "      <td>2.0</td>\n",
              "      <td>NaN</td>\n",
              "      <td>5.0</td>\n",
              "      <td>NaN</td>\n",
              "      <td>5.0</td>\n",
              "      <td>NaN</td>\n",
              "      <td>5.0</td>\n",
              "      <td>NaN</td>\n",
              "      <td>NaN</td>\n",
              "      <td>NaN</td>\n",
              "      <td>2.91141</td>\n",
              "      <td>0.91635</td>\n",
              "      <td>1.01245</td>\n",
              "      <td>1.92880</td>\n",
              "      <td>4.84021</td>\n",
              "      <td>0.01271</td>\n",
              "      <td>1.93727</td>\n",
              "      <td>0.66133</td>\n",
              "      <td>0.27134</td>\n",
              "      <td>2.86995</td>\n",
              "      <td>3.10041</td>\n",
              "      <td>1.02657</td>\n",
              "      <td>1.47042</td>\n",
              "      <td>5.39346</td>\n",
              "      <td>18.667</td>\n",
              "      <td>0</td>\n",
              "      <td>0</td>\n",
              "      <td>0.0</td>\n",
              "      <td>1</td>\n",
              "      <td>650</td>\n",
              "      <td>0</td>\n",
              "      <td>1</td>\n",
              "    </tr>\n",
              "    <tr>\n",
              "      <th>2</th>\n",
              "      <td>35768</td>\n",
              "      <td>2562183708</td>\n",
              "      <td>350</td>\n",
              "      <td>50</td>\n",
              "      <td>41.3</td>\n",
              "      <td>NaN</td>\n",
              "      <td>3.0</td>\n",
              "      <td>NaN</td>\n",
              "      <td>2.0</td>\n",
              "      <td>NaN</td>\n",
              "      <td>3.0</td>\n",
              "      <td>NaN</td>\n",
              "      <td>2.0</td>\n",
              "      <td>NaN</td>\n",
              "      <td>3.0</td>\n",
              "      <td>NaN</td>\n",
              "      <td>5.0</td>\n",
              "      <td>NaN</td>\n",
              "      <td>5.0</td>\n",
              "      <td>NaN</td>\n",
              "      <td>NaN</td>\n",
              "      <td>NaN</td>\n",
              "      <td>2.96649</td>\n",
              "      <td>0.58426</td>\n",
              "      <td>1.21570</td>\n",
              "      <td>1.79996</td>\n",
              "      <td>4.76645</td>\n",
              "      <td>0.05596</td>\n",
              "      <td>2.18116</td>\n",
              "      <td>0.74001</td>\n",
              "      <td>0.36758</td>\n",
              "      <td>3.28875</td>\n",
              "      <td>2.80584</td>\n",
              "      <td>0.58494</td>\n",
              "      <td>1.30336</td>\n",
              "      <td>4.63492</td>\n",
              "      <td>30.667</td>\n",
              "      <td>0</td>\n",
              "      <td>0</td>\n",
              "      <td>0.0</td>\n",
              "      <td>0</td>\n",
              "      <td>0</td>\n",
              "      <td>0</td>\n",
              "      <td>0</td>\n",
              "    </tr>\n",
              "    <tr>\n",
              "      <th>3</th>\n",
              "      <td>35206</td>\n",
              "      <td>2058330146</td>\n",
              "      <td>360</td>\n",
              "      <td>92</td>\n",
              "      <td>71.8</td>\n",
              "      <td>NaN</td>\n",
              "      <td>3.0</td>\n",
              "      <td>NaN</td>\n",
              "      <td>4.0</td>\n",
              "      <td>NaN</td>\n",
              "      <td>1.0</td>\n",
              "      <td>NaN</td>\n",
              "      <td>1.0</td>\n",
              "      <td>NaN</td>\n",
              "      <td>1.0</td>\n",
              "      <td>NaN</td>\n",
              "      <td>4.0</td>\n",
              "      <td>NaN</td>\n",
              "      <td>4.0</td>\n",
              "      <td>NaN</td>\n",
              "      <td>NaN</td>\n",
              "      <td>NaN</td>\n",
              "      <td>2.35268</td>\n",
              "      <td>0.76296</td>\n",
              "      <td>0.70356</td>\n",
              "      <td>1.46652</td>\n",
              "      <td>3.81920</td>\n",
              "      <td>0.03246</td>\n",
              "      <td>1.97728</td>\n",
              "      <td>0.66683</td>\n",
              "      <td>0.33478</td>\n",
              "      <td>2.97890</td>\n",
              "      <td>2.45470</td>\n",
              "      <td>0.84767</td>\n",
              "      <td>0.82819</td>\n",
              "      <td>4.10010</td>\n",
              "      <td>12.667</td>\n",
              "      <td>0</td>\n",
              "      <td>0</td>\n",
              "      <td>0.0</td>\n",
              "      <td>0</td>\n",
              "      <td>0</td>\n",
              "      <td>0</td>\n",
              "      <td>0</td>\n",
              "    </tr>\n",
              "    <tr>\n",
              "      <th>4</th>\n",
              "      <td>35111</td>\n",
              "      <td>2054776161</td>\n",
              "      <td>360</td>\n",
              "      <td>103</td>\n",
              "      <td>83.8</td>\n",
              "      <td>NaN</td>\n",
              "      <td>3.0</td>\n",
              "      <td>NaN</td>\n",
              "      <td>3.0</td>\n",
              "      <td>NaN</td>\n",
              "      <td>2.0</td>\n",
              "      <td>NaN</td>\n",
              "      <td>3.0</td>\n",
              "      <td>NaN</td>\n",
              "      <td>1.0</td>\n",
              "      <td>NaN</td>\n",
              "      <td>3.0</td>\n",
              "      <td>NaN</td>\n",
              "      <td>3.0</td>\n",
              "      <td>NaN</td>\n",
              "      <td>NaN</td>\n",
              "      <td>NaN</td>\n",
              "      <td>2.12942</td>\n",
              "      <td>0.91534</td>\n",
              "      <td>0.35473</td>\n",
              "      <td>1.27006</td>\n",
              "      <td>3.39949</td>\n",
              "      <td>0.01248</td>\n",
              "      <td>1.87521</td>\n",
              "      <td>0.62287</td>\n",
              "      <td>0.25398</td>\n",
              "      <td>2.75205</td>\n",
              "      <td>2.34272</td>\n",
              "      <td>1.08876</td>\n",
              "      <td>0.55041</td>\n",
              "      <td>3.95034</td>\n",
              "      <td>16.000</td>\n",
              "      <td>0</td>\n",
              "      <td>1</td>\n",
              "      <td>0.0</td>\n",
              "      <td>2</td>\n",
              "      <td>29611</td>\n",
              "      <td>0</td>\n",
              "      <td>2</td>\n",
              "    </tr>\n",
              "  </tbody>\n",
              "</table>\n",
              "</div>"
            ],
            "text/plain": [
              "   Provider Zip Code  ...  Total Number of Penalties\n",
              "0              35653  ...                          0\n",
              "1              35150  ...                          1\n",
              "2              35768  ...                          0\n",
              "3              35206  ...                          0\n",
              "4              35111  ...                          2\n",
              "\n",
              "[5 rows x 44 columns]"
            ]
          },
          "metadata": {
            "tags": []
          },
          "execution_count": 35
        }
      ]
    },
    {
      "cell_type": "code",
      "metadata": {
        "colab": {
          "base_uri": "https://localhost:8080/",
          "height": 35
        },
        "id": "xs5lhz8NIqOI",
        "outputId": "26c43c8e-4c65-46e6-945c-4a72ecba245a"
      },
      "source": [
        "dfn.columns[11][-8:]"
      ],
      "execution_count": null,
      "outputs": [
        {
          "output_type": "execute_result",
          "data": {
            "application/vnd.google.colaboratory.intrinsic+json": {
              "type": "string"
            },
            "text/plain": [
              "'Footnote'"
            ]
          },
          "metadata": {
            "tags": []
          },
          "execution_count": 36
        }
      ]
    },
    {
      "cell_type": "code",
      "metadata": {
        "id": "6H22OybjIqOJ"
      },
      "source": [
        "cols = [c for c in dfn.columns if c[-8:] != 'Footnote']\n",
        "dfn = dfn[cols]"
      ],
      "execution_count": null,
      "outputs": []
    },
    {
      "cell_type": "code",
      "metadata": {
        "colab": {
          "base_uri": "https://localhost:8080/"
        },
        "id": "S4ghIOKTIqOK",
        "outputId": "8f110ccc-76b5-4c32-e682-1f1550f3997d"
      },
      "source": [
        "dfn.columns"
      ],
      "execution_count": null,
      "outputs": [
        {
          "output_type": "execute_result",
          "data": {
            "text/plain": [
              "Index(['Provider Zip Code', 'Provider Phone Number',\n",
              "       'Provider SSA County Code', 'Number of Certified Beds',\n",
              "       'Average Number of Residents per Day', 'Overall Rating',\n",
              "       'Health Inspection Rating', 'QM Rating', 'Long-Stay QM Rating',\n",
              "       'Short-Stay QM Rating', 'Staffing Rating', 'RN Staffing Rating',\n",
              "       'Reported Nurse Aide Staffing Hours per Resident per Day',\n",
              "       'Reported LPN Staffing Hours per Resident per Day',\n",
              "       'Reported RN Staffing Hours per Resident per Day',\n",
              "       'Reported Licensed Staffing Hours per Resident per Day',\n",
              "       'Reported Total Nurse Staffing Hours per Resident per Day',\n",
              "       'Reported Physical Therapist Staffing Hours per Resident Per Day',\n",
              "       'Case-Mix Nurse Aide Staffing Hours per Resident per Day',\n",
              "       'Case-Mix LPN Staffing Hours per Resident per Day',\n",
              "       'Case-Mix RN Staffing Hours per Resident per Day',\n",
              "       'Case-Mix Total Nurse Staffing Hours per Resident per Day',\n",
              "       'Adjusted Nurse Aide Staffing Hours per Resident per Day',\n",
              "       'Adjusted LPN Staffing Hours per Resident per Day',\n",
              "       'Adjusted RN Staffing Hours per Resident per Day',\n",
              "       'Adjusted Total Nurse Staffing Hours per Resident per Day',\n",
              "       'Total Weighted Health Survey Score',\n",
              "       'Number of Facility Reported Incidents',\n",
              "       'Number of Substantiated Complaints',\n",
              "       'Number of Citations from Infection Control Inspections',\n",
              "       'Number of Fines', 'Total Amount of Fines in Dollars',\n",
              "       'Number of Payment Denials', 'Total Number of Penalties'],\n",
              "      dtype='object')"
            ]
          },
          "metadata": {
            "tags": []
          },
          "execution_count": 38
        }
      ]
    },
    {
      "cell_type": "code",
      "metadata": {
        "id": "57y5Bm1vIqOL"
      },
      "source": [
        "dfn.drop(['Provider Zip Code', 'Provider Phone Number',\n",
        "       'Provider SSA County Code'], axis = 1, inplace = True)"
      ],
      "execution_count": null,
      "outputs": []
    },
    {
      "cell_type": "code",
      "metadata": {
        "colab": {
          "base_uri": "https://localhost:8080/",
          "height": 334
        },
        "id": "y4BijFGKIqOM",
        "outputId": "7607ee81-d875-4021-c14d-0a1cf002f52e"
      },
      "source": [
        "dfn.head()"
      ],
      "execution_count": null,
      "outputs": [
        {
          "output_type": "execute_result",
          "data": {
            "text/html": [
              "<div>\n",
              "<style scoped>\n",
              "    .dataframe tbody tr th:only-of-type {\n",
              "        vertical-align: middle;\n",
              "    }\n",
              "\n",
              "    .dataframe tbody tr th {\n",
              "        vertical-align: top;\n",
              "    }\n",
              "\n",
              "    .dataframe thead th {\n",
              "        text-align: right;\n",
              "    }\n",
              "</style>\n",
              "<table border=\"1\" class=\"dataframe\">\n",
              "  <thead>\n",
              "    <tr style=\"text-align: right;\">\n",
              "      <th></th>\n",
              "      <th>Number of Certified Beds</th>\n",
              "      <th>Average Number of Residents per Day</th>\n",
              "      <th>Overall Rating</th>\n",
              "      <th>Health Inspection Rating</th>\n",
              "      <th>QM Rating</th>\n",
              "      <th>Long-Stay QM Rating</th>\n",
              "      <th>Short-Stay QM Rating</th>\n",
              "      <th>Staffing Rating</th>\n",
              "      <th>RN Staffing Rating</th>\n",
              "      <th>Reported Nurse Aide Staffing Hours per Resident per Day</th>\n",
              "      <th>Reported LPN Staffing Hours per Resident per Day</th>\n",
              "      <th>Reported RN Staffing Hours per Resident per Day</th>\n",
              "      <th>Reported Licensed Staffing Hours per Resident per Day</th>\n",
              "      <th>Reported Total Nurse Staffing Hours per Resident per Day</th>\n",
              "      <th>Reported Physical Therapist Staffing Hours per Resident Per Day</th>\n",
              "      <th>Case-Mix Nurse Aide Staffing Hours per Resident per Day</th>\n",
              "      <th>Case-Mix LPN Staffing Hours per Resident per Day</th>\n",
              "      <th>Case-Mix RN Staffing Hours per Resident per Day</th>\n",
              "      <th>Case-Mix Total Nurse Staffing Hours per Resident per Day</th>\n",
              "      <th>Adjusted Nurse Aide Staffing Hours per Resident per Day</th>\n",
              "      <th>Adjusted LPN Staffing Hours per Resident per Day</th>\n",
              "      <th>Adjusted RN Staffing Hours per Resident per Day</th>\n",
              "      <th>Adjusted Total Nurse Staffing Hours per Resident per Day</th>\n",
              "      <th>Total Weighted Health Survey Score</th>\n",
              "      <th>Number of Facility Reported Incidents</th>\n",
              "      <th>Number of Substantiated Complaints</th>\n",
              "      <th>Number of Citations from Infection Control Inspections</th>\n",
              "      <th>Number of Fines</th>\n",
              "      <th>Total Amount of Fines in Dollars</th>\n",
              "      <th>Number of Payment Denials</th>\n",
              "      <th>Total Number of Penalties</th>\n",
              "    </tr>\n",
              "  </thead>\n",
              "  <tbody>\n",
              "    <tr>\n",
              "      <th>0</th>\n",
              "      <td>57</td>\n",
              "      <td>51.8</td>\n",
              "      <td>5.0</td>\n",
              "      <td>5.0</td>\n",
              "      <td>5.0</td>\n",
              "      <td>4.0</td>\n",
              "      <td>5.0</td>\n",
              "      <td>4.0</td>\n",
              "      <td>4.0</td>\n",
              "      <td>2.62754</td>\n",
              "      <td>0.83202</td>\n",
              "      <td>0.85303</td>\n",
              "      <td>1.68505</td>\n",
              "      <td>4.31259</td>\n",
              "      <td>0.00000</td>\n",
              "      <td>2.16793</td>\n",
              "      <td>0.72878</td>\n",
              "      <td>0.35980</td>\n",
              "      <td>3.25651</td>\n",
              "      <td>2.50041</td>\n",
              "      <td>0.84582</td>\n",
              "      <td>0.93430</td>\n",
              "      <td>4.23509</td>\n",
              "      <td>5.333</td>\n",
              "      <td>0</td>\n",
              "      <td>0</td>\n",
              "      <td>0.0</td>\n",
              "      <td>0</td>\n",
              "      <td>0</td>\n",
              "      <td>0</td>\n",
              "      <td>0</td>\n",
              "    </tr>\n",
              "    <tr>\n",
              "      <th>1</th>\n",
              "      <td>85</td>\n",
              "      <td>72.1</td>\n",
              "      <td>4.0</td>\n",
              "      <td>3.0</td>\n",
              "      <td>4.0</td>\n",
              "      <td>2.0</td>\n",
              "      <td>5.0</td>\n",
              "      <td>5.0</td>\n",
              "      <td>5.0</td>\n",
              "      <td>2.91141</td>\n",
              "      <td>0.91635</td>\n",
              "      <td>1.01245</td>\n",
              "      <td>1.92880</td>\n",
              "      <td>4.84021</td>\n",
              "      <td>0.01271</td>\n",
              "      <td>1.93727</td>\n",
              "      <td>0.66133</td>\n",
              "      <td>0.27134</td>\n",
              "      <td>2.86995</td>\n",
              "      <td>3.10041</td>\n",
              "      <td>1.02657</td>\n",
              "      <td>1.47042</td>\n",
              "      <td>5.39346</td>\n",
              "      <td>18.667</td>\n",
              "      <td>0</td>\n",
              "      <td>0</td>\n",
              "      <td>0.0</td>\n",
              "      <td>1</td>\n",
              "      <td>650</td>\n",
              "      <td>0</td>\n",
              "      <td>1</td>\n",
              "    </tr>\n",
              "    <tr>\n",
              "      <th>2</th>\n",
              "      <td>50</td>\n",
              "      <td>41.3</td>\n",
              "      <td>3.0</td>\n",
              "      <td>2.0</td>\n",
              "      <td>3.0</td>\n",
              "      <td>2.0</td>\n",
              "      <td>3.0</td>\n",
              "      <td>5.0</td>\n",
              "      <td>5.0</td>\n",
              "      <td>2.96649</td>\n",
              "      <td>0.58426</td>\n",
              "      <td>1.21570</td>\n",
              "      <td>1.79996</td>\n",
              "      <td>4.76645</td>\n",
              "      <td>0.05596</td>\n",
              "      <td>2.18116</td>\n",
              "      <td>0.74001</td>\n",
              "      <td>0.36758</td>\n",
              "      <td>3.28875</td>\n",
              "      <td>2.80584</td>\n",
              "      <td>0.58494</td>\n",
              "      <td>1.30336</td>\n",
              "      <td>4.63492</td>\n",
              "      <td>30.667</td>\n",
              "      <td>0</td>\n",
              "      <td>0</td>\n",
              "      <td>0.0</td>\n",
              "      <td>0</td>\n",
              "      <td>0</td>\n",
              "      <td>0</td>\n",
              "      <td>0</td>\n",
              "    </tr>\n",
              "    <tr>\n",
              "      <th>3</th>\n",
              "      <td>92</td>\n",
              "      <td>71.8</td>\n",
              "      <td>3.0</td>\n",
              "      <td>4.0</td>\n",
              "      <td>1.0</td>\n",
              "      <td>1.0</td>\n",
              "      <td>1.0</td>\n",
              "      <td>4.0</td>\n",
              "      <td>4.0</td>\n",
              "      <td>2.35268</td>\n",
              "      <td>0.76296</td>\n",
              "      <td>0.70356</td>\n",
              "      <td>1.46652</td>\n",
              "      <td>3.81920</td>\n",
              "      <td>0.03246</td>\n",
              "      <td>1.97728</td>\n",
              "      <td>0.66683</td>\n",
              "      <td>0.33478</td>\n",
              "      <td>2.97890</td>\n",
              "      <td>2.45470</td>\n",
              "      <td>0.84767</td>\n",
              "      <td>0.82819</td>\n",
              "      <td>4.10010</td>\n",
              "      <td>12.667</td>\n",
              "      <td>0</td>\n",
              "      <td>0</td>\n",
              "      <td>0.0</td>\n",
              "      <td>0</td>\n",
              "      <td>0</td>\n",
              "      <td>0</td>\n",
              "      <td>0</td>\n",
              "    </tr>\n",
              "    <tr>\n",
              "      <th>4</th>\n",
              "      <td>103</td>\n",
              "      <td>83.8</td>\n",
              "      <td>3.0</td>\n",
              "      <td>3.0</td>\n",
              "      <td>2.0</td>\n",
              "      <td>3.0</td>\n",
              "      <td>1.0</td>\n",
              "      <td>3.0</td>\n",
              "      <td>3.0</td>\n",
              "      <td>2.12942</td>\n",
              "      <td>0.91534</td>\n",
              "      <td>0.35473</td>\n",
              "      <td>1.27006</td>\n",
              "      <td>3.39949</td>\n",
              "      <td>0.01248</td>\n",
              "      <td>1.87521</td>\n",
              "      <td>0.62287</td>\n",
              "      <td>0.25398</td>\n",
              "      <td>2.75205</td>\n",
              "      <td>2.34272</td>\n",
              "      <td>1.08876</td>\n",
              "      <td>0.55041</td>\n",
              "      <td>3.95034</td>\n",
              "      <td>16.000</td>\n",
              "      <td>0</td>\n",
              "      <td>1</td>\n",
              "      <td>0.0</td>\n",
              "      <td>2</td>\n",
              "      <td>29611</td>\n",
              "      <td>0</td>\n",
              "      <td>2</td>\n",
              "    </tr>\n",
              "  </tbody>\n",
              "</table>\n",
              "</div>"
            ],
            "text/plain": [
              "   Number of Certified Beds  ...  Total Number of Penalties\n",
              "0                        57  ...                          0\n",
              "1                        85  ...                          1\n",
              "2                        50  ...                          0\n",
              "3                        92  ...                          0\n",
              "4                       103  ...                          2\n",
              "\n",
              "[5 rows x 31 columns]"
            ]
          },
          "metadata": {
            "tags": []
          },
          "execution_count": 40
        }
      ]
    },
    {
      "cell_type": "markdown",
      "metadata": {
        "id": "Mr_Jtgk5IZvI"
      },
      "source": [
        "## Categorical Dtypes"
      ]
    },
    {
      "cell_type": "code",
      "metadata": {
        "colab": {
          "base_uri": "https://localhost:8080/"
        },
        "id": "Q3_HtbVzMO7s",
        "outputId": "503f99b8-638c-40e3-b811-c0e8c189915e"
      },
      "source": [
        "dfc = df[['Ownership Type', 'Provider Type', 'Provider Resides in Hospital', 'Continuing Care Retirement Community', 'Abuse Icon', 'With a Resident and Family Council', 'Automatic Sprinkler Systems in All Required Areas' ]]\r\n",
        "dfc.head()"
      ],
      "execution_count": null,
      "outputs": [
        {
          "output_type": "execute_result",
          "data": {
            "text/html": [
              "<div>\n",
              "<style scoped>\n",
              "    .dataframe tbody tr th:only-of-type {\n",
              "        vertical-align: middle;\n",
              "    }\n",
              "\n",
              "    .dataframe tbody tr th {\n",
              "        vertical-align: top;\n",
              "    }\n",
              "\n",
              "    .dataframe thead th {\n",
              "        text-align: right;\n",
              "    }\n",
              "</style>\n",
              "<table border=\"1\" class=\"dataframe\">\n",
              "  <thead>\n",
              "    <tr style=\"text-align: right;\">\n",
              "      <th></th>\n",
              "      <th>Ownership Type</th>\n",
              "      <th>Provider Type</th>\n",
              "      <th>Provider Resides in Hospital</th>\n",
              "      <th>Continuing Care Retirement Community</th>\n",
              "      <th>Abuse Icon</th>\n",
              "      <th>With a Resident and Family Council</th>\n",
              "      <th>Automatic Sprinkler Systems in All Required Areas</th>\n",
              "    </tr>\n",
              "  </thead>\n",
              "  <tbody>\n",
              "    <tr>\n",
              "      <th>0</th>\n",
              "      <td>For profit - Corporation</td>\n",
              "      <td>Medicare and Medicaid</td>\n",
              "      <td>N</td>\n",
              "      <td>N</td>\n",
              "      <td>N</td>\n",
              "      <td>Both</td>\n",
              "      <td>Yes</td>\n",
              "    </tr>\n",
              "    <tr>\n",
              "      <th>1</th>\n",
              "      <td>For profit - Corporation</td>\n",
              "      <td>Medicare and Medicaid</td>\n",
              "      <td>N</td>\n",
              "      <td>N</td>\n",
              "      <td>N</td>\n",
              "      <td>Both</td>\n",
              "      <td>Yes</td>\n",
              "    </tr>\n",
              "    <tr>\n",
              "      <th>2</th>\n",
              "      <td>Government - County</td>\n",
              "      <td>Medicare and Medicaid</td>\n",
              "      <td>Y</td>\n",
              "      <td>N</td>\n",
              "      <td>N</td>\n",
              "      <td>Resident</td>\n",
              "      <td>Yes</td>\n",
              "    </tr>\n",
              "    <tr>\n",
              "      <th>3</th>\n",
              "      <td>For profit - Individual</td>\n",
              "      <td>Medicare and Medicaid</td>\n",
              "      <td>N</td>\n",
              "      <td>N</td>\n",
              "      <td>N</td>\n",
              "      <td>Both</td>\n",
              "      <td>Yes</td>\n",
              "    </tr>\n",
              "    <tr>\n",
              "      <th>4</th>\n",
              "      <td>For profit - Individual</td>\n",
              "      <td>Medicare and Medicaid</td>\n",
              "      <td>N</td>\n",
              "      <td>N</td>\n",
              "      <td>N</td>\n",
              "      <td>Resident</td>\n",
              "      <td>Yes</td>\n",
              "    </tr>\n",
              "  </tbody>\n",
              "</table>\n",
              "</div>"
            ],
            "text/plain": [
              "             Ownership Type  ... Automatic Sprinkler Systems in All Required Areas\n",
              "0  For profit - Corporation  ...                                               Yes\n",
              "1  For profit - Corporation  ...                                               Yes\n",
              "2       Government - County  ...                                               Yes\n",
              "3   For profit - Individual  ...                                               Yes\n",
              "4   For profit - Individual  ...                                               Yes\n",
              "\n",
              "[5 rows x 7 columns]"
            ]
          },
          "metadata": {
            "tags": []
          },
          "execution_count": 15
        }
      ]
    },
    {
      "cell_type": "code",
      "metadata": {
        "colab": {
          "base_uri": "https://localhost:8080/"
        },
        "id": "CR9oFw6LNn8_",
        "outputId": "91d24045-9b60-458f-9c20-df1434072225"
      },
      "source": [
        "dfcd = pd.get_dummies(dfc, drop_first=True)\r\n",
        "dfcd.head()"
      ],
      "execution_count": null,
      "outputs": [
        {
          "output_type": "execute_result",
          "data": {
            "text/html": [
              "<div>\n",
              "<style scoped>\n",
              "    .dataframe tbody tr th:only-of-type {\n",
              "        vertical-align: middle;\n",
              "    }\n",
              "\n",
              "    .dataframe tbody tr th {\n",
              "        vertical-align: top;\n",
              "    }\n",
              "\n",
              "    .dataframe thead th {\n",
              "        text-align: right;\n",
              "    }\n",
              "</style>\n",
              "<table border=\"1\" class=\"dataframe\">\n",
              "  <thead>\n",
              "    <tr style=\"text-align: right;\">\n",
              "      <th></th>\n",
              "      <th>Ownership Type_For profit - Individual</th>\n",
              "      <th>Ownership Type_For profit - Limited Liability company</th>\n",
              "      <th>Ownership Type_For profit - Partnership</th>\n",
              "      <th>Ownership Type_Government - City</th>\n",
              "      <th>Ownership Type_Government - City/county</th>\n",
              "      <th>Ownership Type_Government - County</th>\n",
              "      <th>Ownership Type_Government - Federal</th>\n",
              "      <th>Ownership Type_Government - Hospital district</th>\n",
              "      <th>Ownership Type_Government - State</th>\n",
              "      <th>Ownership Type_Non profit - Church related</th>\n",
              "      <th>Ownership Type_Non profit - Corporation</th>\n",
              "      <th>Ownership Type_Non profit - Other</th>\n",
              "      <th>Provider Type_Medicare</th>\n",
              "      <th>Provider Type_Medicare and Medicaid</th>\n",
              "      <th>Provider Resides in Hospital_Y</th>\n",
              "      <th>Continuing Care Retirement Community_Y</th>\n",
              "      <th>Abuse Icon_Y</th>\n",
              "      <th>With a Resident and Family Council_Family</th>\n",
              "      <th>With a Resident and Family Council_None</th>\n",
              "      <th>With a Resident and Family Council_Resident</th>\n",
              "      <th>Automatic Sprinkler Systems in All Required Areas_Partial</th>\n",
              "      <th>Automatic Sprinkler Systems in All Required Areas_Yes</th>\n",
              "    </tr>\n",
              "  </thead>\n",
              "  <tbody>\n",
              "    <tr>\n",
              "      <th>0</th>\n",
              "      <td>0</td>\n",
              "      <td>0</td>\n",
              "      <td>0</td>\n",
              "      <td>0</td>\n",
              "      <td>0</td>\n",
              "      <td>0</td>\n",
              "      <td>0</td>\n",
              "      <td>0</td>\n",
              "      <td>0</td>\n",
              "      <td>0</td>\n",
              "      <td>0</td>\n",
              "      <td>0</td>\n",
              "      <td>0</td>\n",
              "      <td>1</td>\n",
              "      <td>0</td>\n",
              "      <td>0</td>\n",
              "      <td>0</td>\n",
              "      <td>0</td>\n",
              "      <td>0</td>\n",
              "      <td>0</td>\n",
              "      <td>0</td>\n",
              "      <td>1</td>\n",
              "    </tr>\n",
              "    <tr>\n",
              "      <th>1</th>\n",
              "      <td>0</td>\n",
              "      <td>0</td>\n",
              "      <td>0</td>\n",
              "      <td>0</td>\n",
              "      <td>0</td>\n",
              "      <td>0</td>\n",
              "      <td>0</td>\n",
              "      <td>0</td>\n",
              "      <td>0</td>\n",
              "      <td>0</td>\n",
              "      <td>0</td>\n",
              "      <td>0</td>\n",
              "      <td>0</td>\n",
              "      <td>1</td>\n",
              "      <td>0</td>\n",
              "      <td>0</td>\n",
              "      <td>0</td>\n",
              "      <td>0</td>\n",
              "      <td>0</td>\n",
              "      <td>0</td>\n",
              "      <td>0</td>\n",
              "      <td>1</td>\n",
              "    </tr>\n",
              "    <tr>\n",
              "      <th>2</th>\n",
              "      <td>0</td>\n",
              "      <td>0</td>\n",
              "      <td>0</td>\n",
              "      <td>0</td>\n",
              "      <td>0</td>\n",
              "      <td>1</td>\n",
              "      <td>0</td>\n",
              "      <td>0</td>\n",
              "      <td>0</td>\n",
              "      <td>0</td>\n",
              "      <td>0</td>\n",
              "      <td>0</td>\n",
              "      <td>0</td>\n",
              "      <td>1</td>\n",
              "      <td>1</td>\n",
              "      <td>0</td>\n",
              "      <td>0</td>\n",
              "      <td>0</td>\n",
              "      <td>0</td>\n",
              "      <td>1</td>\n",
              "      <td>0</td>\n",
              "      <td>1</td>\n",
              "    </tr>\n",
              "    <tr>\n",
              "      <th>3</th>\n",
              "      <td>1</td>\n",
              "      <td>0</td>\n",
              "      <td>0</td>\n",
              "      <td>0</td>\n",
              "      <td>0</td>\n",
              "      <td>0</td>\n",
              "      <td>0</td>\n",
              "      <td>0</td>\n",
              "      <td>0</td>\n",
              "      <td>0</td>\n",
              "      <td>0</td>\n",
              "      <td>0</td>\n",
              "      <td>0</td>\n",
              "      <td>1</td>\n",
              "      <td>0</td>\n",
              "      <td>0</td>\n",
              "      <td>0</td>\n",
              "      <td>0</td>\n",
              "      <td>0</td>\n",
              "      <td>0</td>\n",
              "      <td>0</td>\n",
              "      <td>1</td>\n",
              "    </tr>\n",
              "    <tr>\n",
              "      <th>4</th>\n",
              "      <td>1</td>\n",
              "      <td>0</td>\n",
              "      <td>0</td>\n",
              "      <td>0</td>\n",
              "      <td>0</td>\n",
              "      <td>0</td>\n",
              "      <td>0</td>\n",
              "      <td>0</td>\n",
              "      <td>0</td>\n",
              "      <td>0</td>\n",
              "      <td>0</td>\n",
              "      <td>0</td>\n",
              "      <td>0</td>\n",
              "      <td>1</td>\n",
              "      <td>0</td>\n",
              "      <td>0</td>\n",
              "      <td>0</td>\n",
              "      <td>0</td>\n",
              "      <td>0</td>\n",
              "      <td>1</td>\n",
              "      <td>0</td>\n",
              "      <td>1</td>\n",
              "    </tr>\n",
              "  </tbody>\n",
              "</table>\n",
              "</div>"
            ],
            "text/plain": [
              "   Ownership Type_For profit - Individual  ...  Automatic Sprinkler Systems in All Required Areas_Yes\n",
              "0                                       0  ...                                                  1    \n",
              "1                                       0  ...                                                  1    \n",
              "2                                       0  ...                                                  1    \n",
              "3                                       1  ...                                                  1    \n",
              "4                                       1  ...                                                  1    \n",
              "\n",
              "[5 rows x 22 columns]"
            ]
          },
          "metadata": {
            "tags": []
          },
          "execution_count": 16
        }
      ]
    },
    {
      "cell_type": "markdown",
      "metadata": {
        "id": "bJodKFna6aT8"
      },
      "source": [
        "# Dimension Reduction"
      ]
    },
    {
      "cell_type": "code",
      "metadata": {
        "id": "HMPVf11aIqOM"
      },
      "source": [
        "sc = StandardScaler() # instantiate scaler\n",
        "dfs = sc.fit_transform(dfn)\n",
        "dfs = pd.DataFrame(dfs, columns = dfn.columns)"
      ],
      "execution_count": null,
      "outputs": []
    },
    {
      "cell_type": "code",
      "metadata": {
        "colab": {
          "base_uri": "https://localhost:8080/",
          "height": 920
        },
        "id": "iGdDNWwvIqON",
        "outputId": "543e7e89-8bd6-4249-9187-4915cdffc1bc"
      },
      "source": [
        "cor = dfs.corr()\n",
        "plt.figure(figsize=(10,10))\n",
        "plt.title('Correlation Heatmap of Numeric Columns')\n",
        "sns.heatmap(cor, cmap = 'coolwarm')\n",
        "plt.show()"
      ],
      "execution_count": null,
      "outputs": [
        {
          "output_type": "display_data",
          "data": {
            "image/png": "[encoded data removed]",
            "text/plain": [
              "<Figure size 720x720 with 2 Axes>"
            ]
          },
          "metadata": {
            "tags": [],
            "needs_background": "light"
          }
        }
      ]
    },
    {
      "cell_type": "code",
      "metadata": {
        "id": "Mjz-iqUiIqON"
      },
      "source": [
        "dfnn = dfs.dropna()"
      ],
      "execution_count": null,
      "outputs": []
    },
    {
      "cell_type": "code",
      "metadata": {
        "colab": {
          "base_uri": "https://localhost:8080/"
        },
        "id": "VRbFRyRRyi8e",
        "outputId": "99fe6686-2c93-44dd-b9cd-38c9babc871f"
      },
      "source": [
        "dfnn.shape[0] / dfs.shape[0]\r\n",
        "# retain 78% of rows"
      ],
      "execution_count": null,
      "outputs": [
        {
          "output_type": "execute_result",
          "data": {
            "text/plain": [
              "0.7800534864001044"
            ]
          },
          "metadata": {
            "tags": []
          },
          "execution_count": 44
        }
      ]
    },
    {
      "cell_type": "code",
      "metadata": {
        "id": "lxelqW0KIqOO"
      },
      "source": [
        "pca = PCA()\n",
        "pcs = pca.fit_transform(dfnn)"
      ],
      "execution_count": null,
      "outputs": []
    },
    {
      "cell_type": "code",
      "metadata": {
        "colab": {
          "base_uri": "https://localhost:8080/"
        },
        "id": "a02xZUnvIqOO",
        "outputId": "3d7902a9-68a7-4e3e-8b12-9270d43e3ebe"
      },
      "source": [
        "dfn.shape"
      ],
      "execution_count": null,
      "outputs": [
        {
          "output_type": "execute_result",
          "data": {
            "text/plain": [
              "(15331, 31)"
            ]
          },
          "metadata": {
            "tags": []
          },
          "execution_count": 46
        }
      ]
    },
    {
      "cell_type": "code",
      "metadata": {
        "colab": {
          "base_uri": "https://localhost:8080/"
        },
        "id": "euJb9c2sIqOP",
        "outputId": "7997b8f2-c38f-4b8a-e8e1-a8102005cab7"
      },
      "source": [
        "dfn.dropna().shape"
      ],
      "execution_count": null,
      "outputs": [
        {
          "output_type": "execute_result",
          "data": {
            "text/plain": [
              "(11959, 31)"
            ]
          },
          "metadata": {
            "tags": []
          },
          "execution_count": 47
        }
      ]
    },
    {
      "cell_type": "code",
      "metadata": {
        "colab": {
          "base_uri": "https://localhost:8080/"
        },
        "id": "m5t-LatoIqOP",
        "outputId": "8cd63062-93ba-4bce-9e7a-a29112145718"
      },
      "source": [
        "pcs.shape"
      ],
      "execution_count": null,
      "outputs": [
        {
          "output_type": "execute_result",
          "data": {
            "text/plain": [
              "(11959, 31)"
            ]
          },
          "metadata": {
            "tags": []
          },
          "execution_count": 48
        }
      ]
    },
    {
      "cell_type": "code",
      "metadata": {
        "colab": {
          "base_uri": "https://localhost:8080/",
          "height": 294
        },
        "id": "XAut-ZEiIqOQ",
        "outputId": "17f563d5-67c7-4352-8add-2e3d4219fc52"
      },
      "source": [
        "with sns.axes_style(\"whitegrid\"):\n",
        "  plt.title(\"Explained Variance\")\n",
        "  plt.ylabel('% Var Explained')\n",
        "  plt.xlabel('Number of Principal Components')\n",
        "  varexp = pca.explained_variance_ratio_\n",
        "  sns.lineplot(x = range(1, len(varexp)+1), y = varexp)"
      ],
      "execution_count": null,
      "outputs": [
        {
          "output_type": "display_data",
          "data": {
            "image/png": "[encoded data removed]",
            "text/plain": [
              "<Figure size 432x288 with 1 Axes>"
            ]
          },
          "metadata": {
            "tags": []
          }
        }
      ]
    },
    {
      "cell_type": "code",
      "metadata": {
        "colab": {
          "base_uri": "https://localhost:8080/"
        },
        "id": "tLLxSAqdIqOR",
        "outputId": "22a253c3-a98f-484f-a4e7-97965092404b"
      },
      "source": [
        "pca.explained_variance_ratio_"
      ],
      "execution_count": null,
      "outputs": [
        {
          "output_type": "execute_result",
          "data": {
            "text/plain": [
              "array([2.26488813e-01, 1.41463542e-01, 9.90500804e-02, 8.91316473e-02,\n",
              "       7.18771238e-02, 5.76384966e-02, 4.88080038e-02, 3.73608613e-02,\n",
              "       3.38181497e-02, 3.06732002e-02, 2.54938220e-02, 2.40857989e-02,\n",
              "       2.40079352e-02, 2.16783182e-02, 1.92797055e-02, 1.50322002e-02,\n",
              "       1.04920454e-02, 7.81108217e-03, 5.55494101e-03, 2.96053912e-03,\n",
              "       2.74124544e-03, 1.91710396e-03, 1.55544714e-03, 7.17494537e-04,\n",
              "       2.34854316e-04, 1.06204979e-04, 2.13440550e-05, 8.18546108e-12,\n",
              "       1.10860894e-12, 4.79120663e-13, 4.46670425e-32])"
            ]
          },
          "metadata": {
            "tags": []
          },
          "execution_count": 26
        }
      ]
    },
    {
      "cell_type": "code",
      "metadata": {
        "colab": {
          "base_uri": "https://localhost:8080/",
          "height": 294
        },
        "id": "a3ZT63ARIqOR",
        "outputId": "af8b4364-166d-41ba-c116-2852e025ce83"
      },
      "source": [
        "with sns.axes_style(\"whitegrid\"):\n",
        "  plt.title(\"Cumulative Explained Variance\")\n",
        "  plt.ylabel('% Var Explained')\n",
        "  plt.xlabel('Number of Principal Components')\n",
        "  plt.plot(range(1, len(varexp)+1), np.cumsum(varexp))\n",
        "  plt.axhline(.95)"
      ],
      "execution_count": null,
      "outputs": [
        {
          "output_type": "display_data",
          "data": {
            "image/png": "[encoded data removed]",
            "text/plain": [
              "<Figure size 432x288 with 1 Axes>"
            ]
          },
          "metadata": {
            "tags": []
          }
        }
      ]
    },
    {
      "cell_type": "code",
      "metadata": {
        "colab": {
          "base_uri": "https://localhost:8080/"
        },
        "id": "pJB7vf27IqOS",
        "outputId": "3cab4435-ed75-4070-ac91-f918ebd69dd9"
      },
      "source": [
        "pcs.shape"
      ],
      "execution_count": null,
      "outputs": [
        {
          "output_type": "execute_result",
          "data": {
            "text/plain": [
              "(11959, 31)"
            ]
          },
          "metadata": {
            "tags": []
          },
          "execution_count": 28
        }
      ]
    },
    {
      "cell_type": "code",
      "metadata": {
        "colab": {
          "base_uri": "https://localhost:8080/"
        },
        "id": "8Xn9r5vK611T",
        "outputId": "cf5a55b6-0f91-4e94-9cab-86484c8cfa24"
      },
      "source": [
        "pcs[:,0:15].shape"
      ],
      "execution_count": null,
      "outputs": [
        {
          "output_type": "execute_result",
          "data": {
            "text/plain": [
              "(11959, 15)"
            ]
          },
          "metadata": {
            "tags": []
          },
          "execution_count": 29
        }
      ]
    },
    {
      "cell_type": "code",
      "metadata": {
        "colab": {
          "base_uri": "https://localhost:8080/",
          "height": 609
        },
        "id": "WwMKb5B4IqOS",
        "outputId": "eff28038-03e1-49a2-a462-48c8eb4d97a4"
      },
      "source": [
        "pc_df = pd.DataFrame(pcs)\n",
        "pc_df"
      ],
      "execution_count": null,
      "outputs": [
        {
          "output_type": "execute_result",
          "data": {
            "text/html": [
              "<div>\n",
              "<style scoped>\n",
              "    .dataframe tbody tr th:only-of-type {\n",
              "        vertical-align: middle;\n",
              "    }\n",
              "\n",
              "    .dataframe tbody tr th {\n",
              "        vertical-align: top;\n",
              "    }\n",
              "\n",
              "    .dataframe thead th {\n",
              "        text-align: right;\n",
              "    }\n",
              "</style>\n",
              "<table border=\"1\" class=\"dataframe\">\n",
              "  <thead>\n",
              "    <tr style=\"text-align: right;\">\n",
              "      <th></th>\n",
              "      <th>0</th>\n",
              "      <th>1</th>\n",
              "      <th>2</th>\n",
              "      <th>3</th>\n",
              "      <th>4</th>\n",
              "      <th>5</th>\n",
              "      <th>6</th>\n",
              "      <th>7</th>\n",
              "      <th>8</th>\n",
              "      <th>9</th>\n",
              "      <th>10</th>\n",
              "      <th>11</th>\n",
              "      <th>12</th>\n",
              "      <th>13</th>\n",
              "      <th>14</th>\n",
              "      <th>15</th>\n",
              "      <th>16</th>\n",
              "      <th>17</th>\n",
              "      <th>18</th>\n",
              "      <th>19</th>\n",
              "      <th>20</th>\n",
              "      <th>21</th>\n",
              "      <th>22</th>\n",
              "      <th>23</th>\n",
              "      <th>24</th>\n",
              "      <th>25</th>\n",
              "      <th>26</th>\n",
              "      <th>27</th>\n",
              "      <th>28</th>\n",
              "      <th>29</th>\n",
              "      <th>30</th>\n",
              "    </tr>\n",
              "  </thead>\n",
              "  <tbody>\n",
              "    <tr>\n",
              "      <th>0</th>\n",
              "      <td>2.906772</td>\n",
              "      <td>-1.129503</td>\n",
              "      <td>-0.282227</td>\n",
              "      <td>-0.366857</td>\n",
              "      <td>-0.456494</td>\n",
              "      <td>-0.772229</td>\n",
              "      <td>-0.359326</td>\n",
              "      <td>-0.279401</td>\n",
              "      <td>0.454744</td>\n",
              "      <td>0.362873</td>\n",
              "      <td>0.089771</td>\n",
              "      <td>0.536587</td>\n",
              "      <td>-0.157389</td>\n",
              "      <td>0.389364</td>\n",
              "      <td>-0.834961</td>\n",
              "      <td>-0.582199</td>\n",
              "      <td>0.071783</td>\n",
              "      <td>0.008580</td>\n",
              "      <td>-0.118131</td>\n",
              "      <td>-0.151898</td>\n",
              "      <td>-0.170322</td>\n",
              "      <td>0.347149</td>\n",
              "      <td>-0.278228</td>\n",
              "      <td>0.075198</td>\n",
              "      <td>-0.011256</td>\n",
              "      <td>0.015589</td>\n",
              "      <td>-0.005927</td>\n",
              "      <td>-4.577171e-07</td>\n",
              "      <td>1.379874e-07</td>\n",
              "      <td>-8.706051e-08</td>\n",
              "      <td>-1.286803e-14</td>\n",
              "    </tr>\n",
              "    <tr>\n",
              "      <th>1</th>\n",
              "      <td>3.171863</td>\n",
              "      <td>2.270301</td>\n",
              "      <td>-1.173680</td>\n",
              "      <td>0.360452</td>\n",
              "      <td>0.102362</td>\n",
              "      <td>0.315596</td>\n",
              "      <td>-0.868480</td>\n",
              "      <td>-0.028216</td>\n",
              "      <td>-0.454762</td>\n",
              "      <td>-0.224480</td>\n",
              "      <td>-0.887733</td>\n",
              "      <td>0.218706</td>\n",
              "      <td>-1.237109</td>\n",
              "      <td>0.599565</td>\n",
              "      <td>-0.068030</td>\n",
              "      <td>-0.726238</td>\n",
              "      <td>-0.185509</td>\n",
              "      <td>-0.003193</td>\n",
              "      <td>-0.390608</td>\n",
              "      <td>-0.232610</td>\n",
              "      <td>0.176189</td>\n",
              "      <td>0.209952</td>\n",
              "      <td>-0.058912</td>\n",
              "      <td>-0.267957</td>\n",
              "      <td>0.068120</td>\n",
              "      <td>-0.044672</td>\n",
              "      <td>0.003480</td>\n",
              "      <td>2.455660e-05</td>\n",
              "      <td>9.216798e-07</td>\n",
              "      <td>-3.238209e-07</td>\n",
              "      <td>-1.611286e-14</td>\n",
              "    </tr>\n",
              "    <tr>\n",
              "      <th>2</th>\n",
              "      <td>2.310294</td>\n",
              "      <td>0.948345</td>\n",
              "      <td>-0.805765</td>\n",
              "      <td>0.137558</td>\n",
              "      <td>-2.337374</td>\n",
              "      <td>1.797817</td>\n",
              "      <td>0.496823</td>\n",
              "      <td>-0.501994</td>\n",
              "      <td>-0.110437</td>\n",
              "      <td>-0.713678</td>\n",
              "      <td>-0.485910</td>\n",
              "      <td>0.148561</td>\n",
              "      <td>-0.210830</td>\n",
              "      <td>-0.169194</td>\n",
              "      <td>-0.576540</td>\n",
              "      <td>-0.087130</td>\n",
              "      <td>-0.422072</td>\n",
              "      <td>-0.401635</td>\n",
              "      <td>-0.041717</td>\n",
              "      <td>-0.089432</td>\n",
              "      <td>0.356150</td>\n",
              "      <td>0.119241</td>\n",
              "      <td>-0.180158</td>\n",
              "      <td>0.062004</td>\n",
              "      <td>-0.016167</td>\n",
              "      <td>0.030409</td>\n",
              "      <td>-0.009371</td>\n",
              "      <td>-6.381054e-07</td>\n",
              "      <td>5.549246e-08</td>\n",
              "      <td>-8.734629e-08</td>\n",
              "      <td>2.801213e-14</td>\n",
              "    </tr>\n",
              "    <tr>\n",
              "      <th>3</th>\n",
              "      <td>0.348050</td>\n",
              "      <td>0.323525</td>\n",
              "      <td>-2.995386</td>\n",
              "      <td>1.849653</td>\n",
              "      <td>-1.360940</td>\n",
              "      <td>2.109491</td>\n",
              "      <td>-0.776473</td>\n",
              "      <td>0.423929</td>\n",
              "      <td>0.505756</td>\n",
              "      <td>0.398082</td>\n",
              "      <td>0.209046</td>\n",
              "      <td>0.113038</td>\n",
              "      <td>0.114050</td>\n",
              "      <td>0.164510</td>\n",
              "      <td>-0.074898</td>\n",
              "      <td>-0.195158</td>\n",
              "      <td>0.044473</td>\n",
              "      <td>-0.314664</td>\n",
              "      <td>0.266516</td>\n",
              "      <td>-0.186058</td>\n",
              "      <td>-0.198743</td>\n",
              "      <td>0.293815</td>\n",
              "      <td>-0.215141</td>\n",
              "      <td>0.042083</td>\n",
              "      <td>-0.006841</td>\n",
              "      <td>-0.009120</td>\n",
              "      <td>-0.008235</td>\n",
              "      <td>2.525845e-05</td>\n",
              "      <td>-1.597882e-07</td>\n",
              "      <td>9.486998e-08</td>\n",
              "      <td>1.956295e-15</td>\n",
              "    </tr>\n",
              "    <tr>\n",
              "      <th>4</th>\n",
              "      <td>-1.283508</td>\n",
              "      <td>1.714038</td>\n",
              "      <td>-2.708150</td>\n",
              "      <td>1.236925</td>\n",
              "      <td>0.096302</td>\n",
              "      <td>-0.233558</td>\n",
              "      <td>-2.606462</td>\n",
              "      <td>0.058414</td>\n",
              "      <td>-0.142280</td>\n",
              "      <td>0.305691</td>\n",
              "      <td>0.608242</td>\n",
              "      <td>-1.440334</td>\n",
              "      <td>-0.113610</td>\n",
              "      <td>-0.050692</td>\n",
              "      <td>-0.104370</td>\n",
              "      <td>-0.138074</td>\n",
              "      <td>-0.139408</td>\n",
              "      <td>-0.096387</td>\n",
              "      <td>0.150427</td>\n",
              "      <td>-0.182289</td>\n",
              "      <td>0.131972</td>\n",
              "      <td>0.071623</td>\n",
              "      <td>0.096390</td>\n",
              "      <td>0.062132</td>\n",
              "      <td>0.030856</td>\n",
              "      <td>0.015293</td>\n",
              "      <td>0.004568</td>\n",
              "      <td>-2.644486e-05</td>\n",
              "      <td>9.525131e-06</td>\n",
              "      <td>5.987994e-06</td>\n",
              "      <td>2.436256e-15</td>\n",
              "    </tr>\n",
              "    <tr>\n",
              "      <th>...</th>\n",
              "      <td>...</td>\n",
              "      <td>...</td>\n",
              "      <td>...</td>\n",
              "      <td>...</td>\n",
              "      <td>...</td>\n",
              "      <td>...</td>\n",
              "      <td>...</td>\n",
              "      <td>...</td>\n",
              "      <td>...</td>\n",
              "      <td>...</td>\n",
              "      <td>...</td>\n",
              "      <td>...</td>\n",
              "      <td>...</td>\n",
              "      <td>...</td>\n",
              "      <td>...</td>\n",
              "      <td>...</td>\n",
              "      <td>...</td>\n",
              "      <td>...</td>\n",
              "      <td>...</td>\n",
              "      <td>...</td>\n",
              "      <td>...</td>\n",
              "      <td>...</td>\n",
              "      <td>...</td>\n",
              "      <td>...</td>\n",
              "      <td>...</td>\n",
              "      <td>...</td>\n",
              "      <td>...</td>\n",
              "      <td>...</td>\n",
              "      <td>...</td>\n",
              "      <td>...</td>\n",
              "      <td>...</td>\n",
              "    </tr>\n",
              "    <tr>\n",
              "      <th>11954</th>\n",
              "      <td>0.291062</td>\n",
              "      <td>2.160559</td>\n",
              "      <td>3.568802</td>\n",
              "      <td>-1.962747</td>\n",
              "      <td>-2.630966</td>\n",
              "      <td>-0.767713</td>\n",
              "      <td>-0.221615</td>\n",
              "      <td>2.261466</td>\n",
              "      <td>-0.996681</td>\n",
              "      <td>-1.795873</td>\n",
              "      <td>-0.388540</td>\n",
              "      <td>-0.543681</td>\n",
              "      <td>-0.353368</td>\n",
              "      <td>0.031382</td>\n",
              "      <td>2.775617</td>\n",
              "      <td>-0.246483</td>\n",
              "      <td>-0.236930</td>\n",
              "      <td>-0.412111</td>\n",
              "      <td>-0.854451</td>\n",
              "      <td>0.088963</td>\n",
              "      <td>-0.010838</td>\n",
              "      <td>0.118240</td>\n",
              "      <td>-0.519651</td>\n",
              "      <td>0.502917</td>\n",
              "      <td>0.032401</td>\n",
              "      <td>-0.066743</td>\n",
              "      <td>-0.081192</td>\n",
              "      <td>2.377613e-05</td>\n",
              "      <td>1.032870e-05</td>\n",
              "      <td>6.406379e-06</td>\n",
              "      <td>1.186489e-15</td>\n",
              "    </tr>\n",
              "    <tr>\n",
              "      <th>11955</th>\n",
              "      <td>-0.781726</td>\n",
              "      <td>-2.494878</td>\n",
              "      <td>-0.830720</td>\n",
              "      <td>0.548072</td>\n",
              "      <td>0.834554</td>\n",
              "      <td>-1.603171</td>\n",
              "      <td>-0.524879</td>\n",
              "      <td>1.088524</td>\n",
              "      <td>0.012208</td>\n",
              "      <td>0.056544</td>\n",
              "      <td>-0.309833</td>\n",
              "      <td>0.546504</td>\n",
              "      <td>-0.160876</td>\n",
              "      <td>0.216601</td>\n",
              "      <td>0.286278</td>\n",
              "      <td>-0.769715</td>\n",
              "      <td>0.156444</td>\n",
              "      <td>0.336286</td>\n",
              "      <td>-0.152368</td>\n",
              "      <td>0.091034</td>\n",
              "      <td>-0.319598</td>\n",
              "      <td>-0.289949</td>\n",
              "      <td>0.041688</td>\n",
              "      <td>0.031528</td>\n",
              "      <td>-0.030564</td>\n",
              "      <td>0.051780</td>\n",
              "      <td>-0.033453</td>\n",
              "      <td>2.621766e-05</td>\n",
              "      <td>-6.154890e-08</td>\n",
              "      <td>1.396875e-07</td>\n",
              "      <td>2.577731e-16</td>\n",
              "    </tr>\n",
              "    <tr>\n",
              "      <th>11956</th>\n",
              "      <td>-0.241128</td>\n",
              "      <td>-1.584614</td>\n",
              "      <td>3.348928</td>\n",
              "      <td>3.638972</td>\n",
              "      <td>-1.273259</td>\n",
              "      <td>-0.078841</td>\n",
              "      <td>0.550766</td>\n",
              "      <td>-1.370835</td>\n",
              "      <td>0.835326</td>\n",
              "      <td>1.098791</td>\n",
              "      <td>0.746067</td>\n",
              "      <td>0.213538</td>\n",
              "      <td>0.050100</td>\n",
              "      <td>1.192541</td>\n",
              "      <td>-0.400562</td>\n",
              "      <td>-1.149262</td>\n",
              "      <td>-0.141116</td>\n",
              "      <td>-0.189681</td>\n",
              "      <td>0.106878</td>\n",
              "      <td>-0.148570</td>\n",
              "      <td>0.128884</td>\n",
              "      <td>-0.094504</td>\n",
              "      <td>0.009739</td>\n",
              "      <td>-0.340897</td>\n",
              "      <td>-0.233629</td>\n",
              "      <td>0.073085</td>\n",
              "      <td>0.038137</td>\n",
              "      <td>1.415263e-06</td>\n",
              "      <td>5.342348e-08</td>\n",
              "      <td>-2.878204e-07</td>\n",
              "      <td>5.116009e-17</td>\n",
              "    </tr>\n",
              "    <tr>\n",
              "      <th>11957</th>\n",
              "      <td>0.478823</td>\n",
              "      <td>-2.200958</td>\n",
              "      <td>-0.481000</td>\n",
              "      <td>-0.028374</td>\n",
              "      <td>0.487273</td>\n",
              "      <td>-1.498830</td>\n",
              "      <td>-0.137369</td>\n",
              "      <td>-0.932439</td>\n",
              "      <td>0.224562</td>\n",
              "      <td>0.462995</td>\n",
              "      <td>0.190184</td>\n",
              "      <td>0.670421</td>\n",
              "      <td>-0.308660</td>\n",
              "      <td>0.431426</td>\n",
              "      <td>0.013967</td>\n",
              "      <td>0.267633</td>\n",
              "      <td>0.219928</td>\n",
              "      <td>0.117839</td>\n",
              "      <td>-0.242643</td>\n",
              "      <td>-0.253638</td>\n",
              "      <td>0.443330</td>\n",
              "      <td>-0.023430</td>\n",
              "      <td>0.163484</td>\n",
              "      <td>0.026903</td>\n",
              "      <td>-0.025612</td>\n",
              "      <td>0.009805</td>\n",
              "      <td>0.001992</td>\n",
              "      <td>-5.212490e-08</td>\n",
              "      <td>3.691354e-08</td>\n",
              "      <td>-1.185406e-07</td>\n",
              "      <td>2.897065e-16</td>\n",
              "    </tr>\n",
              "    <tr>\n",
              "      <th>11958</th>\n",
              "      <td>-1.228325</td>\n",
              "      <td>1.170921</td>\n",
              "      <td>1.188926</td>\n",
              "      <td>2.189145</td>\n",
              "      <td>-0.335830</td>\n",
              "      <td>0.291589</td>\n",
              "      <td>0.060649</td>\n",
              "      <td>-0.192115</td>\n",
              "      <td>0.767011</td>\n",
              "      <td>-0.611263</td>\n",
              "      <td>0.211790</td>\n",
              "      <td>-1.069327</td>\n",
              "      <td>-0.193979</td>\n",
              "      <td>0.307894</td>\n",
              "      <td>0.468343</td>\n",
              "      <td>-0.374511</td>\n",
              "      <td>0.005404</td>\n",
              "      <td>-0.172106</td>\n",
              "      <td>-0.659057</td>\n",
              "      <td>0.552762</td>\n",
              "      <td>0.186935</td>\n",
              "      <td>0.161477</td>\n",
              "      <td>-0.390815</td>\n",
              "      <td>-0.026134</td>\n",
              "      <td>-0.087536</td>\n",
              "      <td>-0.032111</td>\n",
              "      <td>0.006658</td>\n",
              "      <td>-7.650166e-07</td>\n",
              "      <td>-1.089008e-05</td>\n",
              "      <td>1.475946e-06</td>\n",
              "      <td>-1.784596e-16</td>\n",
              "    </tr>\n",
              "  </tbody>\n",
              "</table>\n",
              "<p>11959 rows × 31 columns</p>\n",
              "</div>"
            ],
            "text/plain": [
              "             0         1         2   ...            28            29            30\n",
              "0      2.906772 -1.129503 -0.282227  ...  1.379874e-07 -8.706051e-08 -1.286803e-14\n",
              "1      3.171863  2.270301 -1.173680  ...  9.216798e-07 -3.238209e-07 -1.611286e-14\n",
              "2      2.310294  0.948345 -0.805765  ...  5.549246e-08 -8.734629e-08  2.801213e-14\n",
              "3      0.348050  0.323525 -2.995386  ... -1.597882e-07  9.486998e-08  1.956295e-15\n",
              "4     -1.283508  1.714038 -2.708150  ...  9.525131e-06  5.987994e-06  2.436256e-15\n",
              "...         ...       ...       ...  ...           ...           ...           ...\n",
              "11954  0.291062  2.160559  3.568802  ...  1.032870e-05  6.406379e-06  1.186489e-15\n",
              "11955 -0.781726 -2.494878 -0.830720  ... -6.154890e-08  1.396875e-07  2.577731e-16\n",
              "11956 -0.241128 -1.584614  3.348928  ...  5.342348e-08 -2.878204e-07  5.116009e-17\n",
              "11957  0.478823 -2.200958 -0.481000  ...  3.691354e-08 -1.185406e-07  2.897065e-16\n",
              "11958 -1.228325  1.170921  1.188926  ... -1.089008e-05  1.475946e-06 -1.784596e-16\n",
              "\n",
              "[11959 rows x 31 columns]"
            ]
          },
          "metadata": {
            "tags": []
          },
          "execution_count": 30
        }
      ]
    },
    {
      "cell_type": "markdown",
      "metadata": {
        "id": "QQNgxZ9x_IFx"
      },
      "source": [
        "# Clustering"
      ]
    },
    {
      "cell_type": "markdown",
      "metadata": {
        "id": "PsOQSCAh_Joo"
      },
      "source": [
        "## K-Means "
      ]
    },
    {
      "cell_type": "markdown",
      "metadata": {
        "id": "Kir8cC6D_aLO"
      },
      "source": [
        "First we loop over values from 2-30 to create and calculate scores for various K in K-Means Clustering "
      ]
    },
    {
      "cell_type": "code",
      "metadata": {
        "id": "ITXL4yawIqOT"
      },
      "source": [
        "KRANGE = range(2,30)\n",
        "\n",
        "inertias = []\n",
        "ss = []\n",
        "\n",
        "# loop over and evaluate\n",
        "for k in KRANGE:\n",
        "  km = KMeans(k)\n",
        "  lab = km.fit_predict(pcs)\n",
        "  inertias.append(km.inertia_)\n",
        "  ss.append(metrics.silhouette_score(pcs, lab))"
      ],
      "execution_count": null,
      "outputs": []
    },
    {
      "cell_type": "code",
      "metadata": {
        "colab": {
          "base_uri": "https://localhost:8080/"
        },
        "id": "JXyFyjfYIqOT",
        "outputId": "28571a8d-f970-4f69-92d0-b0f499023318"
      },
      "source": [
        "inertias[:5]\n",
        "# descend over time"
      ],
      "execution_count": null,
      "outputs": [
        {
          "output_type": "execute_result",
          "data": {
            "text/plain": [
              "[270002.8458330559,\n",
              " 245268.23483103735,\n",
              " 231705.44615748659,\n",
              " 220917.41186478024,\n",
              " 213779.4690319485]"
            ]
          },
          "metadata": {
            "tags": []
          },
          "execution_count": 32
        }
      ]
    },
    {
      "cell_type": "code",
      "metadata": {
        "colab": {
          "base_uri": "https://localhost:8080/",
          "height": 337
        },
        "id": "G6b6xqrdIqOU",
        "outputId": "54615125-03ea-4e11-9205-05a6eb219b12"
      },
      "source": [
        "# plot it up\n",
        "sns.lineplot(KRANGE, inertias)\n"
      ],
      "execution_count": null,
      "outputs": [
        {
          "output_type": "stream",
          "text": [
            "/usr/local/lib/python3.7/dist-packages/seaborn/_decorators.py:43: FutureWarning: Pass the following variables as keyword args: x, y. From version 0.12, the only valid positional argument will be `data`, and passing other arguments without an explicit keyword will result in an error or misinterpretation.\n",
            "  FutureWarning\n"
          ],
          "name": "stderr"
        },
        {
          "output_type": "execute_result",
          "data": {
            "text/plain": [
              "<matplotlib.axes._subplots.AxesSubplot at 0x7fb2686961d0>"
            ]
          },
          "metadata": {
            "tags": []
          },
          "execution_count": 33
        },
        {
          "output_type": "display_data",
          "data": {
            "image/png": "[encoded data removed]",
            "text/plain": [
              "<Figure size 432x288 with 1 Axes>"
            ]
          },
          "metadata": {
            "tags": []
          }
        }
      ]
    },
    {
      "cell_type": "code",
      "metadata": {
        "colab": {
          "base_uri": "https://localhost:8080/",
          "height": 324
        },
        "id": "23-IuPipIqOU",
        "outputId": "3a942594-a4eb-441f-e6f2-cf1b04b99a88"
      },
      "source": [
        "with sns.axes_style(\"whitegrid\"):\r\n",
        "  sns.lineplot(KRANGE, ss)\r\n",
        "plt.show()"
      ],
      "execution_count": null,
      "outputs": [
        {
          "output_type": "stream",
          "text": [
            "/usr/local/lib/python3.7/dist-packages/seaborn/_decorators.py:43: FutureWarning: Pass the following variables as keyword args: x, y. From version 0.12, the only valid positional argument will be `data`, and passing other arguments without an explicit keyword will result in an error or misinterpretation.\n",
            "  FutureWarning\n"
          ],
          "name": "stderr"
        },
        {
          "output_type": "display_data",
          "data": {
            "image/png": "[encoded data removed]",
            "text/plain": [
              "<Figure size 432x288 with 1 Axes>"
            ]
          },
          "metadata": {
            "tags": []
          }
        }
      ]
    },
    {
      "cell_type": "markdown",
      "metadata": {
        "id": "XpFyaKgSEZpD"
      },
      "source": [
        "Now we repeat using only 15 of our PCA columns"
      ]
    },
    {
      "cell_type": "code",
      "metadata": {
        "id": "51vNIiXjCRKd"
      },
      "source": [
        "KRANGE = range(2,30)\r\n",
        "\r\n",
        "inertias = []\r\n",
        "ss = []\r\n",
        "\r\n",
        "# loop over and evaluate\r\n",
        "for k in KRANGE:\r\n",
        "  km = KMeans(k)\r\n",
        "  lab = km.fit_predict(pcs[:,0:15])\r\n",
        "  inertias.append(km.inertia_)\r\n",
        "  ss.append(metrics.silhouette_score(pcs, lab))"
      ],
      "execution_count": null,
      "outputs": []
    },
    {
      "cell_type": "code",
      "metadata": {
        "colab": {
          "base_uri": "https://localhost:8080/"
        },
        "id": "jlSOfYJ7DaNb",
        "outputId": "3d61bd37-f708-47ce-92b0-678a405a674d"
      },
      "source": [
        "inertias[:5]\r\n",
        "# descend over time"
      ],
      "execution_count": null,
      "outputs": [
        {
          "output_type": "execute_result",
          "data": {
            "text/plain": [
              "[254558.47940386934,\n",
              " 229824.65242385294,\n",
              " 216246.54283084214,\n",
              " 205622.71333996978,\n",
              " 198437.64979641663]"
            ]
          },
          "metadata": {
            "tags": []
          },
          "execution_count": 36
        }
      ]
    },
    {
      "cell_type": "code",
      "metadata": {
        "colab": {
          "base_uri": "https://localhost:8080/",
          "height": 350
        },
        "id": "FgBK7tzsDaHn",
        "outputId": "15e83aff-0e4a-4777-dddc-ea404647a7b9"
      },
      "source": [
        "sns.lineplot(KRANGE, inertias)\r\n",
        "plt.title('Inertias for Various K')\r\n",
        "plt.xlabel('K')\r\n",
        "plt.ylabel('Inertia')\r\n",
        "plt.show()\r\n"
      ],
      "execution_count": null,
      "outputs": [
        {
          "output_type": "stream",
          "text": [
            "/usr/local/lib/python3.7/dist-packages/seaborn/_decorators.py:43: FutureWarning: Pass the following variables as keyword args: x, y. From version 0.12, the only valid positional argument will be `data`, and passing other arguments without an explicit keyword will result in an error or misinterpretation.\n",
            "  FutureWarning\n"
          ],
          "name": "stderr"
        },
        {
          "output_type": "display_data",
          "data": {
            "image/png": "[encoded data removed]",
            "text/plain": [
              "<Figure size 432x288 with 1 Axes>"
            ]
          },
          "metadata": {
            "tags": []
          }
        }
      ]
    },
    {
      "cell_type": "code",
      "metadata": {
        "colab": {
          "base_uri": "https://localhost:8080/",
          "height": 313
        },
        "id": "ZxMqfq3VDZ_L",
        "outputId": "dee4d790-89d8-4797-9182-b10de4bddf31"
      },
      "source": [
        "with sns.axes_style(\"whitegrid\"):\r\n",
        "  sns.lineplot(x = KRANGE,y  =  ss)\r\n",
        "plt.title('Silhouette Score for Various K')\r\n",
        "plt.xlabel('K')\r\n",
        "plt.ylabel('Silhouette Score')\r\n",
        "plt.figure()\r\n",
        "plt.show()"
      ],
      "execution_count": null,
      "outputs": [
        {
          "output_type": "display_data",
          "data": {
            "image/png": "[encoded data removed]",
            "text/plain": [
              "<Figure size 432x288 with 1 Axes>"
            ]
          },
          "metadata": {
            "tags": []
          }
        },
        {
          "output_type": "display_data",
          "data": {
            "text/plain": [
              "<Figure size 432x288 with 0 Axes>"
            ]
          },
          "metadata": {
            "tags": []
          }
        }
      ]
    },
    {
      "cell_type": "code",
      "metadata": {
        "id": "qoqHtiIj5e5F"
      },
      "source": [
        "ss[7]\r\n",
        "# index of 7 means k = 9 "
      ],
      "execution_count": null,
      "outputs": []
    },
    {
      "cell_type": "code",
      "metadata": {
        "id": "nt5EMI8TIqOV"
      },
      "source": [
        "ss"
      ],
      "execution_count": null,
      "outputs": []
    },
    {
      "cell_type": "markdown",
      "metadata": {
        "id": "DPRbRuMuA6tV"
      },
      "source": [
        "### K - 6  "
      ]
    },
    {
      "cell_type": "code",
      "metadata": {
        "id": "QRDN-NTUIqOV"
      },
      "source": [
        "k6 = KMeans(6)"
      ],
      "execution_count": null,
      "outputs": []
    },
    {
      "cell_type": "code",
      "metadata": {
        "id": "GSQ9A7j8IqOW"
      },
      "source": [
        "k6.fit(pcs)"
      ],
      "execution_count": null,
      "outputs": []
    },
    {
      "cell_type": "code",
      "metadata": {
        "id": "WEGL0YZIIqOW"
      },
      "source": [
        "k6labs = k6.predict(pcs)\n",
        "dfnn['k6labs'] = k6labs\n",
        "dfnn.head()"
      ],
      "execution_count": null,
      "outputs": []
    },
    {
      "cell_type": "code",
      "metadata": {
        "id": "y-u0YpcUIqOW"
      },
      "source": [
        "dfn['k6labs'] = dfnn['k6labs']\n",
        "dfn.sample(10)"
      ],
      "execution_count": null,
      "outputs": []
    },
    {
      "cell_type": "code",
      "metadata": {
        "id": "uEOruvHhIqOX"
      },
      "source": [
        "dfn['k6labs'].value_counts()"
      ],
      "execution_count": null,
      "outputs": []
    },
    {
      "cell_type": "code",
      "metadata": {
        "id": "B2YlYXB7IqOX"
      },
      "source": [
        "dfn.groupby('k6labs').mean().iloc[:,:15]"
      ],
      "execution_count": null,
      "outputs": []
    },
    {
      "cell_type": "code",
      "metadata": {
        "id": "0iuOYnlvIqOY"
      },
      "source": [
        "dfn.groupby('k6labs').mean().iloc[:,16:]"
      ],
      "execution_count": null,
      "outputs": []
    },
    {
      "cell_type": "markdown",
      "metadata": {
        "id": "tNTeoPcRcSSJ"
      },
      "source": [
        "**Silhouette Score**"
      ]
    },
    {
      "cell_type": "code",
      "metadata": {
        "id": "ywmaJhJwXTeN"
      },
      "source": [
        "silo_overall = metrics.silhouette_score(pcs, k6labs)\r\n",
        "\r\n",
        "silo_overall"
      ],
      "execution_count": null,
      "outputs": []
    },
    {
      "cell_type": "code",
      "metadata": {
        "id": "EcXSQVElY6BQ"
      },
      "source": [
        "skplt.metrics.plot_silhouette(pcs, k6labs, figsize=(7,7))"
      ],
      "execution_count": null,
      "outputs": []
    },
    {
      "cell_type": "code",
      "metadata": {
        "id": "5H9ck6tHbLom"
      },
      "source": [
        "k4 = KMeans(4)\r\n",
        "k4.fit(pcs)"
      ],
      "execution_count": null,
      "outputs": []
    },
    {
      "cell_type": "code",
      "metadata": {
        "id": "KBRvIM5MbIsY"
      },
      "source": [
        "skplt.metrics.plot_silhouette(pcs, k4.predict(pcs), figsize=(7,7))"
      ],
      "execution_count": null,
      "outputs": []
    },
    {
      "cell_type": "code",
      "metadata": {
        "id": "2ccnTSJp2vJx"
      },
      "source": [
        "k3 = KMeans(3)\r\n",
        "k3.fit(pcs)\r\n",
        "skplt.metrics.plot_silhouette(pcs, k3.predict(pcs), figsize=(7,7))"
      ],
      "execution_count": null,
      "outputs": []
    },
    {
      "cell_type": "code",
      "metadata": {
        "id": "oEbuw-0y3Dzo"
      },
      "source": [
        "k5 = KMeans(5)\r\n",
        "k5.fit(pcs)\r\n",
        "skplt.metrics.plot_silhouette(pcs, k5.predict(pcs), figsize=(7,7))"
      ],
      "execution_count": null,
      "outputs": []
    },
    {
      "cell_type": "markdown",
      "metadata": {
        "id": "i9Too_-wA-0P"
      },
      "source": [
        "### K - 9"
      ]
    },
    {
      "cell_type": "code",
      "metadata": {
        "id": "NyMvBYd2Vudi"
      },
      "source": [
        "k9 = KMeans(9)"
      ],
      "execution_count": null,
      "outputs": []
    },
    {
      "cell_type": "code",
      "metadata": {
        "id": "GCKHscb5Vudq"
      },
      "source": [
        "k9.fit(pcs)"
      ],
      "execution_count": null,
      "outputs": []
    },
    {
      "cell_type": "code",
      "metadata": {
        "id": "YhGnppsIVudr"
      },
      "source": [
        "k9labs = k9.predict(pcs)\n",
        "dfnn['k9labs'] = k9labs\n",
        "dfnn.head()"
      ],
      "execution_count": null,
      "outputs": []
    },
    {
      "cell_type": "code",
      "metadata": {
        "id": "DowGWSVCVudr"
      },
      "source": [
        "dfn['k9labs'] = dfnn['k9labs']\n",
        "dfn.sample(10)"
      ],
      "execution_count": null,
      "outputs": []
    },
    {
      "cell_type": "code",
      "metadata": {
        "id": "_GHX0cgSVuds"
      },
      "source": [
        "dfn['k9labs'].value_counts()"
      ],
      "execution_count": null,
      "outputs": []
    },
    {
      "cell_type": "code",
      "metadata": {
        "id": "sd7Dlt1JVudt"
      },
      "source": [
        "dfn.groupby('k9labs').mean().iloc[:,:15]"
      ],
      "execution_count": null,
      "outputs": []
    },
    {
      "cell_type": "code",
      "metadata": {
        "id": "1piCB0jZVudt"
      },
      "source": [
        "dfn.groupby('k9labs').mean().iloc[:,16:]"
      ],
      "execution_count": null,
      "outputs": []
    },
    {
      "cell_type": "markdown",
      "metadata": {
        "id": "SMGfv36SUwI-"
      },
      "source": [
        "### K-Means Evaluation"
      ]
    },
    {
      "cell_type": "code",
      "metadata": {
        "id": "EWQ4GaAlH8A6"
      },
      "source": [
        ""
      ],
      "execution_count": null,
      "outputs": []
    },
    {
      "cell_type": "code",
      "metadata": {
        "id": "PbuKdQ8_IqOY"
      },
      "source": [
        "dfk = df.copy()\r\n",
        "dfk['k6'] = dfn.k6labs\r\n",
        "dfk['k9'] = dfn.k9labs\r\n",
        "dfk = dfk.dropna(subset = ['k6'], axis = 'rows')\r\n",
        "dfk.shape"
      ],
      "execution_count": null,
      "outputs": []
    },
    {
      "cell_type": "code",
      "metadata": {
        "id": "wjSfE-o3Wzil"
      },
      "source": [
        "cols = [c for c in dfk.columns if c[-8:] != 'Footnote']\r\n",
        "dfk = dfk[cols]\r\n",
        "dfk.shape"
      ],
      "execution_count": null,
      "outputs": []
    },
    {
      "cell_type": "code",
      "metadata": {
        "id": "b4qx0_uJILnC"
      },
      "source": [
        "dfk.value_counts('k6')"
      ],
      "execution_count": null,
      "outputs": []
    },
    {
      "cell_type": "code",
      "metadata": {
        "id": "oT0NKdFLH9Bc"
      },
      "source": [
        "dfk.value_counts('k6').plot.bar()"
      ],
      "execution_count": null,
      "outputs": []
    },
    {
      "cell_type": "code",
      "metadata": {
        "id": "RpGFJftEXBPQ"
      },
      "source": [
        "dfk.select_dtypes('number').groupby('k6').mean().iloc[:,3:16]"
      ],
      "execution_count": null,
      "outputs": []
    },
    {
      "cell_type": "code",
      "metadata": {
        "id": "-f7BtXZ2VWYp"
      },
      "source": [
        "dfk.select_dtypes('number').groupby('k6').mean().iloc[:,16:34]"
      ],
      "execution_count": null,
      "outputs": []
    },
    {
      "cell_type": "code",
      "metadata": {
        "id": "4XWYzkCjXdSY"
      },
      "source": [
        "dfk[['Ownership Type', 'Provider Type', 'Provider Resides in Hospital', 'Continuing Care Retirement Community', 'Abuse Icon', 'With a Resident and Family Council', 'Automatic Sprinkler Systems in All Required Areas' ]].head(2)\r\n"
      ],
      "execution_count": null,
      "outputs": []
    },
    {
      "cell_type": "code",
      "metadata": {
        "id": "VObNMrMbuYqn"
      },
      "source": [
        "tt = dfk[['Overall Rating', 'Health Inspection Rating', 'QM Rating', 'Staffing Rating','Reported Licensed Staffing Hours per Resident per Day' , 'Number of Facility Reported Incidents', 'Total Amount of Fines in Dollars', 'k6']].groupby('k6').mean().sort_values('Overall Rating', ascending = False)\r\n",
        "tt"
      ],
      "execution_count": null,
      "outputs": []
    },
    {
      "cell_type": "code",
      "metadata": {
        "id": "5rUM6mD8JWew"
      },
      "source": [
        "tt.to_csv('table.csv')"
      ],
      "execution_count": null,
      "outputs": []
    },
    {
      "cell_type": "markdown",
      "metadata": {
        "id": "Pj7sV2vba2lO"
      },
      "source": [
        "Cluster 5:\r\n",
        "* Has highest average overall rating of any group (4.41) out of 5\r\n",
        "* Highest share of licensed staffing hours per resident (almost 50% higher than next closest group)\r\n",
        "* Much more likely to be run by a church (6.5% of facilities in this group vs 2.2% in all other groups)\r\n",
        "\r\n",
        "Cluster 3:\r\n",
        "* Has average overall rating almost as high as cluster 5 (4.28)\r\n",
        "* Achieves high rating with significantly less staff time per resident than cluster 5\r\n",
        "* Highest average RN staff rating\r\n",
        "\r\n",
        "Cluster 1:\r\n",
        "* Middle of the pack average overall rating (3.43) \r\n",
        "* Has highest average Quality Measure (QM) rating of any cluster\r\n",
        "  * QM rating measures changes in resident health like ability to move independently and other health outcomes. \r\n",
        "* Lowest average staffing rating of any cluster drags down high quality rating\r\n",
        "* Highest average number of residents per day of any cluster\r\n",
        "\r\n",
        "Cluster 2:\r\n",
        "* Middle of the pack average overall rating (3.54) \r\n",
        "* Highest average number of facility reported incidents of any cluster, other than cluster 0\r\n",
        "\r\n",
        "Cluster 4: \r\n",
        "* Very low average overall rating (2.01)\r\n",
        "* Has the lowest average QM rating of any group by far \r\n",
        "* Lowest average licensed staffing hours per resident\r\n",
        "\r\n",
        "Cluster 0:\r\n",
        "* Lowest average overall rating of any cluster (1.63)\r\n",
        "* Abysmal average health inspectionrating (1.24)\r\n",
        "* Average total fines for this group is $82,000, more than 10x the average for any other group\r\n",
        "* Does have higher average staffing rating than cluster 1\r\n"
      ]
    },
    {
      "cell_type": "code",
      "metadata": {
        "id": "4IQwrsT5hpu_"
      },
      "source": [
        "(1308+325+134+128) / dfk[dfk['k6']== 2]['Ownership Type'].value_counts().sum()"
      ],
      "execution_count": null,
      "outputs": []
    },
    {
      "cell_type": "code",
      "metadata": {
        "id": "k5L3i81rYMCu"
      },
      "source": [
        "dfk[dfk['k6']== 2]['Ownership Type'].value_counts()"
      ],
      "execution_count": null,
      "outputs": []
    },
    {
      "cell_type": "code",
      "metadata": {
        "id": "9BxZoDyqY8MS"
      },
      "source": [
        "dfk[dfk['k6']!= 2]['Ownership Type'].value_counts()"
      ],
      "execution_count": null,
      "outputs": []
    },
    {
      "cell_type": "code",
      "metadata": {
        "id": "f4NgXkKhaVrn"
      },
      "source": [
        "77 / dfk[dfk['k6']== 5]['Ownership Type'].value_counts().sum()"
      ],
      "execution_count": null,
      "outputs": []
    },
    {
      "cell_type": "code",
      "metadata": {
        "id": "kPqRpOqubVrH"
      },
      "source": [
        ""
      ],
      "execution_count": null,
      "outputs": []
    },
    {
      "cell_type": "code",
      "metadata": {
        "id": "qQZWXzBWZzE8"
      },
      "source": [
        "for k in range(0,6):\r\n",
        "  print(dfk[dfk['k6']== k]['Ownership Type'].value_counts()['Non profit - Church related'] / dfk[dfk['k6']== k]['Ownership Type'].value_counts().sum())"
      ],
      "execution_count": null,
      "outputs": []
    },
    {
      "cell_type": "code",
      "metadata": {
        "id": "jpCzJGxyieG2"
      },
      "source": [
        "for k in range(0,6):\r\n",
        "  print(dfk[dfk['k6']== k]['Ownership Type'].value_counts()['For profit - Corporation'] / dfk[dfk['k6']== k]['Ownership Type'].value_counts().sum())"
      ],
      "execution_count": null,
      "outputs": []
    },
    {
      "cell_type": "code",
      "metadata": {
        "id": "SHVEhwRsbb8M"
      },
      "source": [
        "dfk[dfk['k6'] != 5]['Ownership Type'].value_counts()['Non profit - Church related'] / dfk[dfk['k6'] != 5]['Ownership Type'].value_counts().sum()"
      ],
      "execution_count": null,
      "outputs": []
    },
    {
      "cell_type": "code",
      "metadata": {
        "id": "zxzVet0dXOiw"
      },
      "source": [
        ""
      ],
      "execution_count": null,
      "outputs": []
    },
    {
      "cell_type": "markdown",
      "metadata": {
        "id": "16pX1wbTMIER"
      },
      "source": [
        "## TSNE"
      ]
    },
    {
      "cell_type": "code",
      "metadata": {
        "id": "adBljW7cMKsN"
      },
      "source": [
        "tsne = TSNE(perplexity = 100)\r\n",
        "tsne.fit(pcs)"
      ],
      "execution_count": null,
      "outputs": []
    },
    {
      "cell_type": "code",
      "metadata": {
        "id": "-_Xq0fIsMTqg"
      },
      "source": [
        "te = tsne.embedding_\r\n",
        "\r\n",
        "te.shape"
      ],
      "execution_count": null,
      "outputs": []
    },
    {
      "cell_type": "code",
      "metadata": {
        "id": "aQgwmV5uMKpz"
      },
      "source": [
        "te[:3]"
      ],
      "execution_count": null,
      "outputs": []
    },
    {
      "cell_type": "code",
      "metadata": {
        "id": "vMOxeWRPMKm_"
      },
      "source": [
        "tdata = pd.DataFrame(te, columns=[\"e1\", \"e2\"])\r\n",
        "tdata['cluster'] = dfk.k6\r\n",
        "\r\n",
        "tdata.head(3)"
      ],
      "execution_count": null,
      "outputs": []
    },
    {
      "cell_type": "code",
      "metadata": {
        "id": "zyayjaZPMKkZ"
      },
      "source": [
        "tdata.cluster.value_counts(sort=False)"
      ],
      "execution_count": null,
      "outputs": []
    },
    {
      "cell_type": "code",
      "metadata": {
        "id": "98jygs8JNIfJ"
      },
      "source": [
        "PAL = sns.color_palette(\"bright\", 6) \r\n",
        "plt.figure(figsize=(10, 8))\r\n",
        "sns.scatterplot(x=\"e1\", y=\"e2\", hue=\"cluster\", data=tdata, legend=\"full\", palette=PAL)"
      ],
      "execution_count": null,
      "outputs": []
    },
    {
      "cell_type": "markdown",
      "metadata": {
        "id": "8FOcgu76ViX-"
      },
      "source": [
        "## Hierarchical Clustering"
      ]
    },
    {
      "cell_type": "markdown",
      "metadata": {
        "id": "031jUm6hcHX8"
      },
      "source": [
        "> Numeric Distances"
      ]
    },
    {
      "cell_type": "code",
      "metadata": {
        "id": "XuPnZLFTVkmJ"
      },
      "source": [
        "dfn1 = dfn.dropna()\r\n",
        "dfn1"
      ],
      "execution_count": null,
      "outputs": []
    },
    {
      "cell_type": "code",
      "metadata": {
        "id": "kP9jc2BUVljW"
      },
      "source": [
        "dfn_e = pdist(dfn1.values)\r\n",
        "dfn_es = squareform(dfn_e)\r\n",
        "dfn_es.shape, dfn_es[:1]"
      ],
      "execution_count": null,
      "outputs": []
    },
    {
      "cell_type": "markdown",
      "metadata": {
        "id": "We3zyH9ObDX8"
      },
      "source": [
        "> Categorical Distance"
      ]
    },
    {
      "cell_type": "code",
      "metadata": {
        "id": "A0_oYoBIaY_d"
      },
      "source": [
        "dfcd1 = dfcd.iloc[dfn1.index.values] # only taking categorical variables for which we have no null values in numeric columns\r\n",
        "dfcd1"
      ],
      "execution_count": null,
      "outputs": []
    },
    {
      "cell_type": "code",
      "metadata": {
        "id": "uLZWlh0La7NX"
      },
      "source": [
        "dfc_j = pdist(dfcd1.values, metric = \"jaccard\")\r\n",
        "dfc_js = squareform(dfc_j)\r\n",
        "\r\n",
        "dfc_js.shape, dfc_js[:1]"
      ],
      "execution_count": null,
      "outputs": []
    },
    {
      "cell_type": "code",
      "metadata": {
        "id": "ae0tJzQCbQxI"
      },
      "source": [
        "dfc_j.shape, dfn_e.shape"
      ],
      "execution_count": null,
      "outputs": []
    },
    {
      "cell_type": "code",
      "metadata": {
        "id": "mS6uBiqrcEQh"
      },
      "source": [
        "combined_matrix = dfc_j + dfn_e\r\n",
        "combined_matrix[:10]"
      ],
      "execution_count": null,
      "outputs": []
    },
    {
      "cell_type": "code",
      "metadata": {
        "id": "B63pVQE1coB-"
      },
      "source": [
        "squareform(combined_matrix).shape"
      ],
      "execution_count": null,
      "outputs": []
    },
    {
      "cell_type": "code",
      "metadata": {
        "id": "Kr5BkvuHcsiw"
      },
      "source": [
        "hc1 = linkage(combined_matrix)\r\n",
        "hc1[:2]"
      ],
      "execution_count": null,
      "outputs": []
    },
    {
      "cell_type": "code",
      "metadata": {
        "id": "Qsxp5TSuUoFV"
      },
      "source": [
        "hc1.shape"
      ],
      "execution_count": null,
      "outputs": []
    },
    {
      "cell_type": "code",
      "metadata": {
        "id": "Xmdb9TQTdDGg"
      },
      "source": [
        "dendrogram(hc1[:500])\r\n",
        "plt.show()"
      ],
      "execution_count": null,
      "outputs": []
    },
    {
      "cell_type": "code",
      "metadata": {
        "id": "ZkcxE7iOeQCN"
      },
      "source": [
        ""
      ],
      "execution_count": null,
      "outputs": []
    },
    {
      "cell_type": "markdown",
      "metadata": {
        "id": "3qj-Bj2M3d7G"
      },
      "source": [
        "#Sentiment Analysis\r\n",
        "\r\n"
      ]
    },
    {
      "cell_type": "code",
      "metadata": {
        "colab": {
          "base_uri": "https://localhost:8080/"
        },
        "id": "OP-6QZFx3x_N",
        "outputId": "ea88dd61-5d42-4216-f94d-62d5207d51bd"
      },
      "source": [
        "!pip install afinn"
      ],
      "execution_count": null,
      "outputs": [
        {
          "output_type": "stream",
          "text": [
            "Collecting afinn\n",
            "\u001b[?25l  Downloading https://files.pythonhosted.org/packages/86/e5/ffbb7ee3cca21ac6d310ac01944fb163c20030b45bda25421d725d8a859a/afinn-0.1.tar.gz (52kB)\n",
            "\r\u001b[K     |██████▎                         | 10kB 14.7MB/s eta 0:00:01\r\u001b[K     |████████████▌                   | 20kB 16.8MB/s eta 0:00:01\r\u001b[K     |██████████████████▊             | 30kB 10.6MB/s eta 0:00:01\r\u001b[K     |█████████████████████████       | 40kB 9.2MB/s eta 0:00:01\r\u001b[K     |███████████████████████████████▏| 51kB 5.6MB/s eta 0:00:01\r\u001b[K     |████████████████████████████████| 61kB 3.5MB/s \n",
            "\u001b[?25hBuilding wheels for collected packages: afinn\n",
            "  Building wheel for afinn (setup.py) ... \u001b[?25l\u001b[?25hdone\n",
            "  Created wheel for afinn: filename=afinn-0.1-cp37-none-any.whl size=53451 sha256=fe92e266d62ae62fea100cbec15612bccc4d64400aaedbae5843e3353d9fc707\n",
            "  Stored in directory: /root/.cache/pip/wheels/b5/1c/de/428301f3333ca509dcf20ff358690eb23a1388fbcbbde008b2\n",
            "Successfully built afinn\n",
            "Installing collected packages: afinn\n",
            "Successfully installed afinn-0.1\n"
          ],
          "name": "stdout"
        }
      ]
    },
    {
      "cell_type": "code",
      "metadata": {
        "colab": {
          "base_uri": "https://localhost:8080/"
        },
        "id": "wbvEVYE23ki5",
        "outputId": "fdf8f8a6-0347-41b7-a3bb-cbb4788d18c9"
      },
      "source": [
        "# import necessary packages \r\n",
        "# Here we want to be able to do both: dictionary / ML based sentiment analysis.\r\n",
        "import pandas as pd \r\n",
        "import numpy as np \r\n",
        "import afinn\r\n",
        "import nltk\r\n",
        "from nltk.sentiment import SentimentIntensityAnalyzer\r\n",
        "nltk.download('vader_lexicon')"
      ],
      "execution_count": null,
      "outputs": [
        {
          "output_type": "stream",
          "text": [
            "[nltk_data] Downloading package vader_lexicon to /root/nltk_data...\n"
          ],
          "name": "stdout"
        },
        {
          "output_type": "stream",
          "text": [
            "/usr/local/lib/python3.7/dist-packages/nltk/twitter/__init__.py:20: UserWarning: The twython library has not been installed. Some functionality from the twitter package will not be available.\n",
            "  warnings.warn(\"The twython library has not been installed. \"\n"
          ],
          "name": "stderr"
        },
        {
          "output_type": "execute_result",
          "data": {
            "text/plain": [
              "True"
            ]
          },
          "metadata": {
            "tags": []
          },
          "execution_count": 67
        }
      ]
    },
    {
      "cell_type": "code",
      "metadata": {
        "id": "fhgiHxHm3qYx"
      },
      "source": [
        "data = pd.read_json('data_1.json')\r\n",
        "data2 = pd.read_json('data_2.json')\r\n",
        "data3 = pd.read_json('data_3.json')\r\n",
        "data4 = pd.read_json('data_4.json')\r\n",
        "data5 = pd.read_json('data_5.json')\r\n",
        "data6 = pd.read_json('data_6.json')\r\n",
        "data7 = pd.read_json('data_7.json')\r\n",
        "data8 = pd.read_json('data_8.json')\r\n",
        "data9 = pd.read_json('data_9.json')\r\n",
        "data10 = pd.read_json('data_10.json')\r\n",
        "data11= pd.read_json('data_11.json')"
      ],
      "execution_count": null,
      "outputs": []
    },
    {
      "cell_type": "code",
      "metadata": {
        "id": "ejl5XeYd3se3"
      },
      "source": [
        "# Here we are going to write a function to process this text \r\n",
        "def preprocess():\r\n",
        "    output = pd.DataFrame()\r\n",
        "    \r\n",
        "    for i in range(1,12):\r\n",
        "        df = pd.read_json(f\"data_{i}.json\")\r\n",
        "    \r\n",
        "        df['medical_number'] = int(df['medical_number'][0][0])\r\n",
        "        df['name'] = df['name'][0][0].replace('\\n','')\r\n",
        "        df['name'] = df['name'].apply(lambda name: name.upper())\r\n",
        "        review = df['review']\r\n",
        "\r\n",
        "        reviews = [x.replace(\"\\n\",\"\") for x in review[0]]\r\n",
        "        reviews = pd.DataFrame(reviews,columns=['review'])\r\n",
        "\r\n",
        "        reviews['Provider Name'] = df['name']\r\n",
        "        reviews['Federal Provider Number'] = df['medical_number']\r\n",
        "        \r\n",
        "        if len(output) == 0:\r\n",
        "            output = reviews\r\n",
        "        else:\r\n",
        "            output = pd.concat([output,reviews],axis=0)\r\n",
        "        \r\n",
        "    \r\n",
        "    output.fillna(method='ffill',inplace=True)\r\n",
        "    output['Federal Provider Number']=output['Federal Provider Number'].astype('int')\r\n",
        "    output.reset_index(inplace=True)\r\n",
        "    \r\n",
        "    output.drop(['index'],axis=1,inplace=True)\r\n",
        "    \r\n",
        "    return output"
      ],
      "execution_count": null,
      "outputs": []
    },
    {
      "cell_type": "code",
      "metadata": {
        "id": "2NJhVErO3tlL"
      },
      "source": [
        "test = preprocess()"
      ],
      "execution_count": null,
      "outputs": []
    },
    {
      "cell_type": "code",
      "metadata": {
        "colab": {
          "base_uri": "https://localhost:8080/",
          "height": 1000
        },
        "id": "HTssgvuX3uhf",
        "outputId": "5c827798-8527-40f1-94b7-9e3730ab8184"
      },
      "source": [
        "test"
      ],
      "execution_count": null,
      "outputs": [
        {
          "output_type": "execute_result",
          "data": {
            "text/html": [
              "<div>\n",
              "<style scoped>\n",
              "    .dataframe tbody tr th:only-of-type {\n",
              "        vertical-align: middle;\n",
              "    }\n",
              "\n",
              "    .dataframe tbody tr th {\n",
              "        vertical-align: top;\n",
              "    }\n",
              "\n",
              "    .dataframe thead th {\n",
              "        text-align: right;\n",
              "    }\n",
              "</style>\n",
              "<table border=\"1\" class=\"dataframe\">\n",
              "  <thead>\n",
              "    <tr style=\"text-align: right;\">\n",
              "      <th></th>\n",
              "      <th>review</th>\n",
              "      <th>Provider Name</th>\n",
              "      <th>Federal Provider Number</th>\n",
              "    </tr>\n",
              "  </thead>\n",
              "  <tbody>\n",
              "    <tr>\n",
              "      <th>0</th>\n",
              "      <td>I enjoyed the visit with my client at Angels N...</td>\n",
              "      <td>ANGELS NURSING HEALTH CENTER</td>\n",
              "      <td>55704</td>\n",
              "    </tr>\n",
              "    <tr>\n",
              "      <th>1</th>\n",
              "      <td>Hollenbeck Palms is a nice place, a good place...</td>\n",
              "      <td>HOLLENBECK PALMS</td>\n",
              "      <td>55115</td>\n",
              "    </tr>\n",
              "    <tr>\n",
              "      <th>2</th>\n",
              "      <td>Hollenbeck Palms was beautiful. It's just that...</td>\n",
              "      <td>HOLLENBECK PALMS</td>\n",
              "      <td>55115</td>\n",
              "    </tr>\n",
              "    <tr>\n",
              "      <th>3</th>\n",
              "      <td>Hollenbeck Palms was nice, and the staff seeme...</td>\n",
              "      <td>HOLLENBECK PALMS</td>\n",
              "      <td>55115</td>\n",
              "    </tr>\n",
              "    <tr>\n",
              "      <th>4</th>\n",
              "      <td>Hollenbeck Palms is one of the oldest faciliti...</td>\n",
              "      <td>HOLLENBECK PALMS</td>\n",
              "      <td>55115</td>\n",
              "    </tr>\n",
              "    <tr>\n",
              "      <th>5</th>\n",
              "      <td>Hollenbeck is a pretty nice place and well sta...</td>\n",
              "      <td>HOLLENBECK PALMS</td>\n",
              "      <td>55115</td>\n",
              "    </tr>\n",
              "    <tr>\n",
              "      <th>6</th>\n",
              "      <td>Everything at Hollenbeck Palms, like the rooms...</td>\n",
              "      <td>HOLLENBECK PALMS</td>\n",
              "      <td>55115</td>\n",
              "    </tr>\n",
              "    <tr>\n",
              "      <th>7</th>\n",
              "      <td>My cousin is at Hollenbeck Palms and the place...</td>\n",
              "      <td>HOLLENBECK PALMS</td>\n",
              "      <td>55115</td>\n",
              "    </tr>\n",
              "    <tr>\n",
              "      <th>8</th>\n",
              "      <td>Everything was good. I was impressed with Holl...</td>\n",
              "      <td>HOLLENBECK PALMS</td>\n",
              "      <td>55115</td>\n",
              "    </tr>\n",
              "    <tr>\n",
              "      <th>9</th>\n",
              "      <td>I cannot say enough good things about Hollenbe...</td>\n",
              "      <td>HOLLENBECK PALMS</td>\n",
              "      <td>55115</td>\n",
              "    </tr>\n",
              "    <tr>\n",
              "      <th>10</th>\n",
              "      <td>We visited Hollenbeck Palms. The staff was ver...</td>\n",
              "      <td>HOLLENBECK PALMS</td>\n",
              "      <td>55115</td>\n",
              "    </tr>\n",
              "    <tr>\n",
              "      <th>11</th>\n",
              "      <td>Hollenbeck Palms is one of the best places aro...</td>\n",
              "      <td>HOLLENBECK PALMS</td>\n",
              "      <td>55115</td>\n",
              "    </tr>\n",
              "    <tr>\n",
              "      <th>12</th>\n",
              "      <td>The staff at Hollenbeck Palms was wonderful. T...</td>\n",
              "      <td>HOLLENBECK PALMS</td>\n",
              "      <td>55115</td>\n",
              "    </tr>\n",
              "    <tr>\n",
              "      <th>13</th>\n",
              "      <td>We have moved my wife’s parents in Hollenbeck ...</td>\n",
              "      <td>HOLLENBECK PALMS</td>\n",
              "      <td>55115</td>\n",
              "    </tr>\n",
              "    <tr>\n",
              "      <th>14</th>\n",
              "      <td>Very welcoming with options for care and plans...</td>\n",
              "      <td>HOLLENBECK PALMS</td>\n",
              "      <td>55115</td>\n",
              "    </tr>\n",
              "    <tr>\n",
              "      <th>15</th>\n",
              "      <td>Hollenbeck Palms was nice. The one who took us...</td>\n",
              "      <td>HOLLENBECK PALMS</td>\n",
              "      <td>55115</td>\n",
              "    </tr>\n",
              "    <tr>\n",
              "      <th>16</th>\n",
              "      <td>Hollenbeck Palms was clean. The staff was very...</td>\n",
              "      <td>HOLLENBECK PALMS</td>\n",
              "      <td>55115</td>\n",
              "    </tr>\n",
              "    <tr>\n",
              "      <th>17</th>\n",
              "      <td>Hollenbeck Palms is phenomenal. The facility a...</td>\n",
              "      <td>HOLLENBECK PALMS</td>\n",
              "      <td>55115</td>\n",
              "    </tr>\n",
              "    <tr>\n",
              "      <th>18</th>\n",
              "      <td>My grandfather moved to Hollenbeck Home once h...</td>\n",
              "      <td>HOLLENBECK PALMS</td>\n",
              "      <td>55115</td>\n",
              "    </tr>\n",
              "    <tr>\n",
              "      <th>19</th>\n",
              "      <td>I think Hollenbeck assisted living facility is...</td>\n",
              "      <td>HOLLENBECK PALMS</td>\n",
              "      <td>55115</td>\n",
              "    </tr>\n",
              "    <tr>\n",
              "      <th>20</th>\n",
              "      <td>The apartments at Hollenbeck Palms were beauti...</td>\n",
              "      <td>HOLLENBECK PALMS</td>\n",
              "      <td>55115</td>\n",
              "    </tr>\n",
              "    <tr>\n",
              "      <th>21</th>\n",
              "      <td>I had a good experience with Hollenbeck Palms,...</td>\n",
              "      <td>HOLLENBECK PALMS</td>\n",
              "      <td>55115</td>\n",
              "    </tr>\n",
              "    <tr>\n",
              "      <th>22</th>\n",
              "      <td>I liked Hollenbeck Palms, but I didn’t like th...</td>\n",
              "      <td>HOLLENBECK PALMS</td>\n",
              "      <td>55115</td>\n",
              "    </tr>\n",
              "    <tr>\n",
              "      <th>23</th>\n",
              "      <td>Hollenbeck Palms was nice, and I enjoyed it. I...</td>\n",
              "      <td>HOLLENBECK PALMS</td>\n",
              "      <td>55115</td>\n",
              "    </tr>\n",
              "    <tr>\n",
              "      <th>24</th>\n",
              "      <td>I stayed at Hollenbeck Palms and I didn't like...</td>\n",
              "      <td>HOLLENBECK PALMS</td>\n",
              "      <td>55115</td>\n",
              "    </tr>\n",
              "    <tr>\n",
              "      <th>25</th>\n",
              "      <td>My wife wasn't happy with the Hollenbeck Palms...</td>\n",
              "      <td>HOLLENBECK PALMS</td>\n",
              "      <td>55115</td>\n",
              "    </tr>\n",
              "    <tr>\n",
              "      <th>26</th>\n",
              "      <td>My husband is at Hollenbeck Palms and the faci...</td>\n",
              "      <td>HOLLENBECK PALMS</td>\n",
              "      <td>55115</td>\n",
              "    </tr>\n",
              "    <tr>\n",
              "      <th>27</th>\n",
              "      <td>I thought Jewish Home (Grancell Village) was t...</td>\n",
              "      <td>LOS ANGELES JEWISH HOME</td>\n",
              "      <td>555137</td>\n",
              "    </tr>\n",
              "    <tr>\n",
              "      <th>28</th>\n",
              "      <td>When we took my wife to the doctor, she couldn...</td>\n",
              "      <td>LOS ANGELES JEWISH HOME</td>\n",
              "      <td>555137</td>\n",
              "    </tr>\n",
              "    <tr>\n",
              "      <th>29</th>\n",
              "      <td>We decided against Bonnie Brae because it's in...</td>\n",
              "      <td>BONNIE BRAE CONVALESCENT HOSP</td>\n",
              "      <td>55538</td>\n",
              "    </tr>\n",
              "    <tr>\n",
              "      <th>30</th>\n",
              "      <td>I am currently at this rehab center and appare...</td>\n",
              "      <td>HANCOCK PARK REHABILITATION &amp; NURSING CENTER</td>\n",
              "      <td>56195</td>\n",
              "    </tr>\n",
              "    <tr>\n",
              "      <th>31</th>\n",
              "      <td>My father has been there for many months.  It ...</td>\n",
              "      <td>HANCOCK PARK REHABILITATION &amp; NURSING CENTER</td>\n",
              "      <td>56195</td>\n",
              "    </tr>\n",
              "    <tr>\n",
              "      <th>32</th>\n",
              "      <td>I visited Westside Health Care. It was very ni...</td>\n",
              "      <td>WESTSIDE HEALTH CARE</td>\n",
              "      <td>555139</td>\n",
              "    </tr>\n",
              "    <tr>\n",
              "      <th>33</th>\n",
              "      <td>I have found a facility for my patient. The pa...</td>\n",
              "      <td>WESTSIDE HEALTH CARE</td>\n",
              "      <td>555139</td>\n",
              "    </tr>\n",
              "    <tr>\n",
              "      <th>34</th>\n",
              "      <td>During recent months I was an IV patient at th...</td>\n",
              "      <td>BROADWAY MANOR CARE CENTER</td>\n",
              "      <td>55670</td>\n",
              "    </tr>\n",
              "    <tr>\n",
              "      <th>35</th>\n",
              "      <td>I am so impressed by the integrity of this fac...</td>\n",
              "      <td>BROADWAY MANOR CARE CENTER</td>\n",
              "      <td>55670</td>\n",
              "    </tr>\n",
              "    <tr>\n",
              "      <th>36</th>\n",
              "      <td>This 5 Star facility took great pride in takin...</td>\n",
              "      <td>BROADWAY MANOR CARE CENTER</td>\n",
              "      <td>55670</td>\n",
              "    </tr>\n",
              "    <tr>\n",
              "      <th>37</th>\n",
              "      <td>My father was in this facility only 10 days, H...</td>\n",
              "      <td>BROADWAY MANOR CARE CENTER</td>\n",
              "      <td>55670</td>\n",
              "    </tr>\n",
              "    <tr>\n",
              "      <th>38</th>\n",
              "      <td>My father was at Broadway Manor. My father had...</td>\n",
              "      <td>BROADWAY MANOR CARE CENTER</td>\n",
              "      <td>55670</td>\n",
              "    </tr>\n",
              "    <tr>\n",
              "      <th>39</th>\n",
              "      <td>Excellent facility! We researched many facilit...</td>\n",
              "      <td>BROADWAY MANOR CARE CENTER</td>\n",
              "      <td>55670</td>\n",
              "    </tr>\n",
              "    <tr>\n",
              "      <th>40</th>\n",
              "      <td>He gets good care, and Broadway Manor contacts...</td>\n",
              "      <td>BROADWAY MANOR CARE CENTER</td>\n",
              "      <td>55670</td>\n",
              "    </tr>\n",
              "    <tr>\n",
              "      <th>41</th>\n",
              "      <td>My dad is at Live Oak Rehab Center, and I like...</td>\n",
              "      <td>LIVE OAK REHAB CENTER</td>\n",
              "      <td>56127</td>\n",
              "    </tr>\n",
              "    <tr>\n",
              "      <th>42</th>\n",
              "      <td>Small, dirty, smelly rooms shared between two ...</td>\n",
              "      <td>AUTUMN HILLS HEALTH CARE</td>\n",
              "      <td>55288</td>\n",
              "    </tr>\n",
              "    <tr>\n",
              "      <th>43</th>\n",
              "      <td>Clothing thief\\rIn the first week and a half, ...</td>\n",
              "      <td>AUTUMN HILLS HEALTH CARE</td>\n",
              "      <td>55288</td>\n",
              "    </tr>\n",
              "    <tr>\n",
              "      <th>44</th>\n",
              "      <td>Autumn Hills is good, but my relative has to m...</td>\n",
              "      <td>AUTUMN HILLS HEALTH CARE</td>\n",
              "      <td>55288</td>\n",
              "    </tr>\n",
              "    <tr>\n",
              "      <th>45</th>\n",
              "      <td>My dad is currently in Autumn Hills a skilled ...</td>\n",
              "      <td>AUTUMN HILLS HEALTH CARE</td>\n",
              "      <td>55288</td>\n",
              "    </tr>\n",
              "    <tr>\n",
              "      <th>46</th>\n",
              "      <td>My mother was at this facility this for 13 day...</td>\n",
              "      <td>BURBANK HEALTHCARE &amp; REHAB</td>\n",
              "      <td>56129</td>\n",
              "    </tr>\n",
              "    <tr>\n",
              "      <th>47</th>\n",
              "      <td>I was imprisoned here for a week after knee re...</td>\n",
              "      <td>BURBANK HEALTHCARE &amp; REHAB</td>\n",
              "      <td>56129</td>\n",
              "    </tr>\n",
              "    <tr>\n",
              "      <th>48</th>\n",
              "      <td>Burbank Healthcare &amp; Rehabilitation Center is ...</td>\n",
              "      <td>BURBANK HEALTHCARE &amp; REHAB</td>\n",
              "      <td>56129</td>\n",
              "    </tr>\n",
              "    <tr>\n",
              "      <th>49</th>\n",
              "      <td>My brother was transferred to this location fo...</td>\n",
              "      <td>BURBANK HEALTHCARE &amp; REHAB</td>\n",
              "      <td>56129</td>\n",
              "    </tr>\n",
              "    <tr>\n",
              "      <th>50</th>\n",
              "      <td>It's a clean center and there's no smell. My m...</td>\n",
              "      <td>BURBANK HEALTHCARE &amp; REHAB</td>\n",
              "      <td>56129</td>\n",
              "    </tr>\n",
              "    <tr>\n",
              "      <th>51</th>\n",
              "      <td>My father suffered a massive stroke which left...</td>\n",
              "      <td>BURBANK HEALTHCARE &amp; REHAB</td>\n",
              "      <td>56129</td>\n",
              "    </tr>\n",
              "    <tr>\n",
              "      <th>52</th>\n",
              "      <td>Frequently it is impossible to get anyone to a...</td>\n",
              "      <td>CALIFORNIA POST ACUTE CARE</td>\n",
              "      <td>55052</td>\n",
              "    </tr>\n",
              "    <tr>\n",
              "      <th>53</th>\n",
              "      <td>Not enough help!!! My mother laid in feces 41/...</td>\n",
              "      <td>CALIFORNIA POST ACUTE CARE</td>\n",
              "      <td>55052</td>\n",
              "    </tr>\n",
              "    <tr>\n",
              "      <th>54</th>\n",
              "      <td>I don't like this place at all! They have bad ...</td>\n",
              "      <td>CALIFORNIA POST ACUTE CARE</td>\n",
              "      <td>55052</td>\n",
              "    </tr>\n",
              "    <tr>\n",
              "      <th>55</th>\n",
              "      <td>Situated in a busy commercial area, Bloomfield...</td>\n",
              "      <td>CALIFORNIA POST ACUTE CARE</td>\n",
              "      <td>55052</td>\n",
              "    </tr>\n",
              "    <tr>\n",
              "      <th>56</th>\n",
              "      <td>The facilities are not kept very well. The pat...</td>\n",
              "      <td>CALIFORNIA POST ACUTE CARE</td>\n",
              "      <td>55052</td>\n",
              "    </tr>\n",
              "    <tr>\n",
              "      <th>57</th>\n",
              "      <td>High turn over in personel. Poor equipment. Ca...</td>\n",
              "      <td>CALIFORNIA POST ACUTE CARE</td>\n",
              "      <td>55052</td>\n",
              "    </tr>\n",
              "  </tbody>\n",
              "</table>\n",
              "</div>"
            ],
            "text/plain": [
              "                                               review  ... Federal Provider Number\n",
              "0   I enjoyed the visit with my client at Angels N...  ...                   55704\n",
              "1   Hollenbeck Palms is a nice place, a good place...  ...                   55115\n",
              "2   Hollenbeck Palms was beautiful. It's just that...  ...                   55115\n",
              "3   Hollenbeck Palms was nice, and the staff seeme...  ...                   55115\n",
              "4   Hollenbeck Palms is one of the oldest faciliti...  ...                   55115\n",
              "5   Hollenbeck is a pretty nice place and well sta...  ...                   55115\n",
              "6   Everything at Hollenbeck Palms, like the rooms...  ...                   55115\n",
              "7   My cousin is at Hollenbeck Palms and the place...  ...                   55115\n",
              "8   Everything was good. I was impressed with Holl...  ...                   55115\n",
              "9   I cannot say enough good things about Hollenbe...  ...                   55115\n",
              "10  We visited Hollenbeck Palms. The staff was ver...  ...                   55115\n",
              "11  Hollenbeck Palms is one of the best places aro...  ...                   55115\n",
              "12  The staff at Hollenbeck Palms was wonderful. T...  ...                   55115\n",
              "13  We have moved my wife’s parents in Hollenbeck ...  ...                   55115\n",
              "14  Very welcoming with options for care and plans...  ...                   55115\n",
              "15  Hollenbeck Palms was nice. The one who took us...  ...                   55115\n",
              "16  Hollenbeck Palms was clean. The staff was very...  ...                   55115\n",
              "17  Hollenbeck Palms is phenomenal. The facility a...  ...                   55115\n",
              "18  My grandfather moved to Hollenbeck Home once h...  ...                   55115\n",
              "19  I think Hollenbeck assisted living facility is...  ...                   55115\n",
              "20  The apartments at Hollenbeck Palms were beauti...  ...                   55115\n",
              "21  I had a good experience with Hollenbeck Palms,...  ...                   55115\n",
              "22  I liked Hollenbeck Palms, but I didn’t like th...  ...                   55115\n",
              "23  Hollenbeck Palms was nice, and I enjoyed it. I...  ...                   55115\n",
              "24  I stayed at Hollenbeck Palms and I didn't like...  ...                   55115\n",
              "25  My wife wasn't happy with the Hollenbeck Palms...  ...                   55115\n",
              "26  My husband is at Hollenbeck Palms and the faci...  ...                   55115\n",
              "27  I thought Jewish Home (Grancell Village) was t...  ...                  555137\n",
              "28  When we took my wife to the doctor, she couldn...  ...                  555137\n",
              "29  We decided against Bonnie Brae because it's in...  ...                   55538\n",
              "30  I am currently at this rehab center and appare...  ...                   56195\n",
              "31  My father has been there for many months.  It ...  ...                   56195\n",
              "32  I visited Westside Health Care. It was very ni...  ...                  555139\n",
              "33  I have found a facility for my patient. The pa...  ...                  555139\n",
              "34  During recent months I was an IV patient at th...  ...                   55670\n",
              "35  I am so impressed by the integrity of this fac...  ...                   55670\n",
              "36  This 5 Star facility took great pride in takin...  ...                   55670\n",
              "37  My father was in this facility only 10 days, H...  ...                   55670\n",
              "38  My father was at Broadway Manor. My father had...  ...                   55670\n",
              "39  Excellent facility! We researched many facilit...  ...                   55670\n",
              "40  He gets good care, and Broadway Manor contacts...  ...                   55670\n",
              "41  My dad is at Live Oak Rehab Center, and I like...  ...                   56127\n",
              "42  Small, dirty, smelly rooms shared between two ...  ...                   55288\n",
              "43  Clothing thief\\rIn the first week and a half, ...  ...                   55288\n",
              "44  Autumn Hills is good, but my relative has to m...  ...                   55288\n",
              "45  My dad is currently in Autumn Hills a skilled ...  ...                   55288\n",
              "46  My mother was at this facility this for 13 day...  ...                   56129\n",
              "47  I was imprisoned here for a week after knee re...  ...                   56129\n",
              "48  Burbank Healthcare & Rehabilitation Center is ...  ...                   56129\n",
              "49  My brother was transferred to this location fo...  ...                   56129\n",
              "50  It's a clean center and there's no smell. My m...  ...                   56129\n",
              "51  My father suffered a massive stroke which left...  ...                   56129\n",
              "52  Frequently it is impossible to get anyone to a...  ...                   55052\n",
              "53  Not enough help!!! My mother laid in feces 41/...  ...                   55052\n",
              "54  I don't like this place at all! They have bad ...  ...                   55052\n",
              "55  Situated in a busy commercial area, Bloomfield...  ...                   55052\n",
              "56  The facilities are not kept very well. The pat...  ...                   55052\n",
              "57  High turn over in personel. Poor equipment. Ca...  ...                   55052\n",
              "\n",
              "[58 rows x 3 columns]"
            ]
          },
          "metadata": {
            "tags": []
          },
          "execution_count": 71
        }
      ]
    },
    {
      "cell_type": "code",
      "metadata": {
        "id": "dV3w6N5v5aXc"
      },
      "source": [
        "afinn = afinn.Afinn(language='en')\r\n",
        "vader = SentimentIntensityAnalyzer()"
      ],
      "execution_count": null,
      "outputs": []
    },
    {
      "cell_type": "code",
      "metadata": {
        "id": "EfHrnZ7k5bqL"
      },
      "source": [
        "test['afinn_scores'] = test['review'].apply(lambda review: np.array(afinn.scores(review)).sum())\r\n",
        "test['vader_scores'] = test['review'].apply(lambda review: vader.polarity_scores(review)['compound'])"
      ],
      "execution_count": null,
      "outputs": []
    },
    {
      "cell_type": "code",
      "metadata": {
        "colab": {
          "base_uri": "https://localhost:8080/",
          "height": 1000
        },
        "id": "aSqcRHWT5cdn",
        "outputId": "6ed926f8-aa01-429c-d169-aeccf7007e30"
      },
      "source": [
        "test"
      ],
      "execution_count": null,
      "outputs": [
        {
          "output_type": "execute_result",
          "data": {
            "text/html": [
              "<div>\n",
              "<style scoped>\n",
              "    .dataframe tbody tr th:only-of-type {\n",
              "        vertical-align: middle;\n",
              "    }\n",
              "\n",
              "    .dataframe tbody tr th {\n",
              "        vertical-align: top;\n",
              "    }\n",
              "\n",
              "    .dataframe thead th {\n",
              "        text-align: right;\n",
              "    }\n",
              "</style>\n",
              "<table border=\"1\" class=\"dataframe\">\n",
              "  <thead>\n",
              "    <tr style=\"text-align: right;\">\n",
              "      <th></th>\n",
              "      <th>review</th>\n",
              "      <th>Provider Name</th>\n",
              "      <th>Federal Provider Number</th>\n",
              "      <th>afinn_scores</th>\n",
              "      <th>vader_scores</th>\n",
              "    </tr>\n",
              "  </thead>\n",
              "  <tbody>\n",
              "    <tr>\n",
              "      <th>0</th>\n",
              "      <td>I enjoyed the visit with my client at Angels N...</td>\n",
              "      <td>ANGELS NURSING HEALTH CENTER</td>\n",
              "      <td>55704</td>\n",
              "      <td>15</td>\n",
              "      <td>0.9768</td>\n",
              "    </tr>\n",
              "    <tr>\n",
              "      <th>1</th>\n",
              "      <td>Hollenbeck Palms is a nice place, a good place...</td>\n",
              "      <td>HOLLENBECK PALMS</td>\n",
              "      <td>55115</td>\n",
              "      <td>25</td>\n",
              "      <td>0.9873</td>\n",
              "    </tr>\n",
              "    <tr>\n",
              "      <th>2</th>\n",
              "      <td>Hollenbeck Palms was beautiful. It's just that...</td>\n",
              "      <td>HOLLENBECK PALMS</td>\n",
              "      <td>55115</td>\n",
              "      <td>9</td>\n",
              "      <td>0.7845</td>\n",
              "    </tr>\n",
              "    <tr>\n",
              "      <th>3</th>\n",
              "      <td>Hollenbeck Palms was nice, and the staff seeme...</td>\n",
              "      <td>HOLLENBECK PALMS</td>\n",
              "      <td>55115</td>\n",
              "      <td>13</td>\n",
              "      <td>0.9352</td>\n",
              "    </tr>\n",
              "    <tr>\n",
              "      <th>4</th>\n",
              "      <td>Hollenbeck Palms is one of the oldest faciliti...</td>\n",
              "      <td>HOLLENBECK PALMS</td>\n",
              "      <td>55115</td>\n",
              "      <td>21</td>\n",
              "      <td>0.9796</td>\n",
              "    </tr>\n",
              "    <tr>\n",
              "      <th>5</th>\n",
              "      <td>Hollenbeck is a pretty nice place and well sta...</td>\n",
              "      <td>HOLLENBECK PALMS</td>\n",
              "      <td>55115</td>\n",
              "      <td>19</td>\n",
              "      <td>0.9638</td>\n",
              "    </tr>\n",
              "    <tr>\n",
              "      <th>6</th>\n",
              "      <td>Everything at Hollenbeck Palms, like the rooms...</td>\n",
              "      <td>HOLLENBECK PALMS</td>\n",
              "      <td>55115</td>\n",
              "      <td>5</td>\n",
              "      <td>-0.0126</td>\n",
              "    </tr>\n",
              "    <tr>\n",
              "      <th>7</th>\n",
              "      <td>My cousin is at Hollenbeck Palms and the place...</td>\n",
              "      <td>HOLLENBECK PALMS</td>\n",
              "      <td>55115</td>\n",
              "      <td>11</td>\n",
              "      <td>0.7808</td>\n",
              "    </tr>\n",
              "    <tr>\n",
              "      <th>8</th>\n",
              "      <td>Everything was good. I was impressed with Holl...</td>\n",
              "      <td>HOLLENBECK PALMS</td>\n",
              "      <td>55115</td>\n",
              "      <td>22</td>\n",
              "      <td>0.9755</td>\n",
              "    </tr>\n",
              "    <tr>\n",
              "      <th>9</th>\n",
              "      <td>I cannot say enough good things about Hollenbe...</td>\n",
              "      <td>HOLLENBECK PALMS</td>\n",
              "      <td>55115</td>\n",
              "      <td>51</td>\n",
              "      <td>0.9940</td>\n",
              "    </tr>\n",
              "    <tr>\n",
              "      <th>10</th>\n",
              "      <td>We visited Hollenbeck Palms. The staff was ver...</td>\n",
              "      <td>HOLLENBECK PALMS</td>\n",
              "      <td>55115</td>\n",
              "      <td>18</td>\n",
              "      <td>0.9646</td>\n",
              "    </tr>\n",
              "    <tr>\n",
              "      <th>11</th>\n",
              "      <td>Hollenbeck Palms is one of the best places aro...</td>\n",
              "      <td>HOLLENBECK PALMS</td>\n",
              "      <td>55115</td>\n",
              "      <td>28</td>\n",
              "      <td>0.9944</td>\n",
              "    </tr>\n",
              "    <tr>\n",
              "      <th>12</th>\n",
              "      <td>The staff at Hollenbeck Palms was wonderful. T...</td>\n",
              "      <td>HOLLENBECK PALMS</td>\n",
              "      <td>55115</td>\n",
              "      <td>10</td>\n",
              "      <td>0.9133</td>\n",
              "    </tr>\n",
              "    <tr>\n",
              "      <th>13</th>\n",
              "      <td>We have moved my wife’s parents in Hollenbeck ...</td>\n",
              "      <td>HOLLENBECK PALMS</td>\n",
              "      <td>55115</td>\n",
              "      <td>14</td>\n",
              "      <td>0.9702</td>\n",
              "    </tr>\n",
              "    <tr>\n",
              "      <th>14</th>\n",
              "      <td>Very welcoming with options for care and plans...</td>\n",
              "      <td>HOLLENBECK PALMS</td>\n",
              "      <td>55115</td>\n",
              "      <td>4</td>\n",
              "      <td>0.9020</td>\n",
              "    </tr>\n",
              "    <tr>\n",
              "      <th>15</th>\n",
              "      <td>Hollenbeck Palms was nice. The one who took us...</td>\n",
              "      <td>HOLLENBECK PALMS</td>\n",
              "      <td>55115</td>\n",
              "      <td>17</td>\n",
              "      <td>0.9530</td>\n",
              "    </tr>\n",
              "    <tr>\n",
              "      <th>16</th>\n",
              "      <td>Hollenbeck Palms was clean. The staff was very...</td>\n",
              "      <td>HOLLENBECK PALMS</td>\n",
              "      <td>55115</td>\n",
              "      <td>19</td>\n",
              "      <td>0.9738</td>\n",
              "    </tr>\n",
              "    <tr>\n",
              "      <th>17</th>\n",
              "      <td>Hollenbeck Palms is phenomenal. The facility a...</td>\n",
              "      <td>HOLLENBECK PALMS</td>\n",
              "      <td>55115</td>\n",
              "      <td>11</td>\n",
              "      <td>0.9565</td>\n",
              "    </tr>\n",
              "    <tr>\n",
              "      <th>18</th>\n",
              "      <td>My grandfather moved to Hollenbeck Home once h...</td>\n",
              "      <td>HOLLENBECK PALMS</td>\n",
              "      <td>55115</td>\n",
              "      <td>19</td>\n",
              "      <td>0.9965</td>\n",
              "    </tr>\n",
              "    <tr>\n",
              "      <th>19</th>\n",
              "      <td>I think Hollenbeck assisted living facility is...</td>\n",
              "      <td>HOLLENBECK PALMS</td>\n",
              "      <td>55115</td>\n",
              "      <td>11</td>\n",
              "      <td>0.9638</td>\n",
              "    </tr>\n",
              "    <tr>\n",
              "      <th>20</th>\n",
              "      <td>The apartments at Hollenbeck Palms were beauti...</td>\n",
              "      <td>HOLLENBECK PALMS</td>\n",
              "      <td>55115</td>\n",
              "      <td>28</td>\n",
              "      <td>0.9893</td>\n",
              "    </tr>\n",
              "    <tr>\n",
              "      <th>21</th>\n",
              "      <td>I had a good experience with Hollenbeck Palms,...</td>\n",
              "      <td>HOLLENBECK PALMS</td>\n",
              "      <td>55115</td>\n",
              "      <td>11</td>\n",
              "      <td>0.9216</td>\n",
              "    </tr>\n",
              "    <tr>\n",
              "      <th>22</th>\n",
              "      <td>I liked Hollenbeck Palms, but I didn’t like th...</td>\n",
              "      <td>HOLLENBECK PALMS</td>\n",
              "      <td>55115</td>\n",
              "      <td>7</td>\n",
              "      <td>0.9170</td>\n",
              "    </tr>\n",
              "    <tr>\n",
              "      <th>23</th>\n",
              "      <td>Hollenbeck Palms was nice, and I enjoyed it. I...</td>\n",
              "      <td>HOLLENBECK PALMS</td>\n",
              "      <td>55115</td>\n",
              "      <td>18</td>\n",
              "      <td>0.9865</td>\n",
              "    </tr>\n",
              "    <tr>\n",
              "      <th>24</th>\n",
              "      <td>I stayed at Hollenbeck Palms and I didn't like...</td>\n",
              "      <td>HOLLENBECK PALMS</td>\n",
              "      <td>55115</td>\n",
              "      <td>16</td>\n",
              "      <td>0.9597</td>\n",
              "    </tr>\n",
              "    <tr>\n",
              "      <th>25</th>\n",
              "      <td>My wife wasn't happy with the Hollenbeck Palms...</td>\n",
              "      <td>HOLLENBECK PALMS</td>\n",
              "      <td>55115</td>\n",
              "      <td>5</td>\n",
              "      <td>0.8602</td>\n",
              "    </tr>\n",
              "    <tr>\n",
              "      <th>26</th>\n",
              "      <td>My husband is at Hollenbeck Palms and the faci...</td>\n",
              "      <td>HOLLENBECK PALMS</td>\n",
              "      <td>55115</td>\n",
              "      <td>7</td>\n",
              "      <td>0.8271</td>\n",
              "    </tr>\n",
              "    <tr>\n",
              "      <th>27</th>\n",
              "      <td>I thought Jewish Home (Grancell Village) was t...</td>\n",
              "      <td>LOS ANGELES JEWISH HOME</td>\n",
              "      <td>555137</td>\n",
              "      <td>19</td>\n",
              "      <td>0.9917</td>\n",
              "    </tr>\n",
              "    <tr>\n",
              "      <th>28</th>\n",
              "      <td>When we took my wife to the doctor, she couldn...</td>\n",
              "      <td>LOS ANGELES JEWISH HOME</td>\n",
              "      <td>555137</td>\n",
              "      <td>2</td>\n",
              "      <td>0.4576</td>\n",
              "    </tr>\n",
              "    <tr>\n",
              "      <th>29</th>\n",
              "      <td>We decided against Bonnie Brae because it's in...</td>\n",
              "      <td>BONNIE BRAE CONVALESCENT HOSP</td>\n",
              "      <td>55538</td>\n",
              "      <td>2</td>\n",
              "      <td>0.9621</td>\n",
              "    </tr>\n",
              "    <tr>\n",
              "      <th>30</th>\n",
              "      <td>I am currently at this rehab center and appare...</td>\n",
              "      <td>HANCOCK PARK REHABILITATION &amp; NURSING CENTER</td>\n",
              "      <td>56195</td>\n",
              "      <td>9</td>\n",
              "      <td>0.9747</td>\n",
              "    </tr>\n",
              "    <tr>\n",
              "      <th>31</th>\n",
              "      <td>My father has been there for many months.  It ...</td>\n",
              "      <td>HANCOCK PARK REHABILITATION &amp; NURSING CENTER</td>\n",
              "      <td>56195</td>\n",
              "      <td>5</td>\n",
              "      <td>-0.8846</td>\n",
              "    </tr>\n",
              "    <tr>\n",
              "      <th>32</th>\n",
              "      <td>I visited Westside Health Care. It was very ni...</td>\n",
              "      <td>WESTSIDE HEALTH CARE</td>\n",
              "      <td>555139</td>\n",
              "      <td>9</td>\n",
              "      <td>0.9261</td>\n",
              "    </tr>\n",
              "    <tr>\n",
              "      <th>33</th>\n",
              "      <td>I have found a facility for my patient. The pa...</td>\n",
              "      <td>WESTSIDE HEALTH CARE</td>\n",
              "      <td>555139</td>\n",
              "      <td>9</td>\n",
              "      <td>0.7720</td>\n",
              "    </tr>\n",
              "    <tr>\n",
              "      <th>34</th>\n",
              "      <td>During recent months I was an IV patient at th...</td>\n",
              "      <td>BROADWAY MANOR CARE CENTER</td>\n",
              "      <td>55670</td>\n",
              "      <td>15</td>\n",
              "      <td>0.9552</td>\n",
              "    </tr>\n",
              "    <tr>\n",
              "      <th>35</th>\n",
              "      <td>I am so impressed by the integrity of this fac...</td>\n",
              "      <td>BROADWAY MANOR CARE CENTER</td>\n",
              "      <td>55670</td>\n",
              "      <td>30</td>\n",
              "      <td>0.9773</td>\n",
              "    </tr>\n",
              "    <tr>\n",
              "      <th>36</th>\n",
              "      <td>This 5 Star facility took great pride in takin...</td>\n",
              "      <td>BROADWAY MANOR CARE CENTER</td>\n",
              "      <td>55670</td>\n",
              "      <td>21</td>\n",
              "      <td>0.9881</td>\n",
              "    </tr>\n",
              "    <tr>\n",
              "      <th>37</th>\n",
              "      <td>My father was in this facility only 10 days, H...</td>\n",
              "      <td>BROADWAY MANOR CARE CENTER</td>\n",
              "      <td>55670</td>\n",
              "      <td>-7</td>\n",
              "      <td>-0.9272</td>\n",
              "    </tr>\n",
              "    <tr>\n",
              "      <th>38</th>\n",
              "      <td>My father was at Broadway Manor. My father had...</td>\n",
              "      <td>BROADWAY MANOR CARE CENTER</td>\n",
              "      <td>55670</td>\n",
              "      <td>10</td>\n",
              "      <td>0.8555</td>\n",
              "    </tr>\n",
              "    <tr>\n",
              "      <th>39</th>\n",
              "      <td>Excellent facility! We researched many facilit...</td>\n",
              "      <td>BROADWAY MANOR CARE CENTER</td>\n",
              "      <td>55670</td>\n",
              "      <td>22</td>\n",
              "      <td>0.9872</td>\n",
              "    </tr>\n",
              "    <tr>\n",
              "      <th>40</th>\n",
              "      <td>He gets good care, and Broadway Manor contacts...</td>\n",
              "      <td>BROADWAY MANOR CARE CENTER</td>\n",
              "      <td>55670</td>\n",
              "      <td>16</td>\n",
              "      <td>0.8858</td>\n",
              "    </tr>\n",
              "    <tr>\n",
              "      <th>41</th>\n",
              "      <td>My dad is at Live Oak Rehab Center, and I like...</td>\n",
              "      <td>LIVE OAK REHAB CENTER</td>\n",
              "      <td>56127</td>\n",
              "      <td>3</td>\n",
              "      <td>0.5574</td>\n",
              "    </tr>\n",
              "    <tr>\n",
              "      <th>42</th>\n",
              "      <td>Small, dirty, smelly rooms shared between two ...</td>\n",
              "      <td>AUTUMN HILLS HEALTH CARE</td>\n",
              "      <td>55288</td>\n",
              "      <td>-21</td>\n",
              "      <td>-0.9790</td>\n",
              "    </tr>\n",
              "    <tr>\n",
              "      <th>43</th>\n",
              "      <td>Clothing thief\\rIn the first week and a half, ...</td>\n",
              "      <td>AUTUMN HILLS HEALTH CARE</td>\n",
              "      <td>55288</td>\n",
              "      <td>-5</td>\n",
              "      <td>-0.6697</td>\n",
              "    </tr>\n",
              "    <tr>\n",
              "      <th>44</th>\n",
              "      <td>Autumn Hills is good, but my relative has to m...</td>\n",
              "      <td>AUTUMN HILLS HEALTH CARE</td>\n",
              "      <td>55288</td>\n",
              "      <td>9</td>\n",
              "      <td>0.9144</td>\n",
              "    </tr>\n",
              "    <tr>\n",
              "      <th>45</th>\n",
              "      <td>My dad is currently in Autumn Hills a skilled ...</td>\n",
              "      <td>AUTUMN HILLS HEALTH CARE</td>\n",
              "      <td>55288</td>\n",
              "      <td>9</td>\n",
              "      <td>-0.9011</td>\n",
              "    </tr>\n",
              "    <tr>\n",
              "      <th>46</th>\n",
              "      <td>My mother was at this facility this for 13 day...</td>\n",
              "      <td>BURBANK HEALTHCARE &amp; REHAB</td>\n",
              "      <td>56129</td>\n",
              "      <td>-10</td>\n",
              "      <td>-0.9501</td>\n",
              "    </tr>\n",
              "    <tr>\n",
              "      <th>47</th>\n",
              "      <td>I was imprisoned here for a week after knee re...</td>\n",
              "      <td>BURBANK HEALTHCARE &amp; REHAB</td>\n",
              "      <td>56129</td>\n",
              "      <td>8</td>\n",
              "      <td>0.3493</td>\n",
              "    </tr>\n",
              "    <tr>\n",
              "      <th>48</th>\n",
              "      <td>Burbank Healthcare &amp; Rehabilitation Center is ...</td>\n",
              "      <td>BURBANK HEALTHCARE &amp; REHAB</td>\n",
              "      <td>56129</td>\n",
              "      <td>15</td>\n",
              "      <td>0.9677</td>\n",
              "    </tr>\n",
              "    <tr>\n",
              "      <th>49</th>\n",
              "      <td>My brother was transferred to this location fo...</td>\n",
              "      <td>BURBANK HEALTHCARE &amp; REHAB</td>\n",
              "      <td>56129</td>\n",
              "      <td>-2</td>\n",
              "      <td>0.6281</td>\n",
              "    </tr>\n",
              "    <tr>\n",
              "      <th>50</th>\n",
              "      <td>It's a clean center and there's no smell. My m...</td>\n",
              "      <td>BURBANK HEALTHCARE &amp; REHAB</td>\n",
              "      <td>56129</td>\n",
              "      <td>10</td>\n",
              "      <td>0.9640</td>\n",
              "    </tr>\n",
              "    <tr>\n",
              "      <th>51</th>\n",
              "      <td>My father suffered a massive stroke which left...</td>\n",
              "      <td>BURBANK HEALTHCARE &amp; REHAB</td>\n",
              "      <td>56129</td>\n",
              "      <td>8</td>\n",
              "      <td>0.9845</td>\n",
              "    </tr>\n",
              "    <tr>\n",
              "      <th>52</th>\n",
              "      <td>Frequently it is impossible to get anyone to a...</td>\n",
              "      <td>CALIFORNIA POST ACUTE CARE</td>\n",
              "      <td>55052</td>\n",
              "      <td>0</td>\n",
              "      <td>-0.0772</td>\n",
              "    </tr>\n",
              "    <tr>\n",
              "      <th>53</th>\n",
              "      <td>Not enough help!!! My mother laid in feces 41/...</td>\n",
              "      <td>CALIFORNIA POST ACUTE CARE</td>\n",
              "      <td>55052</td>\n",
              "      <td>0</td>\n",
              "      <td>-0.8274</td>\n",
              "    </tr>\n",
              "    <tr>\n",
              "      <th>54</th>\n",
              "      <td>I don't like this place at all! They have bad ...</td>\n",
              "      <td>CALIFORNIA POST ACUTE CARE</td>\n",
              "      <td>55052</td>\n",
              "      <td>-5</td>\n",
              "      <td>-0.9775</td>\n",
              "    </tr>\n",
              "    <tr>\n",
              "      <th>55</th>\n",
              "      <td>Situated in a busy commercial area, Bloomfield...</td>\n",
              "      <td>CALIFORNIA POST ACUTE CARE</td>\n",
              "      <td>55052</td>\n",
              "      <td>12</td>\n",
              "      <td>0.9274</td>\n",
              "    </tr>\n",
              "    <tr>\n",
              "      <th>56</th>\n",
              "      <td>The facilities are not kept very well. The pat...</td>\n",
              "      <td>CALIFORNIA POST ACUTE CARE</td>\n",
              "      <td>55052</td>\n",
              "      <td>-6</td>\n",
              "      <td>-0.7879</td>\n",
              "    </tr>\n",
              "    <tr>\n",
              "      <th>57</th>\n",
              "      <td>High turn over in personel. Poor equipment. Ca...</td>\n",
              "      <td>CALIFORNIA POST ACUTE CARE</td>\n",
              "      <td>55052</td>\n",
              "      <td>-4</td>\n",
              "      <td>-0.6239</td>\n",
              "    </tr>\n",
              "  </tbody>\n",
              "</table>\n",
              "</div>"
            ],
            "text/plain": [
              "                                               review  ... vader_scores\n",
              "0   I enjoyed the visit with my client at Angels N...  ...       0.9768\n",
              "1   Hollenbeck Palms is a nice place, a good place...  ...       0.9873\n",
              "2   Hollenbeck Palms was beautiful. It's just that...  ...       0.7845\n",
              "3   Hollenbeck Palms was nice, and the staff seeme...  ...       0.9352\n",
              "4   Hollenbeck Palms is one of the oldest faciliti...  ...       0.9796\n",
              "5   Hollenbeck is a pretty nice place and well sta...  ...       0.9638\n",
              "6   Everything at Hollenbeck Palms, like the rooms...  ...      -0.0126\n",
              "7   My cousin is at Hollenbeck Palms and the place...  ...       0.7808\n",
              "8   Everything was good. I was impressed with Holl...  ...       0.9755\n",
              "9   I cannot say enough good things about Hollenbe...  ...       0.9940\n",
              "10  We visited Hollenbeck Palms. The staff was ver...  ...       0.9646\n",
              "11  Hollenbeck Palms is one of the best places aro...  ...       0.9944\n",
              "12  The staff at Hollenbeck Palms was wonderful. T...  ...       0.9133\n",
              "13  We have moved my wife’s parents in Hollenbeck ...  ...       0.9702\n",
              "14  Very welcoming with options for care and plans...  ...       0.9020\n",
              "15  Hollenbeck Palms was nice. The one who took us...  ...       0.9530\n",
              "16  Hollenbeck Palms was clean. The staff was very...  ...       0.9738\n",
              "17  Hollenbeck Palms is phenomenal. The facility a...  ...       0.9565\n",
              "18  My grandfather moved to Hollenbeck Home once h...  ...       0.9965\n",
              "19  I think Hollenbeck assisted living facility is...  ...       0.9638\n",
              "20  The apartments at Hollenbeck Palms were beauti...  ...       0.9893\n",
              "21  I had a good experience with Hollenbeck Palms,...  ...       0.9216\n",
              "22  I liked Hollenbeck Palms, but I didn’t like th...  ...       0.9170\n",
              "23  Hollenbeck Palms was nice, and I enjoyed it. I...  ...       0.9865\n",
              "24  I stayed at Hollenbeck Palms and I didn't like...  ...       0.9597\n",
              "25  My wife wasn't happy with the Hollenbeck Palms...  ...       0.8602\n",
              "26  My husband is at Hollenbeck Palms and the faci...  ...       0.8271\n",
              "27  I thought Jewish Home (Grancell Village) was t...  ...       0.9917\n",
              "28  When we took my wife to the doctor, she couldn...  ...       0.4576\n",
              "29  We decided against Bonnie Brae because it's in...  ...       0.9621\n",
              "30  I am currently at this rehab center and appare...  ...       0.9747\n",
              "31  My father has been there for many months.  It ...  ...      -0.8846\n",
              "32  I visited Westside Health Care. It was very ni...  ...       0.9261\n",
              "33  I have found a facility for my patient. The pa...  ...       0.7720\n",
              "34  During recent months I was an IV patient at th...  ...       0.9552\n",
              "35  I am so impressed by the integrity of this fac...  ...       0.9773\n",
              "36  This 5 Star facility took great pride in takin...  ...       0.9881\n",
              "37  My father was in this facility only 10 days, H...  ...      -0.9272\n",
              "38  My father was at Broadway Manor. My father had...  ...       0.8555\n",
              "39  Excellent facility! We researched many facilit...  ...       0.9872\n",
              "40  He gets good care, and Broadway Manor contacts...  ...       0.8858\n",
              "41  My dad is at Live Oak Rehab Center, and I like...  ...       0.5574\n",
              "42  Small, dirty, smelly rooms shared between two ...  ...      -0.9790\n",
              "43  Clothing thief\\rIn the first week and a half, ...  ...      -0.6697\n",
              "44  Autumn Hills is good, but my relative has to m...  ...       0.9144\n",
              "45  My dad is currently in Autumn Hills a skilled ...  ...      -0.9011\n",
              "46  My mother was at this facility this for 13 day...  ...      -0.9501\n",
              "47  I was imprisoned here for a week after knee re...  ...       0.3493\n",
              "48  Burbank Healthcare & Rehabilitation Center is ...  ...       0.9677\n",
              "49  My brother was transferred to this location fo...  ...       0.6281\n",
              "50  It's a clean center and there's no smell. My m...  ...       0.9640\n",
              "51  My father suffered a massive stroke which left...  ...       0.9845\n",
              "52  Frequently it is impossible to get anyone to a...  ...      -0.0772\n",
              "53  Not enough help!!! My mother laid in feces 41/...  ...      -0.8274\n",
              "54  I don't like this place at all! They have bad ...  ...      -0.9775\n",
              "55  Situated in a busy commercial area, Bloomfield...  ...       0.9274\n",
              "56  The facilities are not kept very well. The pat...  ...      -0.7879\n",
              "57  High turn over in personel. Poor equipment. Ca...  ...      -0.6239\n",
              "\n",
              "[58 rows x 5 columns]"
            ]
          },
          "metadata": {
            "tags": []
          },
          "execution_count": 77
        }
      ]
    },
    {
      "cell_type": "code",
      "metadata": {
        "colab": {
          "background_save": true,
          "base_uri": "https://localhost:8080/"
        },
        "id": "PfPQnKzy5fQf",
        "outputId": "4898819c-2f3a-4069-f7e4-b477564b18e0"
      },
      "source": [
        "test.groupby('afinn_scores').size()"
      ],
      "execution_count": null,
      "outputs": [
        {
          "output_type": "execute_result",
          "data": {
            "text/plain": [
              "afinn_scores\n",
              "-21    1\n",
              "-10    1\n",
              "-7     1\n",
              "-6     1\n",
              "-5     2\n",
              "-4     1\n",
              "-2     1\n",
              " 0     2\n",
              " 2     2\n",
              " 3     1\n",
              " 4     1\n",
              " 5     3\n",
              " 7     2\n",
              " 8     2\n",
              " 9     6\n",
              " 10    3\n",
              " 11    4\n",
              " 12    1\n",
              " 13    1\n",
              " 14    1\n",
              " 15    3\n",
              " 16    2\n",
              " 17    1\n",
              " 18    2\n",
              " 19    4\n",
              " 21    2\n",
              " 22    2\n",
              " 25    1\n",
              " 28    2\n",
              " 30    1\n",
              " 51    1\n",
              "dtype: int64"
            ]
          },
          "metadata": {
            "tags": []
          },
          "execution_count": 0
        }
      ]
    },
    {
      "cell_type": "code",
      "metadata": {
        "colab": {
          "base_uri": "https://localhost:8080/",
          "height": 223
        },
        "id": "8m4ROvZx5hOB",
        "outputId": "35f991b8-4763-4252-e151-a85205014bad"
      },
      "source": [
        "test.loc[test['afinn_scores']>25]"
      ],
      "execution_count": null,
      "outputs": [
        {
          "output_type": "execute_result",
          "data": {
            "text/html": [
              "<div>\n",
              "<style scoped>\n",
              "    .dataframe tbody tr th:only-of-type {\n",
              "        vertical-align: middle;\n",
              "    }\n",
              "\n",
              "    .dataframe tbody tr th {\n",
              "        vertical-align: top;\n",
              "    }\n",
              "\n",
              "    .dataframe thead th {\n",
              "        text-align: right;\n",
              "    }\n",
              "</style>\n",
              "<table border=\"1\" class=\"dataframe\">\n",
              "  <thead>\n",
              "    <tr style=\"text-align: right;\">\n",
              "      <th></th>\n",
              "      <th>review</th>\n",
              "      <th>Provider Name</th>\n",
              "      <th>Federal Provider Number</th>\n",
              "      <th>afinn_scores</th>\n",
              "      <th>vader_scores</th>\n",
              "    </tr>\n",
              "  </thead>\n",
              "  <tbody>\n",
              "    <tr>\n",
              "      <th>9</th>\n",
              "      <td>I cannot say enough good things about Hollenbe...</td>\n",
              "      <td>HOLLENBECK PALMS</td>\n",
              "      <td>55115</td>\n",
              "      <td>51</td>\n",
              "      <td>0.9940</td>\n",
              "    </tr>\n",
              "    <tr>\n",
              "      <th>11</th>\n",
              "      <td>Hollenbeck Palms is one of the best places aro...</td>\n",
              "      <td>HOLLENBECK PALMS</td>\n",
              "      <td>55115</td>\n",
              "      <td>28</td>\n",
              "      <td>0.9944</td>\n",
              "    </tr>\n",
              "    <tr>\n",
              "      <th>20</th>\n",
              "      <td>The apartments at Hollenbeck Palms were beauti...</td>\n",
              "      <td>HOLLENBECK PALMS</td>\n",
              "      <td>55115</td>\n",
              "      <td>28</td>\n",
              "      <td>0.9893</td>\n",
              "    </tr>\n",
              "    <tr>\n",
              "      <th>35</th>\n",
              "      <td>I am so impressed by the integrity of this fac...</td>\n",
              "      <td>BROADWAY MANOR CARE CENTER</td>\n",
              "      <td>55670</td>\n",
              "      <td>30</td>\n",
              "      <td>0.9773</td>\n",
              "    </tr>\n",
              "  </tbody>\n",
              "</table>\n",
              "</div>"
            ],
            "text/plain": [
              "                                               review  ... vader_scores\n",
              "9   I cannot say enough good things about Hollenbe...  ...       0.9940\n",
              "11  Hollenbeck Palms is one of the best places aro...  ...       0.9944\n",
              "20  The apartments at Hollenbeck Palms were beauti...  ...       0.9893\n",
              "35  I am so impressed by the integrity of this fac...  ...       0.9773\n",
              "\n",
              "[4 rows x 5 columns]"
            ]
          },
          "metadata": {
            "tags": []
          },
          "execution_count": 79
        }
      ]
    },
    {
      "cell_type": "code",
      "metadata": {
        "colab": {
          "base_uri": "https://localhost:8080/",
          "height": 425
        },
        "id": "qhJEqK2B5iZD",
        "outputId": "58c1ab01-94e8-4b14-83b5-3e53dc63521c"
      },
      "source": [
        "test.loc[test['vader_scores']>0.98]"
      ],
      "execution_count": null,
      "outputs": [
        {
          "output_type": "execute_result",
          "data": {
            "text/html": [
              "<div>\n",
              "<style scoped>\n",
              "    .dataframe tbody tr th:only-of-type {\n",
              "        vertical-align: middle;\n",
              "    }\n",
              "\n",
              "    .dataframe tbody tr th {\n",
              "        vertical-align: top;\n",
              "    }\n",
              "\n",
              "    .dataframe thead th {\n",
              "        text-align: right;\n",
              "    }\n",
              "</style>\n",
              "<table border=\"1\" class=\"dataframe\">\n",
              "  <thead>\n",
              "    <tr style=\"text-align: right;\">\n",
              "      <th></th>\n",
              "      <th>review</th>\n",
              "      <th>Provider Name</th>\n",
              "      <th>Federal Provider Number</th>\n",
              "      <th>afinn_scores</th>\n",
              "      <th>vader_scores</th>\n",
              "    </tr>\n",
              "  </thead>\n",
              "  <tbody>\n",
              "    <tr>\n",
              "      <th>1</th>\n",
              "      <td>Hollenbeck Palms is a nice place, a good place...</td>\n",
              "      <td>HOLLENBECK PALMS</td>\n",
              "      <td>55115</td>\n",
              "      <td>25</td>\n",
              "      <td>0.9873</td>\n",
              "    </tr>\n",
              "    <tr>\n",
              "      <th>9</th>\n",
              "      <td>I cannot say enough good things about Hollenbe...</td>\n",
              "      <td>HOLLENBECK PALMS</td>\n",
              "      <td>55115</td>\n",
              "      <td>51</td>\n",
              "      <td>0.9940</td>\n",
              "    </tr>\n",
              "    <tr>\n",
              "      <th>11</th>\n",
              "      <td>Hollenbeck Palms is one of the best places aro...</td>\n",
              "      <td>HOLLENBECK PALMS</td>\n",
              "      <td>55115</td>\n",
              "      <td>28</td>\n",
              "      <td>0.9944</td>\n",
              "    </tr>\n",
              "    <tr>\n",
              "      <th>18</th>\n",
              "      <td>My grandfather moved to Hollenbeck Home once h...</td>\n",
              "      <td>HOLLENBECK PALMS</td>\n",
              "      <td>55115</td>\n",
              "      <td>19</td>\n",
              "      <td>0.9965</td>\n",
              "    </tr>\n",
              "    <tr>\n",
              "      <th>20</th>\n",
              "      <td>The apartments at Hollenbeck Palms were beauti...</td>\n",
              "      <td>HOLLENBECK PALMS</td>\n",
              "      <td>55115</td>\n",
              "      <td>28</td>\n",
              "      <td>0.9893</td>\n",
              "    </tr>\n",
              "    <tr>\n",
              "      <th>23</th>\n",
              "      <td>Hollenbeck Palms was nice, and I enjoyed it. I...</td>\n",
              "      <td>HOLLENBECK PALMS</td>\n",
              "      <td>55115</td>\n",
              "      <td>18</td>\n",
              "      <td>0.9865</td>\n",
              "    </tr>\n",
              "    <tr>\n",
              "      <th>27</th>\n",
              "      <td>I thought Jewish Home (Grancell Village) was t...</td>\n",
              "      <td>LOS ANGELES JEWISH HOME</td>\n",
              "      <td>555137</td>\n",
              "      <td>19</td>\n",
              "      <td>0.9917</td>\n",
              "    </tr>\n",
              "    <tr>\n",
              "      <th>36</th>\n",
              "      <td>This 5 Star facility took great pride in takin...</td>\n",
              "      <td>BROADWAY MANOR CARE CENTER</td>\n",
              "      <td>55670</td>\n",
              "      <td>21</td>\n",
              "      <td>0.9881</td>\n",
              "    </tr>\n",
              "    <tr>\n",
              "      <th>39</th>\n",
              "      <td>Excellent facility! We researched many facilit...</td>\n",
              "      <td>BROADWAY MANOR CARE CENTER</td>\n",
              "      <td>55670</td>\n",
              "      <td>22</td>\n",
              "      <td>0.9872</td>\n",
              "    </tr>\n",
              "    <tr>\n",
              "      <th>51</th>\n",
              "      <td>My father suffered a massive stroke which left...</td>\n",
              "      <td>BURBANK HEALTHCARE &amp; REHAB</td>\n",
              "      <td>56129</td>\n",
              "      <td>8</td>\n",
              "      <td>0.9845</td>\n",
              "    </tr>\n",
              "  </tbody>\n",
              "</table>\n",
              "</div>"
            ],
            "text/plain": [
              "                                               review  ... vader_scores\n",
              "1   Hollenbeck Palms is a nice place, a good place...  ...       0.9873\n",
              "9   I cannot say enough good things about Hollenbe...  ...       0.9940\n",
              "11  Hollenbeck Palms is one of the best places aro...  ...       0.9944\n",
              "18  My grandfather moved to Hollenbeck Home once h...  ...       0.9965\n",
              "20  The apartments at Hollenbeck Palms were beauti...  ...       0.9893\n",
              "23  Hollenbeck Palms was nice, and I enjoyed it. I...  ...       0.9865\n",
              "27  I thought Jewish Home (Grancell Village) was t...  ...       0.9917\n",
              "36  This 5 Star facility took great pride in takin...  ...       0.9881\n",
              "39  Excellent facility! We researched many facilit...  ...       0.9872\n",
              "51  My father suffered a massive stroke which left...  ...       0.9845\n",
              "\n",
              "[10 rows x 5 columns]"
            ]
          },
          "metadata": {
            "tags": []
          },
          "execution_count": 80
        }
      ]
    },
    {
      "cell_type": "code",
      "metadata": {
        "colab": {
          "base_uri": "https://localhost:8080/",
          "height": 273
        },
        "id": "bbcbMmQW34GE",
        "outputId": "abf2a0bb-bcd3-4884-e7a5-9df435b4d3af"
      },
      "source": [
        "#HOLLENBECK PALMS\thas 3 reviews with afinn scores over 25 & 6 reviews with vader scores over 0.98, its overall rating is 4.0\r\n",
        "df2.loc[df2['Provider Name']== 'HOLLENBECK PALMS']"
      ],
      "execution_count": null,
      "outputs": [
        {
          "output_type": "execute_result",
          "data": {
            "text/html": [
              "<div>\n",
              "<style scoped>\n",
              "    .dataframe tbody tr th:only-of-type {\n",
              "        vertical-align: middle;\n",
              "    }\n",
              "\n",
              "    .dataframe tbody tr th {\n",
              "        vertical-align: top;\n",
              "    }\n",
              "\n",
              "    .dataframe thead th {\n",
              "        text-align: right;\n",
              "    }\n",
              "</style>\n",
              "<table border=\"1\" class=\"dataframe\">\n",
              "  <thead>\n",
              "    <tr style=\"text-align: right;\">\n",
              "      <th></th>\n",
              "      <th>Federal Provider Number</th>\n",
              "      <th>Provider Name</th>\n",
              "      <th>Provider Address</th>\n",
              "      <th>Provider City</th>\n",
              "      <th>Provider State</th>\n",
              "      <th>Provider SSA County Code</th>\n",
              "      <th>Provider County Name</th>\n",
              "      <th>Ownership Type</th>\n",
              "      <th>Number of Certified Beds</th>\n",
              "      <th>Average Number of Residents per Day</th>\n",
              "      <th>Provider Type</th>\n",
              "      <th>Provider Resides in Hospital</th>\n",
              "      <th>Legal Business Name</th>\n",
              "      <th>Date First Approved to Provide Medicare and Medicaid Services</th>\n",
              "      <th>Continuing Care Retirement Community</th>\n",
              "      <th>Abuse Icon</th>\n",
              "      <th>Most Recent Health Inspection More Than 2 Years Ago</th>\n",
              "      <th>Provider Changed Ownership in Last 12 Months</th>\n",
              "      <th>With a Resident and Family Council</th>\n",
              "      <th>Automatic Sprinkler Systems in All Required Areas</th>\n",
              "      <th>Overall Rating</th>\n",
              "      <th>Health Inspection Rating</th>\n",
              "      <th>QM Rating</th>\n",
              "      <th>Long-Stay QM Rating</th>\n",
              "      <th>Short-Stay QM Rating</th>\n",
              "      <th>Staffing Rating</th>\n",
              "      <th>RN Staffing Rating</th>\n",
              "      <th>Reported Nurse Aide Staffing Hours per Resident per Day</th>\n",
              "      <th>Reported LPN Staffing Hours per Resident per Day</th>\n",
              "      <th>Reported RN Staffing Hours per Resident per Day</th>\n",
              "      <th>Reported Licensed Staffing Hours per Resident per Day</th>\n",
              "      <th>Reported Total Nurse Staffing Hours per Resident per Day</th>\n",
              "      <th>Reported Physical Therapist Staffing Hours per Resident Per Day</th>\n",
              "      <th>Case-Mix Nurse Aide Staffing Hours per Resident per Day</th>\n",
              "      <th>Case-Mix LPN Staffing Hours per Resident per Day</th>\n",
              "      <th>Case-Mix RN Staffing Hours per Resident per Day</th>\n",
              "      <th>Case-Mix Total Nurse Staffing Hours per Resident per Day</th>\n",
              "      <th>Adjusted Nurse Aide Staffing Hours per Resident per Day</th>\n",
              "      <th>Adjusted LPN Staffing Hours per Resident per Day</th>\n",
              "      <th>Adjusted RN Staffing Hours per Resident per Day</th>\n",
              "      <th>Adjusted Total Nurse Staffing Hours per Resident per Day</th>\n",
              "      <th>Rating Cycle 1 Standard Survey Health Date</th>\n",
              "      <th>Rating Cycle 1 Total Number of Health Deficiencies</th>\n",
              "      <th>Rating Cycle 1 Number of Standard Health Deficiencies</th>\n",
              "      <th>Rating Cycle 1 Number of Complaint Health Deficiencies</th>\n",
              "      <th>Rating Cycle 1 Health Deficiency Score</th>\n",
              "      <th>Rating Cycle 1 Number of Health Revisits</th>\n",
              "      <th>Rating Cycle 1 Health Revisit Score</th>\n",
              "      <th>Rating Cycle 1 Total Health Score</th>\n",
              "      <th>Rating Cycle 2 Standard Health Survey Date</th>\n",
              "      <th>Rating Cycle 2 Total Number of Health Deficiencies</th>\n",
              "      <th>Rating Cycle 2 Number of Standard Health Deficiencies</th>\n",
              "      <th>Rating Cycle 2 Number of Complaint Health Deficiencies</th>\n",
              "      <th>Rating Cycle 2 Health Deficiency Score</th>\n",
              "      <th>Rating Cycle 2 Number of Health Revisits</th>\n",
              "      <th>Rating Cycle 2 Health Revisit Score</th>\n",
              "      <th>Rating Cycle 2 Total Health Score</th>\n",
              "      <th>Rating Cycle 3 Standard Health Survey Date</th>\n",
              "      <th>Rating Cycle 3 Total Number of Health Deficiencies</th>\n",
              "      <th>Rating Cycle 3 Number of Standard Health Deficiencies</th>\n",
              "      <th>Rating Cycle 3 Number of Complaint Health Deficiencies</th>\n",
              "      <th>Rating Cycle 3 Health Deficiency Score</th>\n",
              "      <th>Rating Cycle 3 Number of Health Revisits</th>\n",
              "      <th>Rating Cycle 3 Health Revisit Score</th>\n",
              "      <th>Rating Cycle 3 Total Health Score</th>\n",
              "      <th>Total Weighted Health Survey Score</th>\n",
              "      <th>Number of Facility Reported Incidents</th>\n",
              "      <th>Number of Substantiated Complaints</th>\n",
              "      <th>Number of Citations from Infection Control Inspections</th>\n",
              "      <th>Number of Fines</th>\n",
              "      <th>Total Amount of Fines in Dollars</th>\n",
              "      <th>Number of Payment Denials</th>\n",
              "      <th>Total Number of Penalties</th>\n",
              "      <th>Location</th>\n",
              "      <th>Processing Date</th>\n",
              "    </tr>\n",
              "  </thead>\n",
              "  <tbody>\n",
              "    <tr>\n",
              "      <th>660</th>\n",
              "      <td>055115</td>\n",
              "      <td>HOLLENBECK PALMS</td>\n",
              "      <td>573 S. BOYLE AVE.</td>\n",
              "      <td>LOS ANGELES</td>\n",
              "      <td>CA</td>\n",
              "      <td>200</td>\n",
              "      <td>Los Angeles</td>\n",
              "      <td>Non profit - Corporation</td>\n",
              "      <td>106</td>\n",
              "      <td>52.4</td>\n",
              "      <td>Medicare and Medicaid</td>\n",
              "      <td>N</td>\n",
              "      <td>HOLLENBECK PALMS</td>\n",
              "      <td>1967-01-01</td>\n",
              "      <td>Y</td>\n",
              "      <td>N</td>\n",
              "      <td>N</td>\n",
              "      <td>N</td>\n",
              "      <td>Both</td>\n",
              "      <td>Yes</td>\n",
              "      <td>4.0</td>\n",
              "      <td>2.0</td>\n",
              "      <td>5.0</td>\n",
              "      <td>5.0</td>\n",
              "      <td>5.0</td>\n",
              "      <td>5.0</td>\n",
              "      <td>5.0</td>\n",
              "      <td>3.00569</td>\n",
              "      <td>0.91868</td>\n",
              "      <td>0.75822</td>\n",
              "      <td>1.6769</td>\n",
              "      <td>4.68259</td>\n",
              "      <td>0.09368</td>\n",
              "      <td>2.05034</td>\n",
              "      <td>0.6553</td>\n",
              "      <td>0.25679</td>\n",
              "      <td>2.96242</td>\n",
              "      <td>3.0243</td>\n",
              "      <td>1.03865</td>\n",
              "      <td>1.16361</td>\n",
              "      <td>5.05494</td>\n",
              "      <td>2019-04-08</td>\n",
              "      <td>11</td>\n",
              "      <td>10</td>\n",
              "      <td>1</td>\n",
              "      <td>52</td>\n",
              "      <td>2</td>\n",
              "      <td>26</td>\n",
              "      <td>78</td>\n",
              "      <td>2018-03-25</td>\n",
              "      <td>18</td>\n",
              "      <td>18</td>\n",
              "      <td>0</td>\n",
              "      <td>84</td>\n",
              "      <td>1</td>\n",
              "      <td>0</td>\n",
              "      <td>84</td>\n",
              "      <td>2017-04-21</td>\n",
              "      <td>15</td>\n",
              "      <td>9</td>\n",
              "      <td>6</td>\n",
              "      <td>84</td>\n",
              "      <td>1</td>\n",
              "      <td>0</td>\n",
              "      <td>84</td>\n",
              "      <td>81.0</td>\n",
              "      <td>1</td>\n",
              "      <td>10</td>\n",
              "      <td>0.0</td>\n",
              "      <td>1</td>\n",
              "      <td>42500</td>\n",
              "      <td>0</td>\n",
              "      <td>1</td>\n",
              "      <td>573 S. BOYLE AVE.,LOS ANGELES,CA,90033</td>\n",
              "      <td>2021-02-01</td>\n",
              "    </tr>\n",
              "  </tbody>\n",
              "</table>\n",
              "</div>"
            ],
            "text/plain": [
              "    Federal Provider Number  ... Processing Date\n",
              "660                  055115  ...      2021-02-01\n",
              "\n",
              "[1 rows x 75 columns]"
            ]
          },
          "metadata": {
            "tags": []
          },
          "execution_count": 72
        }
      ]
    },
    {
      "cell_type": "code",
      "metadata": {
        "colab": {
          "base_uri": "https://localhost:8080/",
          "height": 307
        },
        "id": "uAhCbynz37oM",
        "outputId": "213debc8-e1f0-4a54-bb20-2c43a5e32c99"
      },
      "source": [
        "#BROADWAY MANOR CARE CENTER has 1 review with afinn score over 25 & 2 reviews with vader scores over 0.98, its overall rating is 3.0\r\n",
        "df2.loc[df2['Provider Name']== 'BROADWAY MANOR CARE CENTER']"
      ],
      "execution_count": null,
      "outputs": [
        {
          "output_type": "execute_result",
          "data": {
            "text/html": [
              "<div>\n",
              "<style scoped>\n",
              "    .dataframe tbody tr th:only-of-type {\n",
              "        vertical-align: middle;\n",
              "    }\n",
              "\n",
              "    .dataframe tbody tr th {\n",
              "        vertical-align: top;\n",
              "    }\n",
              "\n",
              "    .dataframe thead th {\n",
              "        text-align: right;\n",
              "    }\n",
              "</style>\n",
              "<table border=\"1\" class=\"dataframe\">\n",
              "  <thead>\n",
              "    <tr style=\"text-align: right;\">\n",
              "      <th></th>\n",
              "      <th>Federal Provider Number</th>\n",
              "      <th>Provider Name</th>\n",
              "      <th>Provider Address</th>\n",
              "      <th>Provider City</th>\n",
              "      <th>Provider State</th>\n",
              "      <th>Provider SSA County Code</th>\n",
              "      <th>Provider County Name</th>\n",
              "      <th>Ownership Type</th>\n",
              "      <th>Number of Certified Beds</th>\n",
              "      <th>Average Number of Residents per Day</th>\n",
              "      <th>Provider Type</th>\n",
              "      <th>Provider Resides in Hospital</th>\n",
              "      <th>Legal Business Name</th>\n",
              "      <th>Date First Approved to Provide Medicare and Medicaid Services</th>\n",
              "      <th>Continuing Care Retirement Community</th>\n",
              "      <th>Abuse Icon</th>\n",
              "      <th>Most Recent Health Inspection More Than 2 Years Ago</th>\n",
              "      <th>Provider Changed Ownership in Last 12 Months</th>\n",
              "      <th>With a Resident and Family Council</th>\n",
              "      <th>Automatic Sprinkler Systems in All Required Areas</th>\n",
              "      <th>Overall Rating</th>\n",
              "      <th>Health Inspection Rating</th>\n",
              "      <th>QM Rating</th>\n",
              "      <th>Long-Stay QM Rating</th>\n",
              "      <th>Short-Stay QM Rating</th>\n",
              "      <th>Staffing Rating</th>\n",
              "      <th>RN Staffing Rating</th>\n",
              "      <th>Reported Nurse Aide Staffing Hours per Resident per Day</th>\n",
              "      <th>Reported LPN Staffing Hours per Resident per Day</th>\n",
              "      <th>Reported RN Staffing Hours per Resident per Day</th>\n",
              "      <th>Reported Licensed Staffing Hours per Resident per Day</th>\n",
              "      <th>Reported Total Nurse Staffing Hours per Resident per Day</th>\n",
              "      <th>Reported Physical Therapist Staffing Hours per Resident Per Day</th>\n",
              "      <th>Case-Mix Nurse Aide Staffing Hours per Resident per Day</th>\n",
              "      <th>Case-Mix LPN Staffing Hours per Resident per Day</th>\n",
              "      <th>Case-Mix RN Staffing Hours per Resident per Day</th>\n",
              "      <th>Case-Mix Total Nurse Staffing Hours per Resident per Day</th>\n",
              "      <th>Adjusted Nurse Aide Staffing Hours per Resident per Day</th>\n",
              "      <th>Adjusted LPN Staffing Hours per Resident per Day</th>\n",
              "      <th>Adjusted RN Staffing Hours per Resident per Day</th>\n",
              "      <th>Adjusted Total Nurse Staffing Hours per Resident per Day</th>\n",
              "      <th>Rating Cycle 1 Standard Survey Health Date</th>\n",
              "      <th>Rating Cycle 1 Total Number of Health Deficiencies</th>\n",
              "      <th>Rating Cycle 1 Number of Standard Health Deficiencies</th>\n",
              "      <th>Rating Cycle 1 Number of Complaint Health Deficiencies</th>\n",
              "      <th>Rating Cycle 1 Health Deficiency Score</th>\n",
              "      <th>Rating Cycle 1 Number of Health Revisits</th>\n",
              "      <th>Rating Cycle 1 Health Revisit Score</th>\n",
              "      <th>Rating Cycle 1 Total Health Score</th>\n",
              "      <th>Rating Cycle 2 Standard Health Survey Date</th>\n",
              "      <th>Rating Cycle 2 Total Number of Health Deficiencies</th>\n",
              "      <th>Rating Cycle 2 Number of Standard Health Deficiencies</th>\n",
              "      <th>Rating Cycle 2 Number of Complaint Health Deficiencies</th>\n",
              "      <th>Rating Cycle 2 Health Deficiency Score</th>\n",
              "      <th>Rating Cycle 2 Number of Health Revisits</th>\n",
              "      <th>Rating Cycle 2 Health Revisit Score</th>\n",
              "      <th>Rating Cycle 2 Total Health Score</th>\n",
              "      <th>Rating Cycle 3 Standard Health Survey Date</th>\n",
              "      <th>Rating Cycle 3 Total Number of Health Deficiencies</th>\n",
              "      <th>Rating Cycle 3 Number of Standard Health Deficiencies</th>\n",
              "      <th>Rating Cycle 3 Number of Complaint Health Deficiencies</th>\n",
              "      <th>Rating Cycle 3 Health Deficiency Score</th>\n",
              "      <th>Rating Cycle 3 Number of Health Revisits</th>\n",
              "      <th>Rating Cycle 3 Health Revisit Score</th>\n",
              "      <th>Rating Cycle 3 Total Health Score</th>\n",
              "      <th>Total Weighted Health Survey Score</th>\n",
              "      <th>Number of Facility Reported Incidents</th>\n",
              "      <th>Number of Substantiated Complaints</th>\n",
              "      <th>Number of Citations from Infection Control Inspections</th>\n",
              "      <th>Number of Fines</th>\n",
              "      <th>Total Amount of Fines in Dollars</th>\n",
              "      <th>Number of Payment Denials</th>\n",
              "      <th>Total Number of Penalties</th>\n",
              "      <th>Location</th>\n",
              "      <th>Processing Date</th>\n",
              "    </tr>\n",
              "  </thead>\n",
              "  <tbody>\n",
              "    <tr>\n",
              "      <th>873</th>\n",
              "      <td>055670</td>\n",
              "      <td>BROADWAY MANOR CARE CENTER</td>\n",
              "      <td>605 WEST BROADWAY</td>\n",
              "      <td>GLENDALE</td>\n",
              "      <td>CA</td>\n",
              "      <td>200</td>\n",
              "      <td>Los Angeles</td>\n",
              "      <td>For profit - Individual</td>\n",
              "      <td>78</td>\n",
              "      <td>49.3</td>\n",
              "      <td>Medicare and Medicaid</td>\n",
              "      <td>N</td>\n",
              "      <td>BROADWAY MANOR CARE CENTER, INC.</td>\n",
              "      <td>1974-04-01</td>\n",
              "      <td>N</td>\n",
              "      <td>N</td>\n",
              "      <td>N</td>\n",
              "      <td>N</td>\n",
              "      <td>Both</td>\n",
              "      <td>Yes</td>\n",
              "      <td>3.0</td>\n",
              "      <td>2.0</td>\n",
              "      <td>4.0</td>\n",
              "      <td>3.0</td>\n",
              "      <td>5.0</td>\n",
              "      <td>4.0</td>\n",
              "      <td>3.0</td>\n",
              "      <td>2.70632</td>\n",
              "      <td>1.29165</td>\n",
              "      <td>0.63613</td>\n",
              "      <td>1.92778</td>\n",
              "      <td>4.6341</td>\n",
              "      <td>0.16851</td>\n",
              "      <td>2.19905</td>\n",
              "      <td>0.73849</td>\n",
              "      <td>0.34377</td>\n",
              "      <td>3.28131</td>\n",
              "      <td>2.53893</td>\n",
              "      <td>1.29582</td>\n",
              "      <td>0.72923</td>\n",
              "      <td>4.51643</td>\n",
              "      <td>2019-09-03</td>\n",
              "      <td>20</td>\n",
              "      <td>17</td>\n",
              "      <td>4</td>\n",
              "      <td>88</td>\n",
              "      <td>1</td>\n",
              "      <td>0</td>\n",
              "      <td>88</td>\n",
              "      <td>2018-09-15</td>\n",
              "      <td>16</td>\n",
              "      <td>13</td>\n",
              "      <td>3</td>\n",
              "      <td>100</td>\n",
              "      <td>1</td>\n",
              "      <td>0</td>\n",
              "      <td>100</td>\n",
              "      <td>2017-09-17</td>\n",
              "      <td>15</td>\n",
              "      <td>15</td>\n",
              "      <td>0</td>\n",
              "      <td>68</td>\n",
              "      <td>1</td>\n",
              "      <td>0</td>\n",
              "      <td>68</td>\n",
              "      <td>88.667</td>\n",
              "      <td>1</td>\n",
              "      <td>3</td>\n",
              "      <td>0.0</td>\n",
              "      <td>0</td>\n",
              "      <td>0</td>\n",
              "      <td>0</td>\n",
              "      <td>0</td>\n",
              "      <td>605 WEST BROADWAY,GLENDALE,CA,91204</td>\n",
              "      <td>2021-02-01</td>\n",
              "    </tr>\n",
              "  </tbody>\n",
              "</table>\n",
              "</div>"
            ],
            "text/plain": [
              "    Federal Provider Number  ... Processing Date\n",
              "873                  055670  ...      2021-02-01\n",
              "\n",
              "[1 rows x 75 columns]"
            ]
          },
          "metadata": {
            "tags": []
          },
          "execution_count": 73
        }
      ]
    }
  ]
}